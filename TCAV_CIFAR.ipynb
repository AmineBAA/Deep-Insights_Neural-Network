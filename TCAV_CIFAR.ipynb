{
  "nbformat": 4,
  "nbformat_minor": 0,
  "metadata": {
    "colab": {
      "provenance": [],
      "authorship_tag": "ABX9TyNOJjv7sSaj/oVGRdhtSrb2",
      "include_colab_link": true
    },
    "kernelspec": {
      "name": "python3",
      "display_name": "Python 3"
    },
    "language_info": {
      "name": "python"
    }
  },
  "cells": [
    {
      "cell_type": "markdown",
      "metadata": {
        "id": "view-in-github",
        "colab_type": "text"
      },
      "source": [
        "<a href=\"https://colab.research.google.com/github/AmineBAA/Deep-Insights_Neural-Network/blob/main/TCAV_CIFAR.ipynb\" target=\"_parent\"><img src=\"https://colab.research.google.com/assets/colab-badge.svg\" alt=\"Open In Colab\"/></a>"
      ]
    },
    {
      "cell_type": "markdown",
      "source": [
        "# TCAV for CIFAR10"
      ],
      "metadata": {
        "id": "EyMLcscYL_o5"
      }
    },
    {
      "cell_type": "markdown",
      "source": [
        "## 1. Libraries"
      ],
      "metadata": {
        "id": "83rldNzngJQF"
      }
    },
    {
      "cell_type": "code",
      "source": [
        "pip install captum"
      ],
      "metadata": {
        "colab": {
          "base_uri": "https://localhost:8080/"
        },
        "id": "Kprs1M-gkjf0",
        "outputId": "2645dc00-eb96-447c-ab2d-691ac4b446f9"
      },
      "execution_count": 1,
      "outputs": [
        {
          "output_type": "stream",
          "name": "stdout",
          "text": [
            "Collecting captum\n",
            "  Downloading captum-0.6.0-py3-none-any.whl (1.3 MB)\n",
            "\u001b[2K     \u001b[90m━━━━━━━━━━━━━━━━━━━━━━━━━━━━━━━━━━━━━━━━\u001b[0m \u001b[32m1.3/1.3 MB\u001b[0m \u001b[31m7.8 MB/s\u001b[0m eta \u001b[36m0:00:00\u001b[0m\n",
            "\u001b[?25hRequirement already satisfied: matplotlib in /usr/local/lib/python3.10/dist-packages (from captum) (3.7.1)\n",
            "Requirement already satisfied: numpy in /usr/local/lib/python3.10/dist-packages (from captum) (1.23.5)\n",
            "Requirement already satisfied: torch>=1.6 in /usr/local/lib/python3.10/dist-packages (from captum) (2.0.1+cu118)\n",
            "Requirement already satisfied: filelock in /usr/local/lib/python3.10/dist-packages (from torch>=1.6->captum) (3.12.2)\n",
            "Requirement already satisfied: typing-extensions in /usr/local/lib/python3.10/dist-packages (from torch>=1.6->captum) (4.5.0)\n",
            "Requirement already satisfied: sympy in /usr/local/lib/python3.10/dist-packages (from torch>=1.6->captum) (1.12)\n",
            "Requirement already satisfied: networkx in /usr/local/lib/python3.10/dist-packages (from torch>=1.6->captum) (3.1)\n",
            "Requirement already satisfied: jinja2 in /usr/local/lib/python3.10/dist-packages (from torch>=1.6->captum) (3.1.2)\n",
            "Requirement already satisfied: triton==2.0.0 in /usr/local/lib/python3.10/dist-packages (from torch>=1.6->captum) (2.0.0)\n",
            "Requirement already satisfied: cmake in /usr/local/lib/python3.10/dist-packages (from triton==2.0.0->torch>=1.6->captum) (3.27.4.1)\n",
            "Requirement already satisfied: lit in /usr/local/lib/python3.10/dist-packages (from triton==2.0.0->torch>=1.6->captum) (16.0.6)\n",
            "Requirement already satisfied: contourpy>=1.0.1 in /usr/local/lib/python3.10/dist-packages (from matplotlib->captum) (1.1.0)\n",
            "Requirement already satisfied: cycler>=0.10 in /usr/local/lib/python3.10/dist-packages (from matplotlib->captum) (0.11.0)\n",
            "Requirement already satisfied: fonttools>=4.22.0 in /usr/local/lib/python3.10/dist-packages (from matplotlib->captum) (4.42.1)\n",
            "Requirement already satisfied: kiwisolver>=1.0.1 in /usr/local/lib/python3.10/dist-packages (from matplotlib->captum) (1.4.5)\n",
            "Requirement already satisfied: packaging>=20.0 in /usr/local/lib/python3.10/dist-packages (from matplotlib->captum) (23.1)\n",
            "Requirement already satisfied: pillow>=6.2.0 in /usr/local/lib/python3.10/dist-packages (from matplotlib->captum) (9.4.0)\n",
            "Requirement already satisfied: pyparsing>=2.3.1 in /usr/local/lib/python3.10/dist-packages (from matplotlib->captum) (3.1.1)\n",
            "Requirement already satisfied: python-dateutil>=2.7 in /usr/local/lib/python3.10/dist-packages (from matplotlib->captum) (2.8.2)\n",
            "Requirement already satisfied: six>=1.5 in /usr/local/lib/python3.10/dist-packages (from python-dateutil>=2.7->matplotlib->captum) (1.16.0)\n",
            "Requirement already satisfied: MarkupSafe>=2.0 in /usr/local/lib/python3.10/dist-packages (from jinja2->torch>=1.6->captum) (2.1.3)\n",
            "Requirement already satisfied: mpmath>=0.19 in /usr/local/lib/python3.10/dist-packages (from sympy->torch>=1.6->captum) (1.3.0)\n",
            "Installing collected packages: captum\n",
            "Successfully installed captum-0.6.0\n"
          ]
        }
      ]
    },
    {
      "cell_type": "code",
      "source": [
        "from captum.concept._core.concept import Concept, ConceptInterpreter"
      ],
      "metadata": {
        "id": "5kHh78FhkjaI"
      },
      "execution_count": 2,
      "outputs": []
    },
    {
      "cell_type": "code",
      "source": [
        "from tensorflow.python.client import device_lib\n",
        "device_lib.list_local_devices()"
      ],
      "metadata": {
        "colab": {
          "base_uri": "https://localhost:8080/"
        },
        "id": "Zybq3tHEMHHf",
        "outputId": "0b6a760e-f53f-4c57-f527-b39fe0d2371c"
      },
      "execution_count": 3,
      "outputs": [
        {
          "output_type": "execute_result",
          "data": {
            "text/plain": [
              "[name: \"/device:CPU:0\"\n",
              " device_type: \"CPU\"\n",
              " memory_limit: 268435456\n",
              " locality {\n",
              " }\n",
              " incarnation: 7675904008419236714\n",
              " xla_global_id: -1]"
            ]
          },
          "metadata": {},
          "execution_count": 3
        }
      ]
    },
    {
      "cell_type": "code",
      "source": [
        "!git clone https://github.com/pnxenopoulos/cav-keras.git\n",
        "!cp -R cav-keras/cav cav/"
      ],
      "metadata": {
        "colab": {
          "base_uri": "https://localhost:8080/"
        },
        "id": "Kj4Rc-l6MHEP",
        "outputId": "beb1dfb5-5ad0-4158-fc82-2498f47068a9"
      },
      "execution_count": 4,
      "outputs": [
        {
          "output_type": "stream",
          "name": "stdout",
          "text": [
            "Cloning into 'cav-keras'...\n",
            "remote: Enumerating objects: 369, done.\u001b[K\n",
            "remote: Counting objects: 100% (6/6), done.\u001b[K\n",
            "remote: Compressing objects: 100% (6/6), done.\u001b[K\n",
            "remote: Total 369 (delta 1), reused 0 (delta 0), pack-reused 363\u001b[K\n",
            "Receiving objects: 100% (369/369), 23.58 MiB | 30.91 MiB/s, done.\n",
            "Resolving deltas: 100% (161/161), done.\n"
          ]
        }
      ]
    },
    {
      "cell_type": "code",
      "execution_count": 5,
      "metadata": {
        "id": "lBwgnC2EL-da"
      },
      "outputs": [],
      "source": [
        "import numpy as np\n",
        "\n",
        "import matplotlib.pyplot as plt\n",
        "import seaborn as sns\n",
        "\n",
        "import keras\n",
        "from keras.datasets import cifar100, cifar10\n",
        "from keras.preprocessing.image import ImageDataGenerator\n",
        "from keras.models import Sequential\n",
        "from keras.layers import Dense, Dropout, Activation, Flatten\n",
        "from keras.layers import Conv2D, MaxPooling2D\n",
        "\n",
        "import sys\n",
        "import os\n",
        "sys.path.insert(0, os.path.abspath('../..'))\n",
        "\n",
        "from cav.tcav import *\n",
        "\n",
        "np.random.seed(1996)"
      ]
    },
    {
      "cell_type": "markdown",
      "source": [
        "## 2. Dataset"
      ],
      "metadata": {
        "id": "YAQFifOMgM4-"
      }
    },
    {
      "cell_type": "code",
      "source": [],
      "metadata": {
        "id": "Ng6vxcvW5GSa"
      },
      "execution_count": null,
      "outputs": []
    },
    {
      "cell_type": "code",
      "source": [
        "(x_train, y_train), (x_test, y_test) = cifar100.load_data()\n",
        "\n",
        "# Keep ships (8) from CIFAR-10\n",
        "interested_class = y_train == [43]\n",
        "interested_class_indx = [i for i, x in enumerate(interested_class) if x]\n",
        "x_train_class_one = x_train[interested_class_indx]\n",
        "other = y_train == [2]\n",
        "other_indx = [i for i, x in enumerate(other) if x]\n",
        "x_train_class_two = x_train[other_indx]\n",
        "\n",
        "x_train = np.append(x_train_class_one, x_train_class_two, axis = 0)\n",
        "y_train = [1] * 500\n",
        "y_train = y_train + [0] * 500\n",
        "\n",
        "x_train = x_train.astype('float32')\n",
        "x_test = x_test.astype('float32')\n",
        "x_train /= 255\n",
        "x_test /= 255"
      ],
      "metadata": {
        "id": "TRetHTi4L--a"
      },
      "execution_count": 79,
      "outputs": []
    },
    {
      "cell_type": "code",
      "source": [
        "f, axarr = plt.subplots(1,2)\n",
        "axarr[0].imshow(x_train[5])\n",
        "axarr[1].imshow(x_train[600])"
      ],
      "metadata": {
        "colab": {
          "base_uri": "https://localhost:8080/",
          "height": 305
        },
        "id": "IcWIr94AL_BO",
        "outputId": "898df832-7bfb-4488-83e6-387fa2d0e319"
      },
      "execution_count": 80,
      "outputs": [
        {
          "output_type": "execute_result",
          "data": {
            "text/plain": [
              "<matplotlib.image.AxesImage at 0x79a09a9f2620>"
            ]
          },
          "metadata": {},
          "execution_count": 80
        },
        {
          "output_type": "display_data",
          "data": {
            "text/plain": [
              "<Figure size 640x480 with 2 Axes>"
            ],
            "image/png": "[encoded data removed]"
          },
          "metadata": {}
        }
      ]
    },
    {
      "cell_type": "code",
      "source": [
        "(x_train_concept, y_train_concept), (x_test_concept, y_test_concept) = cifar100.load_data()\n",
        "\n",
        "# keep sea (71) from CIFAR-100\n",
        "concept = y_train_concept == [71]\n",
        "indices = concept\n",
        "indx_to_use = [i for i, x in enumerate(indices) if x]\n",
        "\n",
        "x_train_concept = x_train_concept[indx_to_use]"
      ],
      "metadata": {
        "id": "6FBeDwLgMnPz"
      },
      "execution_count": 66,
      "outputs": []
    },
    {
      "cell_type": "code",
      "source": [
        "x_train.shape"
      ],
      "metadata": {
        "colab": {
          "base_uri": "https://localhost:8080/"
        },
        "id": "rZqfwXUwSnRi",
        "outputId": "cbac6060-bcf8-4eb7-d86a-e55e1e1f3ca8"
      },
      "execution_count": 67,
      "outputs": [
        {
          "output_type": "execute_result",
          "data": {
            "text/plain": [
              "(1000, 32, 32, 3)"
            ]
          },
          "metadata": {},
          "execution_count": 67
        }
      ]
    },
    {
      "cell_type": "code",
      "source": [
        "### Import concept dataset"
      ],
      "metadata": {
        "id": "0WnjbTO3IKnm"
      },
      "execution_count": null,
      "outputs": []
    },
    {
      "cell_type": "code",
      "source": [
        "import torchvision\n",
        "from torchvision import models\n",
        "from torchvision import transforms\n",
        "import torch\n",
        "import torch.nn.functional as F\n",
        "\n",
        "from PIL import Image\n",
        "\n",
        "import pandas as pd"
      ],
      "metadata": {
        "id": "Fgyw2qAtIgKG"
      },
      "execution_count": 81,
      "outputs": []
    },
    {
      "cell_type": "code",
      "source": [],
      "metadata": {
        "id": "qASqjZHFPVWO"
      },
      "execution_count": null,
      "outputs": []
    },
    {
      "cell_type": "code",
      "source": [
        "transform = transforms.Compose([\n",
        " transforms.Resize(256),\n",
        " transforms.CenterCrop(32),\n",
        " transforms.ToTensor()\n",
        "])\n",
        "\n",
        "transform_normalize = transforms.Normalize(\n",
        "     mean=[0.485, 0.456, 0.406],\n",
        "     std=[0.229, 0.224, 0.225]\n",
        " )\n",
        "\n",
        "img = Image.open('/content/Fourure_10.jpg')\n",
        "\n",
        "transformed_img = transform(img)\n",
        "\n",
        "input = transform_normalize(transformed_img)\n",
        "input = input.unsqueeze(0)"
      ],
      "metadata": {
        "id": "k8iL1a-TIKiu"
      },
      "execution_count": 27,
      "outputs": []
    },
    {
      "cell_type": "code",
      "source": [
        "#x_train_concept=input"
      ],
      "metadata": {
        "id": "UnYcMuMJPYSZ"
      },
      "execution_count": 10,
      "outputs": []
    },
    {
      "cell_type": "code",
      "source": [
        "x_train_concept = np.append(x_train_concept, input, axis = 0)"
      ],
      "metadata": {
        "id": "JrYC_29jIZLr"
      },
      "execution_count": 28,
      "outputs": []
    },
    {
      "cell_type": "code",
      "source": [
        "x_train_concept.shape"
      ],
      "metadata": {
        "colab": {
          "base_uri": "https://localhost:8080/"
        },
        "id": "uhduFFSGIZGJ",
        "outputId": "c22c6177-8d4f-4b86-b0c8-67db93eaaa01"
      },
      "execution_count": 29,
      "outputs": [
        {
          "output_type": "execute_result",
          "data": {
            "text/plain": [
              "(10, 3, 32, 32)"
            ]
          },
          "metadata": {},
          "execution_count": 29
        }
      ]
    },
    {
      "cell_type": "code",
      "source": [
        "x_train.shape"
      ],
      "metadata": {
        "colab": {
          "base_uri": "https://localhost:8080/"
        },
        "id": "HrwUjF7tIY-L",
        "outputId": "ff348ce9-c0b1-4b99-bdc9-7691a7c2ba90"
      },
      "execution_count": 30,
      "outputs": [
        {
          "output_type": "execute_result",
          "data": {
            "text/plain": [
              "(1000, 32, 32, 3)"
            ]
          },
          "metadata": {},
          "execution_count": 30
        }
      ]
    },
    {
      "cell_type": "code",
      "source": [
        "x_train_concept0=np.transpose(x_train_concept[0,])\n",
        "x_train_concept1=np.transpose(x_train_concept[1,])\n",
        "x_train_concept2=np.transpose(x_train_concept[2,])\n",
        "x_train_concept3=np.transpose(x_train_concept[3,])\n",
        "x_train_concept4=np.transpose(x_train_concept[4,])\n",
        "x_train_concept5=np.transpose(x_train_concept[5,])\n",
        "x_train_concept6=np.transpose(x_train_concept[6,])\n",
        "x_train_concept7=np.transpose(x_train_concept[7,])\n",
        "x_train_concept8=np.transpose(x_train_concept[8,])\n",
        "x_train_concept9=np.transpose(x_train_concept[9,])"
      ],
      "metadata": {
        "id": "-OGpeUasIY7F"
      },
      "execution_count": 31,
      "outputs": []
    },
    {
      "cell_type": "code",
      "source": [
        "x_train_concept0.shape"
      ],
      "metadata": {
        "colab": {
          "base_uri": "https://localhost:8080/"
        },
        "id": "3Dp7qyMmMT8V",
        "outputId": "d9be9408-9572-4b41-d1bb-62a7b4d19774"
      },
      "execution_count": null,
      "outputs": [
        {
          "output_type": "execute_result",
          "data": {
            "text/plain": [
              "(32, 32, 3)"
            ]
          },
          "metadata": {},
          "execution_count": 118
        }
      ]
    },
    {
      "cell_type": "code",
      "source": [
        "x_train_concept_smoothed=np.stack((x_train_concept0,\n",
        "                                   x_train_concept1,\n",
        "                                   x_train_concept2,\n",
        "                                   x_train_concept3,\n",
        "                                   x_train_concept4,\n",
        "                                   x_train_concept5,\n",
        "                                   x_train_concept6,\n",
        "                                   x_train_concept7,\n",
        "                                   x_train_concept8,\n",
        "                                   x_train_concept9\n",
        "                                   ), axis=0)"
      ],
      "metadata": {
        "id": "18vKUXnYKyby"
      },
      "execution_count": 32,
      "outputs": []
    },
    {
      "cell_type": "code",
      "source": [
        "x_train_concept_smoothed.shape"
      ],
      "metadata": {
        "colab": {
          "base_uri": "https://localhost:8080/"
        },
        "id": "d1csuHqTJzV5",
        "outputId": "e50c52dc-2a53-4c76-fe38-41ac17d0f366"
      },
      "execution_count": 45,
      "outputs": [
        {
          "output_type": "execute_result",
          "data": {
            "text/plain": [
              "(10, 32, 32, 3)"
            ]
          },
          "metadata": {},
          "execution_count": 45
        }
      ]
    },
    {
      "cell_type": "code",
      "source": [],
      "metadata": {
        "id": "XJeaXq_LJzQB"
      },
      "execution_count": null,
      "outputs": []
    },
    {
      "cell_type": "markdown",
      "source": [
        "## 3. Model setup"
      ],
      "metadata": {
        "id": "9IBa6KwugQJN"
      }
    },
    {
      "cell_type": "code",
      "source": [
        "batch_size = 32\n",
        "epochs = 10\n",
        "\n",
        "model = Sequential()\n",
        "model.add(Conv2D(32, (3, 3), padding='same', input_shape=x_train.shape[1:]))\n",
        "model.add(Activation('relu'))\n",
        "model.add(Conv2D(32, (3, 3)))\n",
        "model.add(Activation('relu'))\n",
        "model.add(MaxPooling2D(pool_size=(2, 2)))\n",
        "model.add(Dropout(0.25))\n",
        "\n",
        "model.add(Conv2D(64, (3, 3), padding='same'))\n",
        "model.add(Activation('relu'))\n",
        "model.add(Conv2D(64, (3, 3)))\n",
        "model.add(Activation('relu'))\n",
        "model.add(MaxPooling2D(pool_size=(2, 2)))\n",
        "model.add(Dropout(0.25))\n",
        "\n",
        "model.add(Conv2D(64, (3, 3), padding='same'))\n",
        "model.add(Activation('relu'))\n",
        "model.add(Conv2D(64, (3, 3)))\n",
        "model.add(Activation('relu'))\n",
        "model.add(MaxPooling2D(pool_size=(2, 2)))\n",
        "model.add(Dropout(0.25))\n",
        "\n",
        "model.add(Flatten())\n",
        "model.add(Dense(512))\n",
        "model.add(Activation('relu'))\n",
        "model.add(Dropout(0.5))\n",
        "model.add(Dense(1))\n",
        "model.add(Activation('sigmoid'))\n",
        "\n",
        "# initiate optimizer\n",
        "opt = keras.optimizers.legacy.Adam(learning_rate=0.001)\n",
        "\n",
        "# train the model\n",
        "model.compile(loss='binary_crossentropy', optimizer=opt, metrics=['accuracy'])\n",
        "\n"
      ],
      "metadata": {
        "id": "_a4_qIKsOII1"
      },
      "execution_count": 82,
      "outputs": []
    },
    {
      "cell_type": "code",
      "source": [
        "x_train = np.array(x_train)\n",
        "y_train = np.array(y_train)"
      ],
      "metadata": {
        "id": "xpm0k7FKfv2j"
      },
      "execution_count": 83,
      "outputs": []
    },
    {
      "cell_type": "code",
      "source": [
        "model.fit(x_train, y_train, batch_size=batch_size, epochs=epochs, shuffle=True)"
      ],
      "metadata": {
        "colab": {
          "base_uri": "https://localhost:8080/"
        },
        "id": "EyH5ovtLONqo",
        "outputId": "c8ad84c7-babf-4440-9149-758378d6e904"
      },
      "execution_count": 84,
      "outputs": [
        {
          "output_type": "stream",
          "name": "stdout",
          "text": [
            "Train on 1000 samples\n",
            "Epoch 1/10\n",
            "1000/1000 [==============================] - 5s 5ms/sample - loss: 0.6907 - accuracy: 0.5420\n",
            "Epoch 2/10\n",
            "1000/1000 [==============================] - 6s 6ms/sample - loss: 0.5887 - accuracy: 0.7120\n",
            "Epoch 3/10\n",
            "1000/1000 [==============================] - 4s 4ms/sample - loss: 0.5045 - accuracy: 0.7710\n",
            "Epoch 4/10\n",
            "1000/1000 [==============================] - 4s 4ms/sample - loss: 0.4724 - accuracy: 0.7960\n",
            "Epoch 5/10\n",
            "1000/1000 [==============================] - 6s 6ms/sample - loss: 0.4493 - accuracy: 0.7880\n",
            "Epoch 6/10\n",
            "1000/1000 [==============================] - 4s 4ms/sample - loss: 0.4575 - accuracy: 0.7860\n",
            "Epoch 7/10\n",
            "1000/1000 [==============================] - 4s 4ms/sample - loss: 0.3693 - accuracy: 0.8460\n",
            "Epoch 8/10\n",
            "1000/1000 [==============================] - 6s 6ms/sample - loss: 0.4256 - accuracy: 0.8260\n",
            "Epoch 9/10\n",
            "1000/1000 [==============================] - 4s 4ms/sample - loss: 0.3866 - accuracy: 0.8350\n",
            "Epoch 10/10\n",
            "1000/1000 [==============================] - 4s 4ms/sample - loss: 0.3531 - accuracy: 0.8500\n"
          ]
        },
        {
          "output_type": "execute_result",
          "data": {
            "text/plain": [
              "<keras.src.callbacks.History at 0x79a09a20c340>"
            ]
          },
          "metadata": {},
          "execution_count": 84
        }
      ]
    },
    {
      "cell_type": "code",
      "source": [
        "model.summary()"
      ],
      "metadata": {
        "id": "q3Q-9Keygd_G"
      },
      "execution_count": null,
      "outputs": []
    },
    {
      "cell_type": "code",
      "source": [
        "dir(model)"
      ],
      "metadata": {
        "id": "t4xuXG9YS5gV"
      },
      "execution_count": null,
      "outputs": []
    },
    {
      "cell_type": "code",
      "source": [
        "from tensorflow.keras import backend as K\n",
        "import tensorflow as tf\n",
        "tf.compat.v1.disable_eager_execution()\n",
        "\n",
        "layer_name = 'conv2d_10'\n",
        "filter_index = 0\n",
        "\n",
        "layer_output = model.get_layer(layer_name).output\n",
        "loss = K.mean(layer_output[:, :, :, filter_index])\n",
        "\n",
        "grads = K.gradients(loss, model.input)[0]"
      ],
      "metadata": {
        "id": "8Ci92nIosU6U"
      },
      "execution_count": 87,
      "outputs": []
    },
    {
      "cell_type": "markdown",
      "source": [
        "## 4. TCAV"
      ],
      "metadata": {
        "id": "rarc4X0igWP8"
      }
    },
    {
      "cell_type": "code",
      "source": [
        "mymodel=model"
      ],
      "metadata": {
        "id": "Q4VM7iHWq7K8"
      },
      "execution_count": 88,
      "outputs": []
    },
    {
      "cell_type": "code",
      "source": [
        "tcav_obj = TCAV()\n",
        "tcav_obj.set_model(mymodel)"
      ],
      "metadata": {
        "id": "9RXQ52NrMnCz"
      },
      "execution_count": 89,
      "outputs": []
    },
    {
      "cell_type": "code",
      "source": [
        "# Define the concepts\n",
        "x_train_concept_smoothed = np.array(x_train_concept_smoothed)"
      ],
      "metadata": {
        "id": "QO-oS2y0hM_j"
      },
      "execution_count": 72,
      "outputs": []
    },
    {
      "cell_type": "code",
      "source": [
        "tcav_obj.split_model(bottleneck = 0, conv_layer = True)\n",
        "tcav_obj.train_cav(x_train_concept_smoothed)"
      ],
      "metadata": {
        "colab": {
          "base_uri": "https://localhost:8080/"
        },
        "id": "SnlviriBMm9v",
        "outputId": "73a9a9c7-1a40-4be8-933c-23a91e8af879"
      },
      "execution_count": 90,
      "outputs": [
        {
          "output_type": "stream",
          "name": "stderr",
          "text": [
            "/usr/local/lib/python3.10/dist-packages/keras/src/engine/training_v1.py:2359: UserWarning: `Model.state_updates` will be removed in a future version. This property should not be used in TensorFlow 2.0, as `updates` are applied automatically.\n",
            "  updates=self.state_updates,\n"
          ]
        }
      ]
    },
    {
      "cell_type": "code",
      "source": [
        "tcav_obj.calculate_sensitivity(x_train, y_train)\n",
        "tcav_obj.print_sensitivity()"
      ],
      "metadata": {
        "colab": {
          "base_uri": "https://localhost:8080/"
        },
        "id": "Yeb3spzaL_CJ",
        "outputId": "8ce162e0-21a0-4048-c608-7e8791c8a75e"
      },
      "execution_count": 91,
      "outputs": [
        {
          "output_type": "stream",
          "name": "stdout",
          "text": [
            "The sensitivity of class 1 is  0.858\n",
            "The sensitivity of class 0 is  0.234\n"
          ]
        }
      ]
    },
    {
      "cell_type": "code",
      "source": [],
      "metadata": {
        "id": "mKgap6b-L_Gk"
      },
      "execution_count": null,
      "outputs": []
    },
    {
      "cell_type": "code",
      "source": [],
      "metadata": {
        "id": "ybLUtLm2L_Ja"
      },
      "execution_count": null,
      "outputs": []
    },
    {
      "cell_type": "code",
      "source": [],
      "metadata": {
        "id": "x9-leH5kL_MI"
      },
      "execution_count": null,
      "outputs": []
    }
  ]
}