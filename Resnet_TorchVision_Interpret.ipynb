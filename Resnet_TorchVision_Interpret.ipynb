{
  "cells": [
    {
      "cell_type": "markdown",
      "metadata": {
        "id": "view-in-github",
        "colab_type": "text"
      },
      "source": [
        "<a href=\"https://colab.research.google.com/github/AmineBAA/Deep-Insights_Neural-Network/blob/main/Resnet_TorchVision_Interpret.ipynb\" target=\"_parent\"><img src=\"https://colab.research.google.com/assets/colab-badge.svg\" alt=\"Open In Colab\"/></a>"
      ]
    },
    {
      "cell_type": "markdown",
      "metadata": {
        "id": "IigRlmI8siv7"
      },
      "source": [
        "# Model Interpretation for Pretrained ResNet Model: Neural activation classification with Autoencoder"
      ]
    },
    {
      "cell_type": "markdown",
      "metadata": {
        "id": "yiTZe7yasiwA"
      },
      "source": [
        "This notebook demonstrates how to apply model interpretability algorithms on pretrained ResNet model using a handpicked image and visualizes the attributions for each pixel by overlaying them on the image.\n",
        "\n",
        "Captum library privides function of Layer Conductance, that helps to evaluate importance of each neuron within a given Layer"
      ]
    },
    {
      "cell_type": "code",
      "source": [
        "pip install captum"
      ],
      "metadata": {
        "colab": {
          "base_uri": "https://localhost:8080/"
        },
        "id": "S0EeH6IIs9MF",
        "outputId": "a55b2d06-6def-4786-daba-cf5980001443"
      },
      "execution_count": 1,
      "outputs": [
        {
          "output_type": "stream",
          "name": "stdout",
          "text": [
            "Collecting captum\n",
            "  Downloading captum-0.6.0-py3-none-any.whl (1.3 MB)\n",
            "\u001b[2K     \u001b[90m━━━━━━━━━━━━━━━━━━━━━━━━━━━━━━━━━━━━━━━━\u001b[0m \u001b[32m1.3/1.3 MB\u001b[0m \u001b[31m7.7 MB/s\u001b[0m eta \u001b[36m0:00:00\u001b[0m\n",
            "\u001b[?25hRequirement already satisfied: matplotlib in /usr/local/lib/python3.10/dist-packages (from captum) (3.7.1)\n",
            "Requirement already satisfied: numpy in /usr/local/lib/python3.10/dist-packages (from captum) (1.23.5)\n",
            "Requirement already satisfied: torch>=1.6 in /usr/local/lib/python3.10/dist-packages (from captum) (2.0.1+cu118)\n",
            "Requirement already satisfied: filelock in /usr/local/lib/python3.10/dist-packages (from torch>=1.6->captum) (3.12.2)\n",
            "Requirement already satisfied: typing-extensions in /usr/local/lib/python3.10/dist-packages (from torch>=1.6->captum) (4.7.1)\n",
            "Requirement already satisfied: sympy in /usr/local/lib/python3.10/dist-packages (from torch>=1.6->captum) (1.12)\n",
            "Requirement already satisfied: networkx in /usr/local/lib/python3.10/dist-packages (from torch>=1.6->captum) (3.1)\n",
            "Requirement already satisfied: jinja2 in /usr/local/lib/python3.10/dist-packages (from torch>=1.6->captum) (3.1.2)\n",
            "Requirement already satisfied: triton==2.0.0 in /usr/local/lib/python3.10/dist-packages (from torch>=1.6->captum) (2.0.0)\n",
            "Requirement already satisfied: cmake in /usr/local/lib/python3.10/dist-packages (from triton==2.0.0->torch>=1.6->captum) (3.27.2)\n",
            "Requirement already satisfied: lit in /usr/local/lib/python3.10/dist-packages (from triton==2.0.0->torch>=1.6->captum) (16.0.6)\n",
            "Requirement already satisfied: contourpy>=1.0.1 in /usr/local/lib/python3.10/dist-packages (from matplotlib->captum) (1.1.0)\n",
            "Requirement already satisfied: cycler>=0.10 in /usr/local/lib/python3.10/dist-packages (from matplotlib->captum) (0.11.0)\n",
            "Requirement already satisfied: fonttools>=4.22.0 in /usr/local/lib/python3.10/dist-packages (from matplotlib->captum) (4.42.1)\n",
            "Requirement already satisfied: kiwisolver>=1.0.1 in /usr/local/lib/python3.10/dist-packages (from matplotlib->captum) (1.4.4)\n",
            "Requirement already satisfied: packaging>=20.0 in /usr/local/lib/python3.10/dist-packages (from matplotlib->captum) (23.1)\n",
            "Requirement already satisfied: pillow>=6.2.0 in /usr/local/lib/python3.10/dist-packages (from matplotlib->captum) (9.4.0)\n",
            "Requirement already satisfied: pyparsing>=2.3.1 in /usr/local/lib/python3.10/dist-packages (from matplotlib->captum) (3.1.1)\n",
            "Requirement already satisfied: python-dateutil>=2.7 in /usr/local/lib/python3.10/dist-packages (from matplotlib->captum) (2.8.2)\n",
            "Requirement already satisfied: six>=1.5 in /usr/local/lib/python3.10/dist-packages (from python-dateutil>=2.7->matplotlib->captum) (1.16.0)\n",
            "Requirement already satisfied: MarkupSafe>=2.0 in /usr/local/lib/python3.10/dist-packages (from jinja2->torch>=1.6->captum) (2.1.3)\n",
            "Requirement already satisfied: mpmath>=0.19 in /usr/local/lib/python3.10/dist-packages (from sympy->torch>=1.6->captum) (1.3.0)\n",
            "Installing collected packages: captum\n",
            "Successfully installed captum-0.6.0\n"
          ]
        }
      ]
    },
    {
      "cell_type": "code",
      "execution_count": 2,
      "metadata": {
        "id": "k8J2PydasiwB"
      },
      "outputs": [],
      "source": [
        "import torch\n",
        "import torch.nn.functional as F\n",
        "\n",
        "from PIL import Image\n",
        "\n",
        "import os\n",
        "import json\n",
        "import numpy as np\n",
        "from matplotlib.colors import LinearSegmentedColormap\n",
        "\n",
        "import torchvision\n",
        "from torchvision import models\n",
        "from torchvision import transforms\n",
        "\n",
        "from captum.attr import IntegratedGradients\n",
        "from captum.attr import GradientShap\n",
        "from captum.attr import Occlusion\n",
        "from captum.attr import NoiseTunnel\n",
        "from captum.attr import visualization as viz"
      ]
    },
    {
      "cell_type": "code",
      "source": [
        "import matplotlib.pyplot as plt"
      ],
      "metadata": {
        "id": "UHUEdtza_D7B"
      },
      "execution_count": 3,
      "outputs": []
    },
    {
      "cell_type": "markdown",
      "metadata": {
        "id": "D8EpTB_ysiwD"
      },
      "source": [
        "## 1- Loading the model and the dataset\n"
      ]
    },
    {
      "cell_type": "markdown",
      "metadata": {
        "id": "s97qQ39fsiwE"
      },
      "source": [
        "Loads pretrained Resnet model and sets it to eval mode"
      ]
    },
    {
      "cell_type": "code",
      "execution_count": 4,
      "metadata": {
        "colab": {
          "base_uri": "https://localhost:8080/"
        },
        "id": "CavnkdmesiwE",
        "outputId": "0ee834b5-0e21-4b6c-be39-fff9073740ff"
      },
      "outputs": [
        {
          "output_type": "stream",
          "name": "stderr",
          "text": [
            "/usr/local/lib/python3.10/dist-packages/torchvision/models/_utils.py:208: UserWarning: The parameter 'pretrained' is deprecated since 0.13 and may be removed in the future, please use 'weights' instead.\n",
            "  warnings.warn(\n",
            "/usr/local/lib/python3.10/dist-packages/torchvision/models/_utils.py:223: UserWarning: Arguments other than a weight enum or `None` for 'weights' are deprecated since 0.13 and may be removed in the future. The current behavior is equivalent to passing `weights=ResNet18_Weights.IMAGENET1K_V1`. You can also use `weights=ResNet18_Weights.DEFAULT` to get the most up-to-date weights.\n",
            "  warnings.warn(msg)\n",
            "Downloading: \"https://download.pytorch.org/models/resnet18-f37072fd.pth\" to /root/.cache/torch/hub/checkpoints/resnet18-f37072fd.pth\n",
            "100%|██████████| 44.7M/44.7M [00:00<00:00, 79.5MB/s]\n"
          ]
        }
      ],
      "source": [
        "model = models.resnet18(pretrained=True)\n",
        "model = model.eval()"
      ]
    },
    {
      "cell_type": "markdown",
      "metadata": {
        "id": "afQl4211siwF"
      },
      "source": [
        "Downloads the list of classes/labels for ImageNet dataset and reads them into the memory"
      ]
    },
    {
      "cell_type": "code",
      "execution_count": 5,
      "metadata": {
        "colab": {
          "base_uri": "https://localhost:8080/"
        },
        "id": "Q0brGoEQsiwF",
        "outputId": "1bd8b3a4-a3f9-4b79-e0f1-5bc58a6d5a6e"
      },
      "outputs": [
        {
          "output_type": "stream",
          "name": "stdout",
          "text": [
            "--2023-08-28 06:28:16--  https://s3.amazonaws.com/deep-learning-models/image-models/imagenet_class_index.json\n",
            "Resolving s3.amazonaws.com (s3.amazonaws.com)... 52.217.129.112, 3.5.10.134, 54.231.139.24, ...\n",
            "Connecting to s3.amazonaws.com (s3.amazonaws.com)|52.217.129.112|:443... connected.\n",
            "HTTP request sent, awaiting response... 200 OK\n",
            "Length: 35363 (35K) [application/octet-stream]\n",
            "Saving to: ‘/root/.torch/models/imagenet_class_index.json’\n",
            "\n",
            "\r          imagenet_   0%[                    ]       0  --.-KB/s               \rimagenet_class_inde 100%[===================>]  34.53K  --.-KB/s    in 0.02s   \n",
            "\n",
            "2023-08-28 06:28:16 (1.86 MB/s) - ‘/root/.torch/models/imagenet_class_index.json’ saved [35363/35363]\n",
            "\n"
          ]
        }
      ],
      "source": [
        "!wget -P $HOME/.torch/models https://s3.amazonaws.com/deep-learning-models/image-models/imagenet_class_index.json"
      ]
    },
    {
      "cell_type": "code",
      "execution_count": 7,
      "metadata": {
        "id": "qX5Nbt_9siwH"
      },
      "outputs": [],
      "source": [
        "labels_path = os.getenv(\"HOME\") + '/.torch/models/imagenet_class_index.json'\n",
        "with open(labels_path) as json_data:\n",
        "    idx_to_labels = json.load(json_data)"
      ]
    },
    {
      "cell_type": "markdown",
      "metadata": {
        "id": "I1frMEODsiwH"
      },
      "source": [
        "Defines transformers and normalizing functions for the image.\n",
        "It also loads an image from the `img/resnet/` folder that will be used for interpretation purposes."
      ]
    },
    {
      "cell_type": "code",
      "execution_count": 43,
      "metadata": {
        "id": "TOcXPDP4siwI"
      },
      "outputs": [],
      "source": [
        "transform = transforms.Compose([\n",
        " transforms.Resize(256),\n",
        " transforms.CenterCrop(224),\n",
        " transforms.ToTensor()\n",
        "])\n",
        "\n",
        "transform_normalize = transforms.Normalize(\n",
        "     mean=[0.485, 0.456, 0.406],\n",
        "     std=[0.229, 0.224, 0.225]\n",
        " )\n",
        "\n",
        "img = Image.open('/content/goldfinch_7.jpg')\n",
        "\n",
        "transformed_img = transform(img)\n",
        "\n",
        "input = transform_normalize(transformed_img)\n",
        "input = input.unsqueeze(0)"
      ]
    },
    {
      "cell_type": "markdown",
      "metadata": {
        "id": "vNZJG6CAsiwI"
      },
      "source": [
        "Predict the class of the input image"
      ]
    },
    {
      "cell_type": "code",
      "execution_count": 45,
      "metadata": {
        "colab": {
          "base_uri": "https://localhost:8080/"
        },
        "id": "R-ZSeZBGsiwI",
        "outputId": "725c7ef9-c667-4f8a-d080-7071ba2f6562"
      },
      "outputs": [
        {
          "output_type": "stream",
          "name": "stdout",
          "text": [
            "Predicted: brambling ( 0.9412863254547119 )\n"
          ]
        }
      ],
      "source": [
        "output = model(input)\n",
        "output = F.softmax(output, dim=1)\n",
        "prediction_score, pred_label_idx = torch.topk(output, 1)\n",
        "\n",
        "pred_label_idx.squeeze_()\n",
        "predicted_label = idx_to_labels[str(pred_label_idx.item())][1]\n",
        "print('Predicted:', predicted_label, '(', prediction_score.squeeze().item(), ')')\n"
      ]
    },
    {
      "cell_type": "markdown",
      "metadata": {
        "id": "J4cfOWXUsiwI"
      },
      "source": [
        "## 2- Gradient-based attribution"
      ]
    },
    {
      "cell_type": "markdown",
      "metadata": {
        "id": "4vrUrMHNsiwI"
      },
      "source": [
        "Let's compute attributions using Integrated Gradients and visualize them on the image. Integrated gradients computes the integral of the gradients of the output of the model for the predicted class `pred_label_idx` with respect to the input image pixels along the path from the black image to our input image."
      ]
    },
    {
      "cell_type": "code",
      "execution_count": 44,
      "metadata": {
        "colab": {
          "base_uri": "https://localhost:8080/"
        },
        "id": "Ze2ef-imsiwI",
        "outputId": "a931b3d1-142f-47ea-c78d-7b906efddac9"
      },
      "outputs": [
        {
          "output_type": "stream",
          "name": "stdout",
          "text": [
            "Predicted: goldfinch ( 0.9933870434761047 )\n"
          ]
        }
      ],
      "source": [
        "print('Predicted:', predicted_label, '(', prediction_score.squeeze().item(), ')')\n",
        "\n",
        "integrated_gradients = IntegratedGradients(model)\n",
        "attributions_ig = integrated_gradients.attribute(input, target=pred_label_idx, n_steps=200)\n"
      ]
    },
    {
      "cell_type": "markdown",
      "metadata": {
        "id": "QuHqBhVNsiwJ"
      },
      "source": [
        "Let's visualize the image and corresponding attributions by overlaying the latter on the image."
      ]
    },
    {
      "cell_type": "code",
      "source": [
        "layer_conv=model.layer3"
      ],
      "metadata": {
        "id": "6hT9CiTgdBm_"
      },
      "execution_count": 35,
      "outputs": []
    },
    {
      "cell_type": "code",
      "source": [
        "layer_conv"
      ],
      "metadata": {
        "colab": {
          "base_uri": "https://localhost:8080/"
        },
        "id": "E-DCL1jxdzEz",
        "outputId": "ae27535b-3a1d-4b12-8fc3-86b3ed819753"
      },
      "execution_count": null,
      "outputs": [
        {
          "output_type": "execute_result",
          "data": {
            "text/plain": [
              "Sequential(\n",
              "  (0): BasicBlock(\n",
              "    (conv1): Conv2d(128, 256, kernel_size=(3, 3), stride=(2, 2), padding=(1, 1), bias=False)\n",
              "    (bn1): BatchNorm2d(256, eps=1e-05, momentum=0.1, affine=True, track_running_stats=True)\n",
              "    (relu): ReLU(inplace=True)\n",
              "    (conv2): Conv2d(256, 256, kernel_size=(3, 3), stride=(1, 1), padding=(1, 1), bias=False)\n",
              "    (bn2): BatchNorm2d(256, eps=1e-05, momentum=0.1, affine=True, track_running_stats=True)\n",
              "    (downsample): Sequential(\n",
              "      (0): Conv2d(128, 256, kernel_size=(1, 1), stride=(2, 2), bias=False)\n",
              "      (1): BatchNorm2d(256, eps=1e-05, momentum=0.1, affine=True, track_running_stats=True)\n",
              "    )\n",
              "  )\n",
              "  (1): BasicBlock(\n",
              "    (conv1): Conv2d(256, 256, kernel_size=(3, 3), stride=(1, 1), padding=(1, 1), bias=False)\n",
              "    (bn1): BatchNorm2d(256, eps=1e-05, momentum=0.1, affine=True, track_running_stats=True)\n",
              "    (relu): ReLU(inplace=True)\n",
              "    (conv2): Conv2d(256, 256, kernel_size=(3, 3), stride=(1, 1), padding=(1, 1), bias=False)\n",
              "    (bn2): BatchNorm2d(256, eps=1e-05, momentum=0.1, affine=True, track_running_stats=True)\n",
              "  )\n",
              ")"
            ]
          },
          "metadata": {},
          "execution_count": 70
        }
      ]
    },
    {
      "cell_type": "code",
      "source": [
        "# Convert convolutional layer to fully connected"
      ],
      "metadata": {
        "id": "Vq01NjdTdbUM"
      },
      "execution_count": null,
      "outputs": []
    },
    {
      "cell_type": "code",
      "source": [],
      "metadata": {
        "id": "Oieorji6fpUu"
      },
      "execution_count": null,
      "outputs": []
    },
    {
      "cell_type": "markdown",
      "source": [
        "## 3- Layer Conductance"
      ],
      "metadata": {
        "id": "upGS-IL4dg75"
      }
    },
    {
      "cell_type": "code",
      "source": [
        "from captum.attr import LayerConductance\n",
        "\n",
        "cond = LayerConductance(model, layer_conv)"
      ],
      "metadata": {
        "id": "tA1azY7WtvwX"
      },
      "execution_count": 36,
      "outputs": []
    },
    {
      "cell_type": "code",
      "source": [
        "cond_vals = cond.attribute(input,target=11)  #11 class of 'goldfinch' in imagenet dataset\n",
        "cond_vals = cond_vals.detach().numpy()"
      ],
      "metadata": {
        "id": "_AoVgOMouoaE"
      },
      "execution_count": 37,
      "outputs": []
    },
    {
      "cell_type": "code",
      "source": [
        "cond_vals.shape"
      ],
      "metadata": {
        "colab": {
          "base_uri": "https://localhost:8080/"
        },
        "id": "iygzToetrbDe",
        "outputId": "7e66f21f-d608-4c8e-c5a1-0dc9a1421fb7"
      },
      "execution_count": null,
      "outputs": [
        {
          "output_type": "execute_result",
          "data": {
            "text/plain": [
              "(1, 256, 14, 14)"
            ]
          },
          "metadata": {},
          "execution_count": 73
        }
      ]
    },
    {
      "cell_type": "code",
      "source": [
        "cond_vals_flatten=cond_vals.reshape((256,14*14))"
      ],
      "metadata": {
        "id": "s0jusIxAu9pC"
      },
      "execution_count": 38,
      "outputs": []
    },
    {
      "cell_type": "code",
      "source": [
        "cond_vals_flatten.shape"
      ],
      "metadata": {
        "colab": {
          "base_uri": "https://localhost:8080/"
        },
        "id": "N-ZZhRJur9cc",
        "outputId": "0869026c-9038-4fdb-f877-4cfb25be7333"
      },
      "execution_count": null,
      "outputs": [
        {
          "output_type": "execute_result",
          "data": {
            "text/plain": [
              "(256, 196)"
            ]
          },
          "metadata": {},
          "execution_count": 16
        }
      ]
    },
    {
      "cell_type": "code",
      "source": [
        "plt.hist(cond_vals[50][0], 100);\n",
        "plt.title(\"Neuron 50 Distribution\")\n",
        "plt.figure()\n",
        "plt.hist(cond_vals[19][0], 100);\n",
        "plt.title(\"Neuron 19 Distribution\");"
      ],
      "metadata": {
        "id": "3kB-Q6j7u9lu"
      },
      "execution_count": null,
      "outputs": []
    },
    {
      "cell_type": "code",
      "source": [
        "# Helper method to print importances and visualize distribution\n",
        "def visualize_importances(feature_names, importances, title=\"Average Feature Importances\", plot=True, axis_title=\"Features\"):\n",
        "    print(title)\n",
        "    for i in range(len(feature_names)):\n",
        "        print(feature_names[i], \": \", '%.4f'%(importances[i]))\n",
        "    x_pos = (np.arange(len(feature_names)))\n",
        "    if plot:\n",
        "        plt.figure(figsize=(12,6))\n",
        "        plt.bar(x_pos, importances, align='center')\n",
        "        plt.xticks(x_pos, feature_names, wrap=True)\n",
        "        plt.xlabel(axis_title)\n",
        "        plt.title(title)\n"
      ],
      "metadata": {
        "id": "hbK_69jsu9gn"
      },
      "execution_count": 16,
      "outputs": []
    },
    {
      "cell_type": "code",
      "source": [
        "visualize_importances(range(256),np.mean(cond_vals_flatten, axis=1),title=\"Average Neuron Importances\", axis_title=\"Neurons\")"
      ],
      "metadata": {
        "colab": {
          "base_uri": "https://localhost:8080/",
          "height": 1000
        },
        "id": "vWENOWSwqYsI",
        "outputId": "3bc732e3-ffd4-4a50-ea38-bee808412439"
      },
      "execution_count": 39,
      "outputs": [
        {
          "output_type": "stream",
          "name": "stdout",
          "text": [
            "Average Neuron Importances\n",
            "0 :  0.0001\n",
            "1 :  0.0001\n",
            "2 :  0.0018\n",
            "3 :  0.0019\n",
            "4 :  -0.0002\n",
            "5 :  -0.0012\n",
            "6 :  -0.0011\n",
            "7 :  -0.0000\n",
            "8 :  -0.0028\n",
            "9 :  0.0001\n",
            "10 :  0.0023\n",
            "11 :  0.0008\n",
            "12 :  -0.0005\n",
            "13 :  0.0013\n",
            "14 :  -0.0007\n",
            "15 :  0.0012\n",
            "16 :  0.0001\n",
            "17 :  0.0001\n",
            "18 :  -0.0015\n",
            "19 :  -0.0009\n",
            "20 :  0.0005\n",
            "21 :  0.0007\n",
            "22 :  0.0005\n",
            "23 :  0.0009\n",
            "24 :  0.0008\n",
            "25 :  -0.0001\n",
            "26 :  0.0005\n",
            "27 :  -0.0003\n",
            "28 :  -0.0005\n",
            "29 :  -0.0001\n",
            "30 :  0.0006\n",
            "31 :  0.0004\n",
            "32 :  -0.0023\n",
            "33 :  0.0047\n",
            "34 :  0.0004\n",
            "35 :  -0.0004\n",
            "36 :  0.0144\n",
            "37 :  -0.0002\n",
            "38 :  -0.0011\n",
            "39 :  -0.0006\n",
            "40 :  0.0002\n",
            "41 :  -0.0016\n",
            "42 :  0.0021\n",
            "43 :  0.0006\n",
            "44 :  0.0016\n",
            "45 :  0.0013\n",
            "46 :  0.0003\n",
            "47 :  -0.0002\n",
            "48 :  -0.0017\n",
            "49 :  0.0007\n",
            "50 :  -0.0009\n",
            "51 :  0.0002\n",
            "52 :  0.0017\n",
            "53 :  -0.0024\n",
            "54 :  0.0005\n",
            "55 :  0.0013\n",
            "56 :  0.0012\n",
            "57 :  0.0007\n",
            "58 :  0.0007\n",
            "59 :  -0.0023\n",
            "60 :  -0.0015\n",
            "61 :  0.0022\n",
            "62 :  0.0005\n",
            "63 :  0.0008\n",
            "64 :  0.0003\n",
            "65 :  -0.0011\n",
            "66 :  0.0009\n",
            "67 :  0.0016\n",
            "68 :  0.0031\n",
            "69 :  -0.0002\n",
            "70 :  0.0032\n",
            "71 :  0.0004\n",
            "72 :  -0.0001\n",
            "73 :  0.0028\n",
            "74 :  0.0005\n",
            "75 :  0.0020\n",
            "76 :  -0.0000\n",
            "77 :  0.0003\n",
            "78 :  0.0080\n",
            "79 :  0.0016\n",
            "80 :  0.0004\n",
            "81 :  0.0027\n",
            "82 :  -0.0003\n",
            "83 :  -0.0017\n",
            "84 :  -0.0001\n",
            "85 :  0.0010\n",
            "86 :  0.0003\n",
            "87 :  0.0012\n",
            "88 :  -0.0003\n",
            "89 :  -0.0014\n",
            "90 :  0.0036\n",
            "91 :  0.0000\n",
            "92 :  0.0014\n",
            "93 :  -0.0021\n",
            "94 :  -0.0006\n",
            "95 :  -0.0023\n",
            "96 :  0.0007\n",
            "97 :  -0.0014\n",
            "98 :  0.0002\n",
            "99 :  0.0003\n",
            "100 :  0.0016\n",
            "101 :  -0.0033\n",
            "102 :  0.0008\n",
            "103 :  -0.0019\n",
            "104 :  -0.0000\n",
            "105 :  0.0000\n",
            "106 :  -0.0002\n",
            "107 :  -0.0013\n",
            "108 :  0.0025\n",
            "109 :  0.0028\n",
            "110 :  0.0017\n",
            "111 :  -0.0032\n",
            "112 :  0.0000\n",
            "113 :  -0.0002\n",
            "114 :  -0.0006\n",
            "115 :  -0.0013\n",
            "116 :  -0.0013\n",
            "117 :  0.0029\n",
            "118 :  -0.0007\n",
            "119 :  -0.0001\n",
            "120 :  0.0004\n",
            "121 :  -0.0002\n",
            "122 :  -0.0004\n",
            "123 :  0.0018\n",
            "124 :  0.0012\n",
            "125 :  -0.0001\n",
            "126 :  0.0006\n",
            "127 :  0.0008\n",
            "128 :  0.0014\n",
            "129 :  -0.0001\n",
            "130 :  -0.0004\n",
            "131 :  0.0008\n",
            "132 :  -0.0009\n",
            "133 :  -0.0005\n",
            "134 :  0.0004\n",
            "135 :  0.0014\n",
            "136 :  -0.0027\n",
            "137 :  0.0007\n",
            "138 :  0.0010\n",
            "139 :  -0.0001\n",
            "140 :  -0.0003\n",
            "141 :  0.0005\n",
            "142 :  0.0002\n",
            "143 :  0.0052\n",
            "144 :  -0.0006\n",
            "145 :  -0.0004\n",
            "146 :  -0.0002\n",
            "147 :  0.0001\n",
            "148 :  0.0004\n",
            "149 :  -0.0003\n",
            "150 :  0.0004\n",
            "151 :  -0.0015\n",
            "152 :  0.0003\n",
            "153 :  0.0005\n",
            "154 :  0.0009\n",
            "155 :  -0.0005\n",
            "156 :  -0.0006\n",
            "157 :  0.0018\n",
            "158 :  -0.0018\n",
            "159 :  0.0005\n",
            "160 :  0.0013\n",
            "161 :  0.0000\n",
            "162 :  0.0003\n",
            "163 :  0.0002\n",
            "164 :  0.0000\n",
            "165 :  0.0000\n",
            "166 :  0.0001\n",
            "167 :  -0.0001\n",
            "168 :  -0.0006\n",
            "169 :  -0.0021\n",
            "170 :  -0.0004\n",
            "171 :  0.0020\n",
            "172 :  0.0001\n",
            "173 :  0.0019\n",
            "174 :  0.0003\n",
            "175 :  0.0001\n",
            "176 :  0.0003\n",
            "177 :  0.0003\n",
            "178 :  -0.0010\n",
            "179 :  -0.0007\n",
            "180 :  0.0004\n",
            "181 :  -0.0022\n",
            "182 :  -0.0001\n",
            "183 :  0.0002\n",
            "184 :  -0.0005\n",
            "185 :  -0.0003\n",
            "186 :  0.0025\n",
            "187 :  -0.0005\n",
            "188 :  0.0002\n",
            "189 :  -0.0000\n",
            "190 :  0.0005\n",
            "191 :  0.0020\n",
            "192 :  0.0004\n",
            "193 :  0.0016\n",
            "194 :  -0.0012\n",
            "195 :  -0.0040\n",
            "196 :  0.0004\n",
            "197 :  -0.0006\n",
            "198 :  0.0007\n",
            "199 :  0.0004\n",
            "200 :  0.0013\n",
            "201 :  0.0001\n",
            "202 :  0.0069\n",
            "203 :  0.0004\n",
            "204 :  0.0007\n",
            "205 :  -0.0020\n",
            "206 :  -0.0011\n",
            "207 :  -0.0004\n",
            "208 :  -0.0012\n",
            "209 :  -0.0002\n",
            "210 :  0.0028\n",
            "211 :  0.0072\n",
            "212 :  0.0018\n",
            "213 :  0.0002\n",
            "214 :  0.0016\n",
            "215 :  0.0006\n",
            "216 :  0.0017\n",
            "217 :  -0.0007\n",
            "218 :  0.0010\n",
            "219 :  0.0007\n",
            "220 :  0.0009\n",
            "221 :  0.0010\n",
            "222 :  0.0003\n",
            "223 :  -0.0001\n",
            "224 :  0.0005\n",
            "225 :  -0.0004\n",
            "226 :  -0.0004\n",
            "227 :  -0.0001\n",
            "228 :  -0.0009\n",
            "229 :  0.0008\n",
            "230 :  -0.0007\n",
            "231 :  -0.0008\n",
            "232 :  0.0018\n",
            "233 :  0.0006\n",
            "234 :  -0.0002\n",
            "235 :  0.0050\n",
            "236 :  0.0018\n",
            "237 :  -0.0012\n",
            "238 :  -0.0005\n",
            "239 :  0.0002\n",
            "240 :  0.0004\n",
            "241 :  0.0003\n",
            "242 :  -0.0004\n",
            "243 :  0.0039\n",
            "244 :  0.0032\n",
            "245 :  0.0015\n",
            "246 :  0.0019\n",
            "247 :  -0.0008\n",
            "248 :  0.0002\n",
            "249 :  0.0008\n",
            "250 :  0.0013\n",
            "251 :  0.0027\n",
            "252 :  0.0008\n",
            "253 :  0.0001\n",
            "254 :  0.0007\n",
            "255 :  0.0010\n"
          ]
        },
        {
          "output_type": "display_data",
          "data": {
            "text/plain": [
              "<Figure size 1200x600 with 1 Axes>"
            ],
            "image/png": "[encoded data removed]"
          },
          "metadata": {}
        }
      ]
    },
    {
      "cell_type": "code",
      "source": [
        "np.mean(cond_vals_flatten[53,])"
      ],
      "metadata": {
        "colab": {
          "base_uri": "https://localhost:8080/"
        },
        "id": "RklF-xzErBaP",
        "outputId": "88b6908a-4e28-488e-e5d2-b0191714cf4e"
      },
      "execution_count": null,
      "outputs": [
        {
          "output_type": "execute_result",
          "data": {
            "text/plain": [
              "-0.0023618995"
            ]
          },
          "metadata": {},
          "execution_count": 86
        }
      ]
    },
    {
      "cell_type": "code",
      "source": [
        "vector=[]\n",
        "\n",
        "for i in range(256):\n",
        "  vector.append(np.mean(cond_vals_flatten[i,]))\n",
        "\n"
      ],
      "metadata": {
        "id": "AiqNoGheqw7W"
      },
      "execution_count": null,
      "outputs": []
    },
    {
      "cell_type": "code",
      "source": [
        "################################################################################"
      ],
      "metadata": {
        "id": "g-ZIdBJru9d4"
      },
      "execution_count": null,
      "outputs": []
    },
    {
      "cell_type": "code",
      "source": [
        "merged_array=vector\n",
        "y=[prediction_score.squeeze().item()]\n",
        "label=['goldfinch']\n",
        "for i in range(2,12):\n",
        "  transform = transforms.Compose([ transforms.Resize(256),transforms.CenterCrop(224),transforms.ToTensor()])\n",
        "  transform_normalize = transforms.Normalize(mean=[0.485, 0.456, 0.406],std=[0.229, 0.224, 0.225])\n",
        "  img = Image.open('/content/goldfinch_'+str(i)+'.jpg')\n",
        "  transformed_img = transform(img)\n",
        "  input = transform_normalize(transformed_img)\n",
        "  input = input.unsqueeze(0)\n",
        "  output = model(input)\n",
        "  output = F.softmax(output, dim=1)\n",
        "  prediction_score, pred_label_idx = torch.topk(output, 1)\n",
        "  pred_label_idx.squeeze_()\n",
        "  predicted_label = idx_to_labels[str(pred_label_idx.item())][1]\n",
        "  y.append(prediction_score.squeeze().item())\n",
        "  label.append(predicted_label)\n",
        "  cond_vals = cond.attribute(input,target=11)\n",
        "  cond_vals = cond_vals.detach().numpy()\n",
        "  cond_vals_flatten=cond_vals.reshape((256,14*14))\n",
        "  var=[]\n",
        "  for j in range(256):\n",
        "    var.append(np.mean(cond_vals_flatten[j,]))\n",
        "\n",
        "\n",
        "  merged_array = np.column_stack((merged_array,var))\n"
      ],
      "metadata": {
        "id": "mk30eHGzwFoK"
      },
      "execution_count": null,
      "outputs": []
    },
    {
      "cell_type": "code",
      "source": [
        "merged_array.shape"
      ],
      "metadata": {
        "colab": {
          "base_uri": "https://localhost:8080/"
        },
        "id": "ul45TEVvwIZc",
        "outputId": "38d47d0e-1e73-4a04-f906-e59ebb15046a"
      },
      "execution_count": null,
      "outputs": [
        {
          "output_type": "execute_result",
          "data": {
            "text/plain": [
              "(256, 11)"
            ]
          },
          "metadata": {},
          "execution_count": 24
        }
      ]
    },
    {
      "cell_type": "code",
      "source": [
        "len(label)"
      ],
      "metadata": {
        "colab": {
          "base_uri": "https://localhost:8080/"
        },
        "id": "CdM1F-Hx8NrE",
        "outputId": "a9e066b9-e2ab-43bb-d805-2fd36053144d"
      },
      "execution_count": null,
      "outputs": [
        {
          "output_type": "execute_result",
          "data": {
            "text/plain": [
              "11"
            ]
          },
          "metadata": {},
          "execution_count": 28
        }
      ]
    },
    {
      "cell_type": "code",
      "source": [
        "############################################################################"
      ],
      "metadata": {
        "id": "_4PEjkS6wFj4"
      },
      "execution_count": null,
      "outputs": []
    },
    {
      "cell_type": "code",
      "source": [
        "## Detect outlier neuron\n",
        "def detect_outliers_zscore(data, threshold=20):\n",
        "    z_scores = (data - data.mean()) / data.std()\n",
        "    return np.where(np.abs(z_scores) > threshold)\n",
        "\n",
        "outlier_indices = detect_outliers_zscore(cond_vals_flatten)\n",
        "print(\"Outlier indices:\", outlier_indices)"
      ],
      "metadata": {
        "colab": {
          "base_uri": "https://localhost:8080/"
        },
        "id": "D2BnpRSs3B41",
        "outputId": "05a405d4-1009-4fb1-e5e8-d48c16d36dbf"
      },
      "execution_count": 40,
      "outputs": [
        {
          "output_type": "stream",
          "name": "stdout",
          "text": [
            "Outlier indices: (array([36, 36, 68, 90]), array([ 73, 116, 116,  36]))\n"
          ]
        }
      ]
    },
    {
      "cell_type": "code",
      "source": [
        "outlier_indices[1].shape[0]"
      ],
      "metadata": {
        "colab": {
          "base_uri": "https://localhost:8080/"
        },
        "id": "z4SPvt3C4Gh3",
        "outputId": "f6d50eca-83de-4f07-806c-e79a87a9c7a3"
      },
      "execution_count": null,
      "outputs": [
        {
          "output_type": "execute_result",
          "data": {
            "text/plain": [
              "4"
            ]
          },
          "metadata": {},
          "execution_count": 76
        }
      ]
    },
    {
      "cell_type": "markdown",
      "source": [
        "## 4- Data processing"
      ],
      "metadata": {
        "id": "zModE7Ua9c1y"
      }
    },
    {
      "cell_type": "code",
      "source": [
        "import pandas as pd"
      ],
      "metadata": {
        "id": "5fq09AxE9BFE"
      },
      "execution_count": null,
      "outputs": []
    },
    {
      "cell_type": "code",
      "source": [
        "X=pd.DataFrame(np.transpose(merged_array))"
      ],
      "metadata": {
        "id": "cRJGDP2y84D9"
      },
      "execution_count": null,
      "outputs": []
    },
    {
      "cell_type": "code",
      "source": [
        "X.head()"
      ],
      "metadata": {
        "colab": {
          "base_uri": "https://localhost:8080/",
          "height": 256
        },
        "id": "I3tW1XjM83ii",
        "outputId": "5dc0b09c-acce-426e-deb5-5278c4361a79"
      },
      "execution_count": null,
      "outputs": [
        {
          "output_type": "execute_result",
          "data": {
            "text/plain": [
              "        0         1         2         3         4         5         6    \\\n",
              "0  0.000109  0.000089  0.001766  0.001892 -0.000185 -0.001228 -0.001067   \n",
              "1 -0.001011  0.000528 -0.000319  0.000973 -0.000629 -0.001263  0.000171   \n",
              "2 -0.001585 -0.000067  0.000739  0.000322 -0.000390  0.002264  0.002280   \n",
              "3  0.001116 -0.001645 -0.000632 -0.000359  0.000062  0.000914  0.000188   \n",
              "4 -0.000588 -0.000362  0.000072 -0.000187 -0.000256  0.003252 -0.000727   \n",
              "\n",
              "        7         8         9    ...       246       247       248       249  \\\n",
              "0 -0.000001 -0.002841  0.000081  ...  0.001921 -0.000806  0.000151  0.000821   \n",
              "1 -0.000438 -0.000478  0.002498  ...  0.000193  0.000027 -0.000038  0.000104   \n",
              "2 -0.000677  0.001402  0.002530  ...  0.001617 -0.000890  0.000150 -0.000355   \n",
              "3 -0.000896 -0.000628  0.000939  ...  0.000788 -0.001183  0.000026  0.000569   \n",
              "4  0.000044  0.000318  0.000573  ...  0.000939 -0.000972 -0.000234 -0.000588   \n",
              "\n",
              "        250       251       252       253       254       255  \n",
              "0  0.001269  0.002734  0.000791  0.000102  0.000679  0.001011  \n",
              "1  0.000756  0.001301  0.001466 -0.000131  0.000327  0.000565  \n",
              "2  0.000828  0.002478 -0.001540 -0.000709  0.001487  0.000853  \n",
              "3  0.000692 -0.000572  0.001589 -0.000311  0.000727  0.000917  \n",
              "4 -0.000389 -0.000430 -0.000673 -0.000219  0.000715  0.000844  \n",
              "\n",
              "[5 rows x 256 columns]"
            ],
            "text/html": [
              "\n",
              "  <div id=\"df-dfcf7991-6cee-443d-9e04-eb11220018d6\" class=\"colab-df-container\">\n",
              "    <div>\n",
              "<style scoped>\n",
              "    .dataframe tbody tr th:only-of-type {\n",
              "        vertical-align: middle;\n",
              "    }\n",
              "\n",
              "    .dataframe tbody tr th {\n",
              "        vertical-align: top;\n",
              "    }\n",
              "\n",
              "    .dataframe thead th {\n",
              "        text-align: right;\n",
              "    }\n",
              "</style>\n",
              "<table border=\"1\" class=\"dataframe\">\n",
              "  <thead>\n",
              "    <tr style=\"text-align: right;\">\n",
              "      <th></th>\n",
              "      <th>0</th>\n",
              "      <th>1</th>\n",
              "      <th>2</th>\n",
              "      <th>3</th>\n",
              "      <th>4</th>\n",
              "      <th>5</th>\n",
              "      <th>6</th>\n",
              "      <th>7</th>\n",
              "      <th>8</th>\n",
              "      <th>9</th>\n",
              "      <th>...</th>\n",
              "      <th>246</th>\n",
              "      <th>247</th>\n",
              "      <th>248</th>\n",
              "      <th>249</th>\n",
              "      <th>250</th>\n",
              "      <th>251</th>\n",
              "      <th>252</th>\n",
              "      <th>253</th>\n",
              "      <th>254</th>\n",
              "      <th>255</th>\n",
              "    </tr>\n",
              "  </thead>\n",
              "  <tbody>\n",
              "    <tr>\n",
              "      <th>0</th>\n",
              "      <td>0.000109</td>\n",
              "      <td>0.000089</td>\n",
              "      <td>0.001766</td>\n",
              "      <td>0.001892</td>\n",
              "      <td>-0.000185</td>\n",
              "      <td>-0.001228</td>\n",
              "      <td>-0.001067</td>\n",
              "      <td>-0.000001</td>\n",
              "      <td>-0.002841</td>\n",
              "      <td>0.000081</td>\n",
              "      <td>...</td>\n",
              "      <td>0.001921</td>\n",
              "      <td>-0.000806</td>\n",
              "      <td>0.000151</td>\n",
              "      <td>0.000821</td>\n",
              "      <td>0.001269</td>\n",
              "      <td>0.002734</td>\n",
              "      <td>0.000791</td>\n",
              "      <td>0.000102</td>\n",
              "      <td>0.000679</td>\n",
              "      <td>0.001011</td>\n",
              "    </tr>\n",
              "    <tr>\n",
              "      <th>1</th>\n",
              "      <td>-0.001011</td>\n",
              "      <td>0.000528</td>\n",
              "      <td>-0.000319</td>\n",
              "      <td>0.000973</td>\n",
              "      <td>-0.000629</td>\n",
              "      <td>-0.001263</td>\n",
              "      <td>0.000171</td>\n",
              "      <td>-0.000438</td>\n",
              "      <td>-0.000478</td>\n",
              "      <td>0.002498</td>\n",
              "      <td>...</td>\n",
              "      <td>0.000193</td>\n",
              "      <td>0.000027</td>\n",
              "      <td>-0.000038</td>\n",
              "      <td>0.000104</td>\n",
              "      <td>0.000756</td>\n",
              "      <td>0.001301</td>\n",
              "      <td>0.001466</td>\n",
              "      <td>-0.000131</td>\n",
              "      <td>0.000327</td>\n",
              "      <td>0.000565</td>\n",
              "    </tr>\n",
              "    <tr>\n",
              "      <th>2</th>\n",
              "      <td>-0.001585</td>\n",
              "      <td>-0.000067</td>\n",
              "      <td>0.000739</td>\n",
              "      <td>0.000322</td>\n",
              "      <td>-0.000390</td>\n",
              "      <td>0.002264</td>\n",
              "      <td>0.002280</td>\n",
              "      <td>-0.000677</td>\n",
              "      <td>0.001402</td>\n",
              "      <td>0.002530</td>\n",
              "      <td>...</td>\n",
              "      <td>0.001617</td>\n",
              "      <td>-0.000890</td>\n",
              "      <td>0.000150</td>\n",
              "      <td>-0.000355</td>\n",
              "      <td>0.000828</td>\n",
              "      <td>0.002478</td>\n",
              "      <td>-0.001540</td>\n",
              "      <td>-0.000709</td>\n",
              "      <td>0.001487</td>\n",
              "      <td>0.000853</td>\n",
              "    </tr>\n",
              "    <tr>\n",
              "      <th>3</th>\n",
              "      <td>0.001116</td>\n",
              "      <td>-0.001645</td>\n",
              "      <td>-0.000632</td>\n",
              "      <td>-0.000359</td>\n",
              "      <td>0.000062</td>\n",
              "      <td>0.000914</td>\n",
              "      <td>0.000188</td>\n",
              "      <td>-0.000896</td>\n",
              "      <td>-0.000628</td>\n",
              "      <td>0.000939</td>\n",
              "      <td>...</td>\n",
              "      <td>0.000788</td>\n",
              "      <td>-0.001183</td>\n",
              "      <td>0.000026</td>\n",
              "      <td>0.000569</td>\n",
              "      <td>0.000692</td>\n",
              "      <td>-0.000572</td>\n",
              "      <td>0.001589</td>\n",
              "      <td>-0.000311</td>\n",
              "      <td>0.000727</td>\n",
              "      <td>0.000917</td>\n",
              "    </tr>\n",
              "    <tr>\n",
              "      <th>4</th>\n",
              "      <td>-0.000588</td>\n",
              "      <td>-0.000362</td>\n",
              "      <td>0.000072</td>\n",
              "      <td>-0.000187</td>\n",
              "      <td>-0.000256</td>\n",
              "      <td>0.003252</td>\n",
              "      <td>-0.000727</td>\n",
              "      <td>0.000044</td>\n",
              "      <td>0.000318</td>\n",
              "      <td>0.000573</td>\n",
              "      <td>...</td>\n",
              "      <td>0.000939</td>\n",
              "      <td>-0.000972</td>\n",
              "      <td>-0.000234</td>\n",
              "      <td>-0.000588</td>\n",
              "      <td>-0.000389</td>\n",
              "      <td>-0.000430</td>\n",
              "      <td>-0.000673</td>\n",
              "      <td>-0.000219</td>\n",
              "      <td>0.000715</td>\n",
              "      <td>0.000844</td>\n",
              "    </tr>\n",
              "  </tbody>\n",
              "</table>\n",
              "<p>5 rows × 256 columns</p>\n",
              "</div>\n",
              "    <div class=\"colab-df-buttons\">\n",
              "\n",
              "  <div class=\"colab-df-container\">\n",
              "    <button class=\"colab-df-convert\" onclick=\"convertToInteractive('df-dfcf7991-6cee-443d-9e04-eb11220018d6')\"\n",
              "            title=\"Convert this dataframe to an interactive table.\"\n",
              "            style=\"display:none;\">\n",
              "\n",
              "  <svg xmlns=\"http://www.w3.org/2000/svg\" height=\"24px\" viewBox=\"0 -960 960 960\">\n",
              "    <path d=\"M120-120v-720h720v720H120Zm60-500h600v-160H180v160Zm220 220h160v-160H400v160Zm0 220h160v-160H400v160ZM180-400h160v-160H180v160Zm440 0h160v-160H620v160ZM180-180h160v-160H180v160Zm440 0h160v-160H620v160Z\"/>\n",
              "  </svg>\n",
              "    </button>\n",
              "\n",
              "  <style>\n",
              "    .colab-df-container {\n",
              "      display:flex;\n",
              "      gap: 12px;\n",
              "    }\n",
              "\n",
              "    .colab-df-convert {\n",
              "      background-color: #E8F0FE;\n",
              "      border: none;\n",
              "      border-radius: 50%;\n",
              "      cursor: pointer;\n",
              "      display: none;\n",
              "      fill: #1967D2;\n",
              "      height: 32px;\n",
              "      padding: 0 0 0 0;\n",
              "      width: 32px;\n",
              "    }\n",
              "\n",
              "    .colab-df-convert:hover {\n",
              "      background-color: #E2EBFA;\n",
              "      box-shadow: 0px 1px 2px rgba(60, 64, 67, 0.3), 0px 1px 3px 1px rgba(60, 64, 67, 0.15);\n",
              "      fill: #174EA6;\n",
              "    }\n",
              "\n",
              "    .colab-df-buttons div {\n",
              "      margin-bottom: 4px;\n",
              "    }\n",
              "\n",
              "    [theme=dark] .colab-df-convert {\n",
              "      background-color: #3B4455;\n",
              "      fill: #D2E3FC;\n",
              "    }\n",
              "\n",
              "    [theme=dark] .colab-df-convert:hover {\n",
              "      background-color: #434B5C;\n",
              "      box-shadow: 0px 1px 3px 1px rgba(0, 0, 0, 0.15);\n",
              "      filter: drop-shadow(0px 1px 2px rgba(0, 0, 0, 0.3));\n",
              "      fill: #FFFFFF;\n",
              "    }\n",
              "  </style>\n",
              "\n",
              "    <script>\n",
              "      const buttonEl =\n",
              "        document.querySelector('#df-dfcf7991-6cee-443d-9e04-eb11220018d6 button.colab-df-convert');\n",
              "      buttonEl.style.display =\n",
              "        google.colab.kernel.accessAllowed ? 'block' : 'none';\n",
              "\n",
              "      async function convertToInteractive(key) {\n",
              "        const element = document.querySelector('#df-dfcf7991-6cee-443d-9e04-eb11220018d6');\n",
              "        const dataTable =\n",
              "          await google.colab.kernel.invokeFunction('convertToInteractive',\n",
              "                                                    [key], {});\n",
              "        if (!dataTable) return;\n",
              "\n",
              "        const docLinkHtml = 'Like what you see? Visit the ' +\n",
              "          '<a target=\"_blank\" href=https://colab.research.google.com/notebooks/data_table.ipynb>data table notebook</a>'\n",
              "          + ' to learn more about interactive tables.';\n",
              "        element.innerHTML = '';\n",
              "        dataTable['output_type'] = 'display_data';\n",
              "        await google.colab.output.renderOutput(dataTable, element);\n",
              "        const docLink = document.createElement('div');\n",
              "        docLink.innerHTML = docLinkHtml;\n",
              "        element.appendChild(docLink);\n",
              "      }\n",
              "    </script>\n",
              "  </div>\n",
              "\n",
              "\n",
              "<div id=\"df-6e8928f1-82e2-4a54-80b6-8f541c3f9e23\">\n",
              "  <button class=\"colab-df-quickchart\" onclick=\"quickchart('df-6e8928f1-82e2-4a54-80b6-8f541c3f9e23')\"\n",
              "            title=\"Suggest charts.\"\n",
              "            style=\"display:none;\">\n",
              "\n",
              "<svg xmlns=\"http://www.w3.org/2000/svg\" height=\"24px\"viewBox=\"0 0 24 24\"\n",
              "     width=\"24px\">\n",
              "    <g>\n",
              "        <path d=\"M19 3H5c-1.1 0-2 .9-2 2v14c0 1.1.9 2 2 2h14c1.1 0 2-.9 2-2V5c0-1.1-.9-2-2-2zM9 17H7v-7h2v7zm4 0h-2V7h2v10zm4 0h-2v-4h2v4z\"/>\n",
              "    </g>\n",
              "</svg>\n",
              "  </button>\n",
              "\n",
              "<style>\n",
              "  .colab-df-quickchart {\n",
              "    background-color: #E8F0FE;\n",
              "    border: none;\n",
              "    border-radius: 50%;\n",
              "    cursor: pointer;\n",
              "    display: none;\n",
              "    fill: #1967D2;\n",
              "    height: 32px;\n",
              "    padding: 0 0 0 0;\n",
              "    width: 32px;\n",
              "  }\n",
              "\n",
              "  .colab-df-quickchart:hover {\n",
              "    background-color: #E2EBFA;\n",
              "    box-shadow: 0px 1px 2px rgba(60, 64, 67, 0.3), 0px 1px 3px 1px rgba(60, 64, 67, 0.15);\n",
              "    fill: #174EA6;\n",
              "  }\n",
              "\n",
              "  [theme=dark] .colab-df-quickchart {\n",
              "    background-color: #3B4455;\n",
              "    fill: #D2E3FC;\n",
              "  }\n",
              "\n",
              "  [theme=dark] .colab-df-quickchart:hover {\n",
              "    background-color: #434B5C;\n",
              "    box-shadow: 0px 1px 3px 1px rgba(0, 0, 0, 0.15);\n",
              "    filter: drop-shadow(0px 1px 2px rgba(0, 0, 0, 0.3));\n",
              "    fill: #FFFFFF;\n",
              "  }\n",
              "</style>\n",
              "\n",
              "  <script>\n",
              "    async function quickchart(key) {\n",
              "      const charts = await google.colab.kernel.invokeFunction(\n",
              "          'suggestCharts', [key], {});\n",
              "    }\n",
              "    (() => {\n",
              "      let quickchartButtonEl =\n",
              "        document.querySelector('#df-6e8928f1-82e2-4a54-80b6-8f541c3f9e23 button');\n",
              "      quickchartButtonEl.style.display =\n",
              "        google.colab.kernel.accessAllowed ? 'block' : 'none';\n",
              "    })();\n",
              "  </script>\n",
              "</div>\n",
              "    </div>\n",
              "  </div>\n"
            ]
          },
          "metadata": {},
          "execution_count": 31
        }
      ]
    },
    {
      "cell_type": "code",
      "source": [
        "label=pd.DataFrame(label)"
      ],
      "metadata": {
        "id": "HIWWKzhW9IPP"
      },
      "execution_count": null,
      "outputs": []
    },
    {
      "cell_type": "code",
      "source": [
        "label.columns = ['y']"
      ],
      "metadata": {
        "id": "_Gw80iNX83dr"
      },
      "execution_count": null,
      "outputs": []
    },
    {
      "cell_type": "code",
      "source": [
        "data=[X,label]"
      ],
      "metadata": {
        "id": "xM1zny3583Xb"
      },
      "execution_count": null,
      "outputs": []
    },
    {
      "cell_type": "code",
      "source": [
        "X_data=pd.concat(data,axis=1)"
      ],
      "metadata": {
        "id": "VZzLCVX_9SKE"
      },
      "execution_count": null,
      "outputs": []
    },
    {
      "cell_type": "code",
      "source": [
        "X_data.head()"
      ],
      "metadata": {
        "colab": {
          "base_uri": "https://localhost:8080/",
          "height": 256
        },
        "id": "Ymh01evG9SF6",
        "outputId": "f41c7fde-c8d1-4eb9-900d-9da38b9fada1"
      },
      "execution_count": null,
      "outputs": [
        {
          "output_type": "execute_result",
          "data": {
            "text/plain": [
              "          0         1         2         3         4         5         6  \\\n",
              "0  0.000109  0.000089  0.001766  0.001892 -0.000185 -0.001228 -0.001067   \n",
              "1 -0.001011  0.000528 -0.000319  0.000973 -0.000629 -0.001263  0.000171   \n",
              "2 -0.001585 -0.000067  0.000739  0.000322 -0.000390  0.002264  0.002280   \n",
              "3  0.001116 -0.001645 -0.000632 -0.000359  0.000062  0.000914  0.000188   \n",
              "4 -0.000588 -0.000362  0.000072 -0.000187 -0.000256  0.003252 -0.000727   \n",
              "\n",
              "          7         8         9  ...       247       248       249       250  \\\n",
              "0 -0.000001 -0.002841  0.000081  ... -0.000806  0.000151  0.000821  0.001269   \n",
              "1 -0.000438 -0.000478  0.002498  ...  0.000027 -0.000038  0.000104  0.000756   \n",
              "2 -0.000677  0.001402  0.002530  ... -0.000890  0.000150 -0.000355  0.000828   \n",
              "3 -0.000896 -0.000628  0.000939  ... -0.001183  0.000026  0.000569  0.000692   \n",
              "4  0.000044  0.000318  0.000573  ... -0.000972 -0.000234 -0.000588 -0.000389   \n",
              "\n",
              "        251       252       253       254       255  y  \n",
              "0  0.002734  0.000791  0.000102  0.000679  0.001011  1  \n",
              "1  0.001301  0.001466 -0.000131  0.000327  0.000565  1  \n",
              "2  0.002478 -0.001540 -0.000709  0.001487  0.000853  1  \n",
              "3 -0.000572  0.001589 -0.000311  0.000727  0.000917  0  \n",
              "4 -0.000430 -0.000673 -0.000219  0.000715  0.000844  1  \n",
              "\n",
              "[5 rows x 257 columns]"
            ],
            "text/html": [
              "\n",
              "  <div id=\"df-88a39f61-3dd2-4be3-ab4e-bfb7f066c607\" class=\"colab-df-container\">\n",
              "    <div>\n",
              "<style scoped>\n",
              "    .dataframe tbody tr th:only-of-type {\n",
              "        vertical-align: middle;\n",
              "    }\n",
              "\n",
              "    .dataframe tbody tr th {\n",
              "        vertical-align: top;\n",
              "    }\n",
              "\n",
              "    .dataframe thead th {\n",
              "        text-align: right;\n",
              "    }\n",
              "</style>\n",
              "<table border=\"1\" class=\"dataframe\">\n",
              "  <thead>\n",
              "    <tr style=\"text-align: right;\">\n",
              "      <th></th>\n",
              "      <th>0</th>\n",
              "      <th>1</th>\n",
              "      <th>2</th>\n",
              "      <th>3</th>\n",
              "      <th>4</th>\n",
              "      <th>5</th>\n",
              "      <th>6</th>\n",
              "      <th>7</th>\n",
              "      <th>8</th>\n",
              "      <th>9</th>\n",
              "      <th>...</th>\n",
              "      <th>247</th>\n",
              "      <th>248</th>\n",
              "      <th>249</th>\n",
              "      <th>250</th>\n",
              "      <th>251</th>\n",
              "      <th>252</th>\n",
              "      <th>253</th>\n",
              "      <th>254</th>\n",
              "      <th>255</th>\n",
              "      <th>y</th>\n",
              "    </tr>\n",
              "  </thead>\n",
              "  <tbody>\n",
              "    <tr>\n",
              "      <th>0</th>\n",
              "      <td>0.000109</td>\n",
              "      <td>0.000089</td>\n",
              "      <td>0.001766</td>\n",
              "      <td>0.001892</td>\n",
              "      <td>-0.000185</td>\n",
              "      <td>-0.001228</td>\n",
              "      <td>-0.001067</td>\n",
              "      <td>-0.000001</td>\n",
              "      <td>-0.002841</td>\n",
              "      <td>0.000081</td>\n",
              "      <td>...</td>\n",
              "      <td>-0.000806</td>\n",
              "      <td>0.000151</td>\n",
              "      <td>0.000821</td>\n",
              "      <td>0.001269</td>\n",
              "      <td>0.002734</td>\n",
              "      <td>0.000791</td>\n",
              "      <td>0.000102</td>\n",
              "      <td>0.000679</td>\n",
              "      <td>0.001011</td>\n",
              "      <td>1</td>\n",
              "    </tr>\n",
              "    <tr>\n",
              "      <th>1</th>\n",
              "      <td>-0.001011</td>\n",
              "      <td>0.000528</td>\n",
              "      <td>-0.000319</td>\n",
              "      <td>0.000973</td>\n",
              "      <td>-0.000629</td>\n",
              "      <td>-0.001263</td>\n",
              "      <td>0.000171</td>\n",
              "      <td>-0.000438</td>\n",
              "      <td>-0.000478</td>\n",
              "      <td>0.002498</td>\n",
              "      <td>...</td>\n",
              "      <td>0.000027</td>\n",
              "      <td>-0.000038</td>\n",
              "      <td>0.000104</td>\n",
              "      <td>0.000756</td>\n",
              "      <td>0.001301</td>\n",
              "      <td>0.001466</td>\n",
              "      <td>-0.000131</td>\n",
              "      <td>0.000327</td>\n",
              "      <td>0.000565</td>\n",
              "      <td>1</td>\n",
              "    </tr>\n",
              "    <tr>\n",
              "      <th>2</th>\n",
              "      <td>-0.001585</td>\n",
              "      <td>-0.000067</td>\n",
              "      <td>0.000739</td>\n",
              "      <td>0.000322</td>\n",
              "      <td>-0.000390</td>\n",
              "      <td>0.002264</td>\n",
              "      <td>0.002280</td>\n",
              "      <td>-0.000677</td>\n",
              "      <td>0.001402</td>\n",
              "      <td>0.002530</td>\n",
              "      <td>...</td>\n",
              "      <td>-0.000890</td>\n",
              "      <td>0.000150</td>\n",
              "      <td>-0.000355</td>\n",
              "      <td>0.000828</td>\n",
              "      <td>0.002478</td>\n",
              "      <td>-0.001540</td>\n",
              "      <td>-0.000709</td>\n",
              "      <td>0.001487</td>\n",
              "      <td>0.000853</td>\n",
              "      <td>1</td>\n",
              "    </tr>\n",
              "    <tr>\n",
              "      <th>3</th>\n",
              "      <td>0.001116</td>\n",
              "      <td>-0.001645</td>\n",
              "      <td>-0.000632</td>\n",
              "      <td>-0.000359</td>\n",
              "      <td>0.000062</td>\n",
              "      <td>0.000914</td>\n",
              "      <td>0.000188</td>\n",
              "      <td>-0.000896</td>\n",
              "      <td>-0.000628</td>\n",
              "      <td>0.000939</td>\n",
              "      <td>...</td>\n",
              "      <td>-0.001183</td>\n",
              "      <td>0.000026</td>\n",
              "      <td>0.000569</td>\n",
              "      <td>0.000692</td>\n",
              "      <td>-0.000572</td>\n",
              "      <td>0.001589</td>\n",
              "      <td>-0.000311</td>\n",
              "      <td>0.000727</td>\n",
              "      <td>0.000917</td>\n",
              "      <td>0</td>\n",
              "    </tr>\n",
              "    <tr>\n",
              "      <th>4</th>\n",
              "      <td>-0.000588</td>\n",
              "      <td>-0.000362</td>\n",
              "      <td>0.000072</td>\n",
              "      <td>-0.000187</td>\n",
              "      <td>-0.000256</td>\n",
              "      <td>0.003252</td>\n",
              "      <td>-0.000727</td>\n",
              "      <td>0.000044</td>\n",
              "      <td>0.000318</td>\n",
              "      <td>0.000573</td>\n",
              "      <td>...</td>\n",
              "      <td>-0.000972</td>\n",
              "      <td>-0.000234</td>\n",
              "      <td>-0.000588</td>\n",
              "      <td>-0.000389</td>\n",
              "      <td>-0.000430</td>\n",
              "      <td>-0.000673</td>\n",
              "      <td>-0.000219</td>\n",
              "      <td>0.000715</td>\n",
              "      <td>0.000844</td>\n",
              "      <td>1</td>\n",
              "    </tr>\n",
              "  </tbody>\n",
              "</table>\n",
              "<p>5 rows × 257 columns</p>\n",
              "</div>\n",
              "    <div class=\"colab-df-buttons\">\n",
              "\n",
              "  <div class=\"colab-df-container\">\n",
              "    <button class=\"colab-df-convert\" onclick=\"convertToInteractive('df-88a39f61-3dd2-4be3-ab4e-bfb7f066c607')\"\n",
              "            title=\"Convert this dataframe to an interactive table.\"\n",
              "            style=\"display:none;\">\n",
              "\n",
              "  <svg xmlns=\"http://www.w3.org/2000/svg\" height=\"24px\" viewBox=\"0 -960 960 960\">\n",
              "    <path d=\"M120-120v-720h720v720H120Zm60-500h600v-160H180v160Zm220 220h160v-160H400v160Zm0 220h160v-160H400v160ZM180-400h160v-160H180v160Zm440 0h160v-160H620v160ZM180-180h160v-160H180v160Zm440 0h160v-160H620v160Z\"/>\n",
              "  </svg>\n",
              "    </button>\n",
              "\n",
              "  <style>\n",
              "    .colab-df-container {\n",
              "      display:flex;\n",
              "      gap: 12px;\n",
              "    }\n",
              "\n",
              "    .colab-df-convert {\n",
              "      background-color: #E8F0FE;\n",
              "      border: none;\n",
              "      border-radius: 50%;\n",
              "      cursor: pointer;\n",
              "      display: none;\n",
              "      fill: #1967D2;\n",
              "      height: 32px;\n",
              "      padding: 0 0 0 0;\n",
              "      width: 32px;\n",
              "    }\n",
              "\n",
              "    .colab-df-convert:hover {\n",
              "      background-color: #E2EBFA;\n",
              "      box-shadow: 0px 1px 2px rgba(60, 64, 67, 0.3), 0px 1px 3px 1px rgba(60, 64, 67, 0.15);\n",
              "      fill: #174EA6;\n",
              "    }\n",
              "\n",
              "    .colab-df-buttons div {\n",
              "      margin-bottom: 4px;\n",
              "    }\n",
              "\n",
              "    [theme=dark] .colab-df-convert {\n",
              "      background-color: #3B4455;\n",
              "      fill: #D2E3FC;\n",
              "    }\n",
              "\n",
              "    [theme=dark] .colab-df-convert:hover {\n",
              "      background-color: #434B5C;\n",
              "      box-shadow: 0px 1px 3px 1px rgba(0, 0, 0, 0.15);\n",
              "      filter: drop-shadow(0px 1px 2px rgba(0, 0, 0, 0.3));\n",
              "      fill: #FFFFFF;\n",
              "    }\n",
              "  </style>\n",
              "\n",
              "    <script>\n",
              "      const buttonEl =\n",
              "        document.querySelector('#df-88a39f61-3dd2-4be3-ab4e-bfb7f066c607 button.colab-df-convert');\n",
              "      buttonEl.style.display =\n",
              "        google.colab.kernel.accessAllowed ? 'block' : 'none';\n",
              "\n",
              "      async function convertToInteractive(key) {\n",
              "        const element = document.querySelector('#df-88a39f61-3dd2-4be3-ab4e-bfb7f066c607');\n",
              "        const dataTable =\n",
              "          await google.colab.kernel.invokeFunction('convertToInteractive',\n",
              "                                                    [key], {});\n",
              "        if (!dataTable) return;\n",
              "\n",
              "        const docLinkHtml = 'Like what you see? Visit the ' +\n",
              "          '<a target=\"_blank\" href=https://colab.research.google.com/notebooks/data_table.ipynb>data table notebook</a>'\n",
              "          + ' to learn more about interactive tables.';\n",
              "        element.innerHTML = '';\n",
              "        dataTable['output_type'] = 'display_data';\n",
              "        await google.colab.output.renderOutput(dataTable, element);\n",
              "        const docLink = document.createElement('div');\n",
              "        docLink.innerHTML = docLinkHtml;\n",
              "        element.appendChild(docLink);\n",
              "      }\n",
              "    </script>\n",
              "  </div>\n",
              "\n",
              "\n",
              "<div id=\"df-f8c222c6-8817-4911-a051-15b2d0ee47b3\">\n",
              "  <button class=\"colab-df-quickchart\" onclick=\"quickchart('df-f8c222c6-8817-4911-a051-15b2d0ee47b3')\"\n",
              "            title=\"Suggest charts.\"\n",
              "            style=\"display:none;\">\n",
              "\n",
              "<svg xmlns=\"http://www.w3.org/2000/svg\" height=\"24px\"viewBox=\"0 0 24 24\"\n",
              "     width=\"24px\">\n",
              "    <g>\n",
              "        <path d=\"M19 3H5c-1.1 0-2 .9-2 2v14c0 1.1.9 2 2 2h14c1.1 0 2-.9 2-2V5c0-1.1-.9-2-2-2zM9 17H7v-7h2v7zm4 0h-2V7h2v10zm4 0h-2v-4h2v4z\"/>\n",
              "    </g>\n",
              "</svg>\n",
              "  </button>\n",
              "\n",
              "<style>\n",
              "  .colab-df-quickchart {\n",
              "    background-color: #E8F0FE;\n",
              "    border: none;\n",
              "    border-radius: 50%;\n",
              "    cursor: pointer;\n",
              "    display: none;\n",
              "    fill: #1967D2;\n",
              "    height: 32px;\n",
              "    padding: 0 0 0 0;\n",
              "    width: 32px;\n",
              "  }\n",
              "\n",
              "  .colab-df-quickchart:hover {\n",
              "    background-color: #E2EBFA;\n",
              "    box-shadow: 0px 1px 2px rgba(60, 64, 67, 0.3), 0px 1px 3px 1px rgba(60, 64, 67, 0.15);\n",
              "    fill: #174EA6;\n",
              "  }\n",
              "\n",
              "  [theme=dark] .colab-df-quickchart {\n",
              "    background-color: #3B4455;\n",
              "    fill: #D2E3FC;\n",
              "  }\n",
              "\n",
              "  [theme=dark] .colab-df-quickchart:hover {\n",
              "    background-color: #434B5C;\n",
              "    box-shadow: 0px 1px 3px 1px rgba(0, 0, 0, 0.15);\n",
              "    filter: drop-shadow(0px 1px 2px rgba(0, 0, 0, 0.3));\n",
              "    fill: #FFFFFF;\n",
              "  }\n",
              "</style>\n",
              "\n",
              "  <script>\n",
              "    async function quickchart(key) {\n",
              "      const charts = await google.colab.kernel.invokeFunction(\n",
              "          'suggestCharts', [key], {});\n",
              "    }\n",
              "    (() => {\n",
              "      let quickchartButtonEl =\n",
              "        document.querySelector('#df-f8c222c6-8817-4911-a051-15b2d0ee47b3 button');\n",
              "      quickchartButtonEl.style.display =\n",
              "        google.colab.kernel.accessAllowed ? 'block' : 'none';\n",
              "    })();\n",
              "  </script>\n",
              "</div>\n",
              "    </div>\n",
              "  </div>\n"
            ]
          },
          "metadata": {},
          "execution_count": 46
        }
      ]
    },
    {
      "cell_type": "code",
      "source": [
        "X_data[\"y\"]=X_data[\"y\"].astype('category')\n",
        "X_data[\"y\"]=X_data[\"y\"].cat.codes"
      ],
      "metadata": {
        "id": "XNZpVz9O9SBs"
      },
      "execution_count": null,
      "outputs": []
    },
    {
      "cell_type": "markdown",
      "source": [
        "## 5- Data preparation"
      ],
      "metadata": {
        "id": "Rf5_vbdKVHLU"
      }
    },
    {
      "cell_type": "code",
      "source": [
        "from sklearn import preprocessing\n",
        "from sklearn.model_selection import train_test_split\n",
        "from  sklearn.preprocessing import StandardScaler,MinMaxScaler\n",
        "import matplotlib.pyplot as plt\n",
        "from tensorflow.keras.layers import  Dense, BatchNormalization, Activation, Add"
      ],
      "metadata": {
        "id": "6naUcpcwVHBh"
      },
      "execution_count": null,
      "outputs": []
    },
    {
      "cell_type": "code",
      "source": [
        "x_train=X_data.loc[:, X_data.columns != 'y']"
      ],
      "metadata": {
        "id": "C0OBLtpIVG9-"
      },
      "execution_count": null,
      "outputs": []
    },
    {
      "cell_type": "code",
      "source": [
        "y_train=X_data['y']"
      ],
      "metadata": {
        "id": "vLGQRTlhVG7e"
      },
      "execution_count": null,
      "outputs": []
    },
    {
      "cell_type": "code",
      "source": [
        "x_train=np.array(x_train)\n",
        "y_train=np.array(y_train)"
      ],
      "metadata": {
        "id": "61ECgH-KVG4i"
      },
      "execution_count": null,
      "outputs": []
    },
    {
      "cell_type": "code",
      "source": [
        "scaler = MinMaxScaler()\n",
        "x_train=scaler.fit_transform(x_train)"
      ],
      "metadata": {
        "id": "ZBLTNO20VG1x"
      },
      "execution_count": null,
      "outputs": []
    },
    {
      "cell_type": "code",
      "source": [
        "x_train.shape[1]"
      ],
      "metadata": {
        "colab": {
          "base_uri": "https://localhost:8080/"
        },
        "id": "nLG3dqDUVZXP",
        "outputId": "89eb06dd-02d9-43c5-f927-9a862d12d8cb"
      },
      "execution_count": null,
      "outputs": [
        {
          "output_type": "execute_result",
          "data": {
            "text/plain": [
              "256"
            ]
          },
          "metadata": {},
          "execution_count": 54
        }
      ]
    },
    {
      "cell_type": "markdown",
      "source": [
        "## 6- Autoencoder classifier"
      ],
      "metadata": {
        "id": "kw-ZMhHEU7ll"
      }
    },
    {
      "cell_type": "code",
      "source": [
        "from tensorflow.keras.layers import Conv2D, Dense, BatchNormalization, Activation, MaxPool2D, GlobalAveragePooling2D, Add\n",
        "from tensorflow.keras import Model\n",
        "import tensorflow.keras as keras\n",
        "from keras import layers\n",
        "import tensorflow as tf\n",
        "from keras import regularizers"
      ],
      "metadata": {
        "id": "31ZaLe7kVkxH"
      },
      "execution_count": null,
      "outputs": []
    },
    {
      "cell_type": "code",
      "source": [
        "encoding_dim=2\n",
        "input=x_train.shape[1]\n",
        "# Deep NN\n",
        "input_img = keras.Input(shape=(input,))\n",
        "encoded = layers.Dense(128, activation='relu')(input_img)\n",
        "encoded = layers.Dense(encoding_dim, activation='relu')(encoded)\n",
        "\n",
        "decoded = layers.Dense(128, activation='relu')(encoded)\n",
        "decoded = layers.Dense(x_train.shape[1], activation='sigmoid')(decoded)"
      ],
      "metadata": {
        "id": "TNQY_0Re9R9k"
      },
      "execution_count": null,
      "outputs": []
    },
    {
      "cell_type": "code",
      "source": [
        "autoencoder = keras.Model(input_img, decoded)"
      ],
      "metadata": {
        "id": "-zFdzLJGU7MX"
      },
      "execution_count": null,
      "outputs": []
    },
    {
      "cell_type": "code",
      "source": [
        "autoencoder.summary()"
      ],
      "metadata": {
        "colab": {
          "base_uri": "https://localhost:8080/"
        },
        "id": "wSAJ5mQvU7Iy",
        "outputId": "d03fc53e-ce6f-4c42-fbef-b67661a4bb2a"
      },
      "execution_count": null,
      "outputs": [
        {
          "output_type": "stream",
          "name": "stdout",
          "text": [
            "Model: \"model\"\n",
            "_________________________________________________________________\n",
            " Layer (type)                Output Shape              Param #   \n",
            "=================================================================\n",
            " input_2 (InputLayer)        [(None, 256)]             0         \n",
            "                                                                 \n",
            " dense (Dense)               (None, 128)               32896     \n",
            "                                                                 \n",
            " dense_1 (Dense)             (None, 2)                 258       \n",
            "                                                                 \n",
            " dense_2 (Dense)             (None, 128)               384       \n",
            "                                                                 \n",
            " dense_3 (Dense)             (None, 256)               33024     \n",
            "                                                                 \n",
            "=================================================================\n",
            "Total params: 66,562\n",
            "Trainable params: 66,562\n",
            "Non-trainable params: 0\n",
            "_________________________________________________________________\n"
          ]
        }
      ]
    },
    {
      "cell_type": "code",
      "source": [
        "autoencoder.compile(optimizer='adam', loss='binary_crossentropy')"
      ],
      "metadata": {
        "id": "Rj04zy9FV01W"
      },
      "execution_count": null,
      "outputs": []
    },
    {
      "cell_type": "code",
      "source": [
        "autoencoder.fit(x_train, x_train,\n",
        "                epochs=20,\n",
        "                batch_size=256,\n",
        "                shuffle=True,\n",
        "                validation_data=(x_train, x_train)\n",
        "                )"
      ],
      "metadata": {
        "colab": {
          "base_uri": "https://localhost:8080/"
        },
        "id": "kQNWd4FnU7GQ",
        "outputId": "e3b801bf-8e6a-4b91-c567-6c47554210ea"
      },
      "execution_count": null,
      "outputs": [
        {
          "output_type": "stream",
          "name": "stdout",
          "text": [
            "Epoch 1/20\n",
            "1/1 [==============================] - 1s 1s/step - loss: 0.6933 - val_loss: 0.6930\n",
            "Epoch 2/20\n",
            "1/1 [==============================] - 0s 34ms/step - loss: 0.6930 - val_loss: 0.6929\n",
            "Epoch 3/20\n",
            "1/1 [==============================] - 0s 34ms/step - loss: 0.6929 - val_loss: 0.6926\n",
            "Epoch 4/20\n",
            "1/1 [==============================] - 0s 34ms/step - loss: 0.6926 - val_loss: 0.6922\n",
            "Epoch 5/20\n",
            "1/1 [==============================] - 0s 34ms/step - loss: 0.6922 - val_loss: 0.6917\n",
            "Epoch 6/20\n",
            "1/1 [==============================] - 0s 34ms/step - loss: 0.6917 - val_loss: 0.6911\n",
            "Epoch 7/20\n",
            "1/1 [==============================] - 0s 34ms/step - loss: 0.6911 - val_loss: 0.6904\n",
            "Epoch 8/20\n",
            "1/1 [==============================] - 0s 37ms/step - loss: 0.6904 - val_loss: 0.6896\n",
            "Epoch 9/20\n",
            "1/1 [==============================] - 0s 34ms/step - loss: 0.6896 - val_loss: 0.6887\n",
            "Epoch 10/20\n",
            "1/1 [==============================] - 0s 36ms/step - loss: 0.6887 - val_loss: 0.6876\n",
            "Epoch 11/20\n",
            "1/1 [==============================] - 0s 35ms/step - loss: 0.6876 - val_loss: 0.6865\n",
            "Epoch 12/20\n",
            "1/1 [==============================] - 0s 34ms/step - loss: 0.6865 - val_loss: 0.6853\n",
            "Epoch 13/20\n",
            "1/1 [==============================] - 0s 35ms/step - loss: 0.6853 - val_loss: 0.6841\n",
            "Epoch 14/20\n",
            "1/1 [==============================] - 0s 34ms/step - loss: 0.6841 - val_loss: 0.6828\n",
            "Epoch 15/20\n",
            "1/1 [==============================] - 0s 37ms/step - loss: 0.6828 - val_loss: 0.6815\n",
            "Epoch 16/20\n",
            "1/1 [==============================] - 0s 37ms/step - loss: 0.6815 - val_loss: 0.6802\n",
            "Epoch 17/20\n",
            "1/1 [==============================] - 0s 34ms/step - loss: 0.6802 - val_loss: 0.6789\n",
            "Epoch 18/20\n",
            "1/1 [==============================] - 0s 34ms/step - loss: 0.6789 - val_loss: 0.6777\n",
            "Epoch 19/20\n",
            "1/1 [==============================] - 0s 37ms/step - loss: 0.6777 - val_loss: 0.6765\n",
            "Epoch 20/20\n",
            "1/1 [==============================] - 0s 39ms/step - loss: 0.6765 - val_loss: 0.6754\n"
          ]
        },
        {
          "output_type": "execute_result",
          "data": {
            "text/plain": [
              "<keras.callbacks.History at 0x7ba370779240>"
            ]
          },
          "metadata": {},
          "execution_count": 63
        }
      ]
    },
    {
      "cell_type": "code",
      "source": [
        "# Encode and decode some digits\n",
        "# Note that we take them from the *test* set\n",
        "# This model maps an input to its encoded representation\n",
        "encoder = keras.Model(input_img, encoded)\n",
        "encoded_imgs = encoder.predict(x_train)\n"
      ],
      "metadata": {
        "colab": {
          "base_uri": "https://localhost:8080/"
        },
        "id": "nHSQcUgvV6r1",
        "outputId": "3e294815-1f44-40d4-b140-0ac328496063"
      },
      "execution_count": null,
      "outputs": [
        {
          "output_type": "stream",
          "name": "stdout",
          "text": [
            "1/1 [==============================] - 0s 79ms/step\n"
          ]
        }
      ]
    },
    {
      "cell_type": "code",
      "source": [
        "plt.figure(figsize=(6, 6))\n",
        "plt.scatter(encoded_imgs[:, 0], encoded_imgs[:, 1], c=y_train)\n",
        "plt.colorbar()\n",
        "plt.show()"
      ],
      "metadata": {
        "colab": {
          "base_uri": "https://localhost:8080/",
          "height": 528
        },
        "id": "Lp35DPseU7E1",
        "outputId": "8a09f3b3-a58c-4784-a5ab-ce01a5f4ed20"
      },
      "execution_count": null,
      "outputs": [
        {
          "output_type": "display_data",
          "data": {
            "text/plain": [
              "<Figure size 600x600 with 2 Axes>"
            ],
            "image/png": "[encoded data removed]"
          },
          "metadata": {}
        }
      ]
    },
    {
      "cell_type": "code",
      "source": [
        "encoded_imgs"
      ],
      "metadata": {
        "colab": {
          "base_uri": "https://localhost:8080/"
        },
        "id": "Vk5gR8WjU7Dt",
        "outputId": "74891fdc-781e-49b7-c903-8d71eeec79ce"
      },
      "execution_count": null,
      "outputs": [
        {
          "output_type": "execute_result",
          "data": {
            "text/plain": [
              "array([[0.        , 1.1805845 ],\n",
              "       [0.        , 1.4192028 ],\n",
              "       [0.        , 1.8069705 ],\n",
              "       [0.        , 2.231181  ],\n",
              "       [0.        , 2.4735572 ],\n",
              "       [1.0888935 , 3.5423849 ],\n",
              "       [0.        , 3.7223573 ],\n",
              "       [0.08171002, 2.0792823 ],\n",
              "       [0.04924046, 4.9006853 ],\n",
              "       [0.6636663 , 4.884096  ],\n",
              "       [0.26376823, 5.3869643 ]], dtype=float32)"
            ]
          },
          "metadata": {},
          "execution_count": 66
        }
      ]
    },
    {
      "cell_type": "code",
      "source": [],
      "metadata": {
        "id": "ZZLW5y0GYwHV"
      },
      "execution_count": null,
      "outputs": []
    },
    {
      "cell_type": "code",
      "source": [],
      "metadata": {
        "id": "3JRe4lvXYwCy"
      },
      "execution_count": null,
      "outputs": []
    },
    {
      "cell_type": "code",
      "source": [],
      "metadata": {
        "id": "AucoiEvLYpN0"
      },
      "execution_count": null,
      "outputs": []
    },
    {
      "cell_type": "code",
      "source": [],
      "metadata": {
        "id": "9s7gJh4zYg_W"
      },
      "execution_count": null,
      "outputs": []
    }
  ],
  "metadata": {
    "kernelspec": {
      "display_name": "Python 3",
      "name": "python3"
    },
    "language_info": {
      "codemirror_mode": {
        "name": "ipython",
        "version": 3
      },
      "file_extension": ".py",
      "mimetype": "text/x-python",
      "name": "python",
      "nbconvert_exporter": "python",
      "pygments_lexer": "ipython3",
      "version": "3.7.6"
    },
    "colab": {
      "provenance": [],
      "machine_shape": "hm",
      "include_colab_link": true
    }
  },
  "nbformat": 4,
  "nbformat_minor": 0
}