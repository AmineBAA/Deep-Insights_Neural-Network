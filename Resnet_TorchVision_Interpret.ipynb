{
  "cells": [
    {
      "cell_type": "markdown",
      "metadata": {
        "id": "view-in-github",
        "colab_type": "text"
      },
      "source": [
        "<a href=\"https://colab.research.google.com/github/AmineBAA/Deep-Insights_Neural-Network/blob/main/Resnet_TorchVision_Interpret.ipynb\" target=\"_parent\"><img src=\"https://colab.research.google.com/assets/colab-badge.svg\" alt=\"Open In Colab\"/></a>"
      ]
    },
    {
      "cell_type": "markdown",
      "metadata": {
        "id": "IigRlmI8siv7"
      },
      "source": [
        "# Model Interpretation for Pretrained ResNet Model: Neural activation classification with Autoencoder"
      ]
    },
    {
      "cell_type": "markdown",
      "metadata": {
        "id": "yiTZe7yasiwA"
      },
      "source": [
        "This notebook demonstrates how to apply model interpretability algorithms on pretrained ResNet model using a handpicked image and visualizes the attributions for each pixel by overlaying them on the image.\n",
        "\n",
        "Captum library privides function of Layer Conductance, that helps to evaluate importance of each neuron within a given Layer"
      ]
    },
    {
      "cell_type": "code",
      "source": [
        "pip install captum"
      ],
      "metadata": {
        "colab": {
          "base_uri": "https://localhost:8080/"
        },
        "id": "S0EeH6IIs9MF",
        "outputId": "61b235dd-0596-4f3f-af9e-01c155ec9299"
      },
      "execution_count": null,
      "outputs": [
        {
          "output_type": "stream",
          "name": "stdout",
          "text": [
            "Collecting captum\n",
            "  Downloading captum-0.6.0-py3-none-any.whl (1.3 MB)\n",
            "\u001b[?25l     \u001b[90m━━━━━━━━━━━━━━━━━━━━━━━━━━━━━━━━━━━━━━━━\u001b[0m \u001b[32m0.0/1.3 MB\u001b[0m \u001b[31m?\u001b[0m eta \u001b[36m-:--:--\u001b[0m\r\u001b[2K     \u001b[91m━\u001b[0m\u001b[91m╸\u001b[0m\u001b[90m━━━━━━━━━━━━━━━━━━━━━━━━━━━━━━━━━━━━━━\u001b[0m \u001b[32m0.1/1.3 MB\u001b[0m \u001b[31m1.7 MB/s\u001b[0m eta \u001b[36m0:00:01\u001b[0m\r\u001b[2K     \u001b[91m━━━━━━━━━━━━━━━━━━━━━━━━━━━━━━━━━━━━━━\u001b[0m\u001b[91m╸\u001b[0m\u001b[90m━\u001b[0m \u001b[32m1.3/1.3 MB\u001b[0m \u001b[31m18.3 MB/s\u001b[0m eta \u001b[36m0:00:01\u001b[0m\r\u001b[2K     \u001b[90m━━━━━━━━━━━━━━━━━━━━━━━━━━━━━━━━━━━━━━━━\u001b[0m \u001b[32m1.3/1.3 MB\u001b[0m \u001b[31m14.9 MB/s\u001b[0m eta \u001b[36m0:00:00\u001b[0m\n",
            "\u001b[?25hRequirement already satisfied: matplotlib in /usr/local/lib/python3.10/dist-packages (from captum) (3.7.1)\n",
            "Requirement already satisfied: numpy in /usr/local/lib/python3.10/dist-packages (from captum) (1.23.5)\n",
            "Requirement already satisfied: torch>=1.6 in /usr/local/lib/python3.10/dist-packages (from captum) (2.0.1+cu118)\n",
            "Requirement already satisfied: filelock in /usr/local/lib/python3.10/dist-packages (from torch>=1.6->captum) (3.12.2)\n",
            "Requirement already satisfied: typing-extensions in /usr/local/lib/python3.10/dist-packages (from torch>=1.6->captum) (4.5.0)\n",
            "Requirement already satisfied: sympy in /usr/local/lib/python3.10/dist-packages (from torch>=1.6->captum) (1.12)\n",
            "Requirement already satisfied: networkx in /usr/local/lib/python3.10/dist-packages (from torch>=1.6->captum) (3.1)\n",
            "Requirement already satisfied: jinja2 in /usr/local/lib/python3.10/dist-packages (from torch>=1.6->captum) (3.1.2)\n",
            "Requirement already satisfied: triton==2.0.0 in /usr/local/lib/python3.10/dist-packages (from torch>=1.6->captum) (2.0.0)\n",
            "Requirement already satisfied: cmake in /usr/local/lib/python3.10/dist-packages (from triton==2.0.0->torch>=1.6->captum) (3.27.4.1)\n",
            "Requirement already satisfied: lit in /usr/local/lib/python3.10/dist-packages (from triton==2.0.0->torch>=1.6->captum) (16.0.6)\n",
            "Requirement already satisfied: contourpy>=1.0.1 in /usr/local/lib/python3.10/dist-packages (from matplotlib->captum) (1.1.0)\n",
            "Requirement already satisfied: cycler>=0.10 in /usr/local/lib/python3.10/dist-packages (from matplotlib->captum) (0.11.0)\n",
            "Requirement already satisfied: fonttools>=4.22.0 in /usr/local/lib/python3.10/dist-packages (from matplotlib->captum) (4.42.1)\n",
            "Requirement already satisfied: kiwisolver>=1.0.1 in /usr/local/lib/python3.10/dist-packages (from matplotlib->captum) (1.4.5)\n",
            "Requirement already satisfied: packaging>=20.0 in /usr/local/lib/python3.10/dist-packages (from matplotlib->captum) (23.1)\n",
            "Requirement already satisfied: pillow>=6.2.0 in /usr/local/lib/python3.10/dist-packages (from matplotlib->captum) (9.4.0)\n",
            "Requirement already satisfied: pyparsing>=2.3.1 in /usr/local/lib/python3.10/dist-packages (from matplotlib->captum) (3.1.1)\n",
            "Requirement already satisfied: python-dateutil>=2.7 in /usr/local/lib/python3.10/dist-packages (from matplotlib->captum) (2.8.2)\n",
            "Requirement already satisfied: six>=1.5 in /usr/local/lib/python3.10/dist-packages (from python-dateutil>=2.7->matplotlib->captum) (1.16.0)\n",
            "Requirement already satisfied: MarkupSafe>=2.0 in /usr/local/lib/python3.10/dist-packages (from jinja2->torch>=1.6->captum) (2.1.3)\n",
            "Requirement already satisfied: mpmath>=0.19 in /usr/local/lib/python3.10/dist-packages (from sympy->torch>=1.6->captum) (1.3.0)\n",
            "Installing collected packages: captum\n",
            "Successfully installed captum-0.6.0\n"
          ]
        }
      ]
    },
    {
      "cell_type": "code",
      "execution_count": null,
      "metadata": {
        "id": "k8J2PydasiwB"
      },
      "outputs": [],
      "source": [
        "import torch\n",
        "import torch.nn.functional as F\n",
        "\n",
        "from PIL import Image\n",
        "\n",
        "import os\n",
        "import json\n",
        "import numpy as np\n",
        "from matplotlib.colors import LinearSegmentedColormap\n",
        "\n",
        "import torchvision\n",
        "from torchvision import models\n",
        "from torchvision import transforms\n",
        "\n",
        "from captum.attr import IntegratedGradients\n",
        "from captum.attr import GradientShap\n",
        "from captum.attr import Occlusion\n",
        "from captum.attr import NoiseTunnel\n",
        "from captum.attr import visualization as viz"
      ]
    },
    {
      "cell_type": "code",
      "source": [
        "import matplotlib.pyplot as plt"
      ],
      "metadata": {
        "id": "UHUEdtza_D7B"
      },
      "execution_count": null,
      "outputs": []
    },
    {
      "cell_type": "code",
      "source": [
        "dir(models)"
      ],
      "metadata": {
        "id": "e4dEuJpH-SX0"
      },
      "execution_count": null,
      "outputs": []
    },
    {
      "cell_type": "markdown",
      "metadata": {
        "id": "D8EpTB_ysiwD"
      },
      "source": [
        "## 1- Loading the model and the dataset\n"
      ]
    },
    {
      "cell_type": "markdown",
      "metadata": {
        "id": "s97qQ39fsiwE"
      },
      "source": [
        "Loads pretrained Resnet model and sets it to eval mode"
      ]
    },
    {
      "cell_type": "code",
      "execution_count": null,
      "metadata": {
        "colab": {
          "base_uri": "https://localhost:8080/"
        },
        "id": "CavnkdmesiwE",
        "outputId": "865f9aad-9aa4-4d3b-cfd4-154ceb2968cd"
      },
      "outputs": [
        {
          "output_type": "stream",
          "name": "stderr",
          "text": [
            "/usr/local/lib/python3.10/dist-packages/torchvision/models/_utils.py:208: UserWarning: The parameter 'pretrained' is deprecated since 0.13 and may be removed in the future, please use 'weights' instead.\n",
            "  warnings.warn(\n",
            "/usr/local/lib/python3.10/dist-packages/torchvision/models/_utils.py:223: UserWarning: Arguments other than a weight enum or `None` for 'weights' are deprecated since 0.13 and may be removed in the future. The current behavior is equivalent to passing `weights=ResNet18_Weights.IMAGENET1K_V1`. You can also use `weights=ResNet18_Weights.DEFAULT` to get the most up-to-date weights.\n",
            "  warnings.warn(msg)\n",
            "Downloading: \"https://download.pytorch.org/models/resnet18-f37072fd.pth\" to /root/.cache/torch/hub/checkpoints/resnet18-f37072fd.pth\n",
            "100%|██████████| 44.7M/44.7M [00:00<00:00, 273MB/s]\n"
          ]
        }
      ],
      "source": [
        "model = models.resnet18(pretrained=True)\n",
        "model = model.eval()"
      ]
    },
    {
      "cell_type": "markdown",
      "metadata": {
        "id": "afQl4211siwF"
      },
      "source": [
        "Downloads the list of classes/labels for ImageNet dataset and reads them into the memory"
      ]
    },
    {
      "cell_type": "code",
      "execution_count": null,
      "metadata": {
        "colab": {
          "base_uri": "https://localhost:8080/"
        },
        "id": "Q0brGoEQsiwF",
        "outputId": "b3508237-893b-4168-c3d8-52974c2fbafa"
      },
      "outputs": [
        {
          "output_type": "stream",
          "name": "stdout",
          "text": [
            "--2023-09-10 11:40:34--  https://s3.amazonaws.com/deep-learning-models/image-models/imagenet_class_index.json\n",
            "Resolving s3.amazonaws.com (s3.amazonaws.com)... 52.216.153.46, 52.217.90.190, 52.216.142.46, ...\n",
            "Connecting to s3.amazonaws.com (s3.amazonaws.com)|52.216.153.46|:443... connected.\n",
            "HTTP request sent, awaiting response... 200 OK\n",
            "Length: 35363 (35K) [application/octet-stream]\n",
            "Saving to: ‘/root/.torch/models/imagenet_class_index.json’\n",
            "\n",
            "\r          imagenet_   0%[                    ]       0  --.-KB/s               \rimagenet_class_inde 100%[===================>]  34.53K  --.-KB/s    in 0.002s  \n",
            "\n",
            "2023-09-10 11:40:35 (14.5 MB/s) - ‘/root/.torch/models/imagenet_class_index.json’ saved [35363/35363]\n",
            "\n"
          ]
        }
      ],
      "source": [
        "!wget -P $HOME/.torch/models https://s3.amazonaws.com/deep-learning-models/image-models/imagenet_class_index.json"
      ]
    },
    {
      "cell_type": "code",
      "execution_count": null,
      "metadata": {
        "id": "qX5Nbt_9siwH"
      },
      "outputs": [],
      "source": [
        "labels_path = os.getenv(\"HOME\") + '/.torch/models/imagenet_class_index.json'\n",
        "with open(labels_path) as json_data:\n",
        "    idx_to_labels = json.load(json_data)"
      ]
    },
    {
      "cell_type": "markdown",
      "metadata": {
        "id": "I1frMEODsiwH"
      },
      "source": [
        "Defines transformers and normalizing functions for the image.\n",
        "It also loads an image from the `img/resnet/` folder that will be used for interpretation purposes."
      ]
    },
    {
      "cell_type": "code",
      "execution_count": null,
      "metadata": {
        "id": "TOcXPDP4siwI"
      },
      "outputs": [],
      "source": [
        "transform = transforms.Compose([\n",
        " transforms.Resize(256),\n",
        " transforms.CenterCrop(224),\n",
        " transforms.ToTensor()\n",
        "])\n",
        "\n",
        "transform_normalize = transforms.Normalize(\n",
        "     mean=[0.485, 0.456, 0.406],\n",
        "     std=[0.229, 0.224, 0.225]\n",
        " )\n",
        "\n",
        "img = Image.open('/content/concept/concept_1.jpg')\n",
        "\n",
        "transformed_img = transform(img)\n",
        "\n",
        "input = transform_normalize(transformed_img)\n",
        "input = input.unsqueeze(0)"
      ]
    },
    {
      "cell_type": "markdown",
      "metadata": {
        "id": "vNZJG6CAsiwI"
      },
      "source": [
        "Predict the class of the input image"
      ]
    },
    {
      "cell_type": "code",
      "execution_count": null,
      "metadata": {
        "colab": {
          "base_uri": "https://localhost:8080/"
        },
        "id": "R-ZSeZBGsiwI",
        "outputId": "942de871-a37d-46dc-af57-5de6cc438f6f"
      },
      "outputs": [
        {
          "output_type": "stream",
          "name": "stdout",
          "text": [
            "Predicted: lion ( 0.9131245017051697 )\n"
          ]
        }
      ],
      "source": [
        "output = model(input)\n",
        "output = F.softmax(output, dim=1)\n",
        "prediction_score, pred_label_idx = torch.topk(output, 1)\n",
        "\n",
        "pred_label_idx.squeeze_()\n",
        "predicted_label = idx_to_labels[str(pred_label_idx.item())][1]\n",
        "print('Predicted:', predicted_label, '(', prediction_score.squeeze().item(), ')')\n"
      ]
    },
    {
      "cell_type": "code",
      "source": [
        "pred_label_idx.item()"
      ],
      "metadata": {
        "colab": {
          "base_uri": "https://localhost:8080/"
        },
        "id": "6fYC_z4-psCS",
        "outputId": "f24ef729-b4c7-4e60-f306-49d8611c4dbe"
      },
      "execution_count": null,
      "outputs": [
        {
          "output_type": "execute_result",
          "data": {
            "text/plain": [
              "291"
            ]
          },
          "metadata": {},
          "execution_count": 295
        }
      ]
    },
    {
      "cell_type": "markdown",
      "metadata": {
        "id": "J4cfOWXUsiwI"
      },
      "source": [
        "## 2- Gradient-based attribution"
      ]
    },
    {
      "cell_type": "markdown",
      "metadata": {
        "id": "4vrUrMHNsiwI"
      },
      "source": [
        "Let's compute attributions using Integrated Gradients and visualize them on the image. Integrated gradients computes the integral of the gradients of the output of the model for the predicted class `pred_label_idx` with respect to the input image pixels along the path from the black image to our input image."
      ]
    },
    {
      "cell_type": "code",
      "execution_count": null,
      "metadata": {
        "colab": {
          "base_uri": "https://localhost:8080/"
        },
        "id": "Ze2ef-imsiwI",
        "outputId": "a931b3d1-142f-47ea-c78d-7b906efddac9"
      },
      "outputs": [
        {
          "output_type": "stream",
          "name": "stdout",
          "text": [
            "Predicted: goldfinch ( 0.9933870434761047 )\n"
          ]
        }
      ],
      "source": [
        "print('Predicted:', predicted_label, '(', prediction_score.squeeze().item(), ')')\n",
        "\n",
        "integrated_gradients = IntegratedGradients(model)\n",
        "attributions_ig = integrated_gradients.attribute(input, target=pred_label_idx, n_steps=200)\n"
      ]
    },
    {
      "cell_type": "markdown",
      "metadata": {
        "id": "QuHqBhVNsiwJ"
      },
      "source": [
        "Let's visualize the image and corresponding attributions by overlaying the latter on the image."
      ]
    },
    {
      "cell_type": "code",
      "source": [
        "model.features.denseblock1"
      ],
      "metadata": {
        "id": "gHmrjh1BFlIK"
      },
      "execution_count": null,
      "outputs": []
    },
    {
      "cell_type": "code",
      "source": [
        "layer_conv=model.layer4"
      ],
      "metadata": {
        "id": "6hT9CiTgdBm_"
      },
      "execution_count": null,
      "outputs": []
    },
    {
      "cell_type": "code",
      "source": [
        "layer_conv"
      ],
      "metadata": {
        "id": "E-DCL1jxdzEz"
      },
      "execution_count": null,
      "outputs": []
    },
    {
      "cell_type": "code",
      "source": [
        "# Convert convolutional layer to fully connected"
      ],
      "metadata": {
        "id": "Vq01NjdTdbUM"
      },
      "execution_count": null,
      "outputs": []
    },
    {
      "cell_type": "code",
      "source": [
        "dir(model)"
      ],
      "metadata": {
        "id": "Oieorji6fpUu"
      },
      "execution_count": null,
      "outputs": []
    },
    {
      "cell_type": "markdown",
      "source": [
        "## 3- Layer Conductance"
      ],
      "metadata": {
        "id": "upGS-IL4dg75"
      }
    },
    {
      "cell_type": "code",
      "source": [
        "from captum.attr import LayerConductance\n",
        "cond =LayerConductance(model, layer_conv)"
      ],
      "metadata": {
        "id": "tA1azY7WtvwX"
      },
      "execution_count": null,
      "outputs": []
    },
    {
      "cell_type": "code",
      "source": [
        "cond_vals = cond.attribute(input,target=291)  #11 class of 'goldfinch' in imagenet dataset\n",
        "cond_vals = cond_vals.detach().numpy()"
      ],
      "metadata": {
        "id": "_AoVgOMouoaE"
      },
      "execution_count": null,
      "outputs": []
    },
    {
      "cell_type": "code",
      "source": [
        "cond_vals.shape"
      ],
      "metadata": {
        "colab": {
          "base_uri": "https://localhost:8080/"
        },
        "id": "iygzToetrbDe",
        "outputId": "a5a05807-5fe1-460a-92e2-727f4c3dcbb2"
      },
      "execution_count": null,
      "outputs": [
        {
          "output_type": "execute_result",
          "data": {
            "text/plain": [
              "(1, 512, 7, 7)"
            ]
          },
          "metadata": {},
          "execution_count": 468
        }
      ]
    },
    {
      "cell_type": "code",
      "source": [
        "cond_vals_flatten=cond_vals.reshape((512,7*7))"
      ],
      "metadata": {
        "id": "s0jusIxAu9pC"
      },
      "execution_count": null,
      "outputs": []
    },
    {
      "cell_type": "code",
      "source": [
        "cond_vals_flatten.shape"
      ],
      "metadata": {
        "colab": {
          "base_uri": "https://localhost:8080/"
        },
        "id": "N-ZZhRJur9cc",
        "outputId": "86a8a83d-2014-4b0c-ef2c-b967af52a457"
      },
      "execution_count": null,
      "outputs": [
        {
          "output_type": "execute_result",
          "data": {
            "text/plain": [
              "(512, 49)"
            ]
          },
          "metadata": {},
          "execution_count": 445
        }
      ]
    },
    {
      "cell_type": "code",
      "source": [
        "plt.hist(cond_vals[50][0], 100);\n",
        "plt.title(\"Neuron 50 Distribution\")\n",
        "plt.figure()\n",
        "plt.hist(cond_vals[19][0], 100);\n",
        "plt.title(\"Neuron 19 Distribution\");"
      ],
      "metadata": {
        "id": "3kB-Q6j7u9lu"
      },
      "execution_count": null,
      "outputs": []
    },
    {
      "cell_type": "code",
      "source": [
        "# Helper method to print importances and visualize distribution\n",
        "def visualize_importances(feature_names, importances, title=\"Average Feature Importances\", plot=True, axis_title=\"Features\"):\n",
        "    print(title)\n",
        "    for i in range(len(feature_names)):\n",
        "        print(feature_names[i], \": \", '%.4f'%(importances[i]))\n",
        "    x_pos = (np.arange(len(feature_names)))\n",
        "    if plot:\n",
        "        plt.figure(figsize=(12,6))\n",
        "        cmap = plt.get_cmap('copper')\n",
        "        norm = plt.Normalize(importances.min(), importances.max())\n",
        "        colors = cmap(norm(importances))\n",
        "        plt.bar(x_pos, importances, align='center',color=colors)\n",
        "        plt.xticks(x_pos, feature_names, wrap=True)\n",
        "        plt.xlabel(axis_title)\n",
        "        plt.title(title)\n"
      ],
      "metadata": {
        "id": "hbK_69jsu9gn"
      },
      "execution_count": null,
      "outputs": []
    },
    {
      "cell_type": "code",
      "source": [
        "visualize_importances(range(512),np.mean(cond_vals_flatten, axis=1),title=\"Average Neuron Importances\", axis_title=\"Neurons\")"
      ],
      "metadata": {
        "colab": {
          "base_uri": "https://localhost:8080/",
          "height": 1000
        },
        "id": "vWENOWSwqYsI",
        "outputId": "34ebb1db-824e-4d8d-de06-7220fcdc9bad"
      },
      "execution_count": null,
      "outputs": [
        {
          "output_type": "stream",
          "name": "stdout",
          "text": [
            "Average Neuron Importances\n",
            "0 :  -0.0007\n",
            "1 :  0.0010\n",
            "2 :  0.0022\n",
            "3 :  0.0000\n",
            "4 :  -0.0007\n",
            "5 :  0.0062\n",
            "6 :  0.0066\n",
            "7 :  -0.0008\n",
            "8 :  0.0002\n",
            "9 :  0.0084\n",
            "10 :  -0.0004\n",
            "11 :  0.0006\n",
            "12 :  -0.0001\n",
            "13 :  0.0007\n",
            "14 :  0.0002\n",
            "15 :  -0.0001\n",
            "16 :  -0.0000\n",
            "17 :  -0.0004\n",
            "18 :  -0.0004\n",
            "19 :  0.0012\n",
            "20 :  0.0010\n",
            "21 :  0.0079\n",
            "22 :  -0.0004\n",
            "23 :  -0.0001\n",
            "24 :  -0.0004\n",
            "25 :  -0.0001\n",
            "26 :  -0.0001\n",
            "27 :  -0.0006\n",
            "28 :  0.0065\n",
            "29 :  -0.0014\n",
            "30 :  -0.0001\n",
            "31 :  0.0005\n",
            "32 :  0.0018\n",
            "33 :  0.0004\n",
            "34 :  -0.0001\n",
            "35 :  -0.0006\n",
            "36 :  -0.0001\n",
            "37 :  -0.0002\n",
            "38 :  0.0005\n",
            "39 :  -0.0001\n",
            "40 :  0.0000\n",
            "41 :  -0.0000\n",
            "42 :  -0.0014\n",
            "43 :  0.0075\n",
            "44 :  -0.0006\n",
            "45 :  -0.0004\n",
            "46 :  0.0006\n",
            "47 :  -0.0001\n",
            "48 :  -0.0003\n",
            "49 :  -0.0018\n",
            "50 :  0.0001\n",
            "51 :  0.0067\n",
            "52 :  -0.0001\n",
            "53 :  -0.0001\n",
            "54 :  0.0005\n",
            "55 :  -0.0001\n",
            "56 :  -0.0009\n",
            "57 :  0.0005\n",
            "58 :  0.0006\n",
            "59 :  0.0001\n",
            "60 :  0.0017\n",
            "61 :  0.0090\n",
            "62 :  -0.0024\n",
            "63 :  0.0004\n",
            "64 :  0.0006\n",
            "65 :  0.0023\n",
            "66 :  -0.0010\n",
            "67 :  -0.0001\n",
            "68 :  -0.0003\n",
            "69 :  -0.0000\n",
            "70 :  -0.0006\n",
            "71 :  -0.0002\n",
            "72 :  0.0000\n",
            "73 :  -0.0003\n",
            "74 :  -0.0020\n",
            "75 :  0.0000\n",
            "76 :  -0.0004\n",
            "77 :  0.0095\n",
            "78 :  0.0001\n",
            "79 :  -0.0004\n",
            "80 :  0.0020\n",
            "81 :  0.0013\n",
            "82 :  -0.0001\n",
            "83 :  -0.0007\n",
            "84 :  -0.0003\n",
            "85 :  0.0023\n",
            "86 :  -0.0001\n",
            "87 :  0.0005\n",
            "88 :  -0.0012\n",
            "89 :  -0.0001\n",
            "90 :  -0.0005\n",
            "91 :  0.0016\n",
            "92 :  0.0001\n",
            "93 :  -0.0005\n",
            "94 :  0.0000\n",
            "95 :  -0.0003\n",
            "96 :  0.0000\n",
            "97 :  0.0065\n",
            "98 :  -0.0000\n",
            "99 :  -0.0004\n",
            "100 :  0.0003\n",
            "101 :  0.0006\n",
            "102 :  -0.0008\n",
            "103 :  -0.0000\n",
            "104 :  0.0037\n",
            "105 :  0.0008\n",
            "106 :  -0.0009\n",
            "107 :  -0.0001\n",
            "108 :  -0.0003\n",
            "109 :  -0.0003\n",
            "110 :  0.0000\n",
            "111 :  -0.0011\n",
            "112 :  -0.0002\n",
            "113 :  -0.0000\n",
            "114 :  -0.0004\n",
            "115 :  0.0010\n",
            "116 :  0.0003\n",
            "117 :  -0.0024\n",
            "118 :  0.0000\n",
            "119 :  -0.0001\n",
            "120 :  -0.0008\n",
            "121 :  -0.0001\n",
            "122 :  0.0015\n",
            "123 :  -0.0001\n",
            "124 :  -0.0003\n",
            "125 :  -0.0002\n",
            "126 :  0.0005\n",
            "127 :  0.0017\n",
            "128 :  0.0004\n",
            "129 :  0.0032\n",
            "130 :  -0.0005\n",
            "131 :  0.0001\n",
            "132 :  -0.0005\n",
            "133 :  -0.0002\n",
            "134 :  0.0001\n",
            "135 :  0.0000\n",
            "136 :  0.0026\n",
            "137 :  -0.0006\n",
            "138 :  0.0015\n",
            "139 :  -0.0002\n",
            "140 :  0.0024\n",
            "141 :  0.0013\n",
            "142 :  -0.0028\n",
            "143 :  -0.0000\n",
            "144 :  0.0035\n",
            "145 :  -0.0005\n",
            "146 :  0.0000\n",
            "147 :  0.0004\n",
            "148 :  -0.0007\n",
            "149 :  -0.0000\n",
            "150 :  -0.0001\n",
            "151 :  -0.0017\n",
            "152 :  -0.0003\n",
            "153 :  -0.0003\n",
            "154 :  0.0001\n",
            "155 :  -0.0005\n",
            "156 :  0.0217\n",
            "157 :  -0.0005\n",
            "158 :  0.0045\n",
            "159 :  -0.0002\n",
            "160 :  0.0029\n",
            "161 :  0.0013\n",
            "162 :  -0.0002\n",
            "163 :  -0.0020\n",
            "164 :  -0.0000\n",
            "165 :  -0.0003\n",
            "166 :  -0.0000\n",
            "167 :  0.0003\n",
            "168 :  -0.0006\n",
            "169 :  -0.0001\n",
            "170 :  0.0000\n",
            "171 :  -0.0003\n",
            "172 :  -0.0004\n",
            "173 :  0.0022\n",
            "174 :  -0.0004\n",
            "175 :  -0.0001\n",
            "176 :  0.0000\n",
            "177 :  -0.0000\n",
            "178 :  0.0017\n",
            "179 :  0.0040\n",
            "180 :  0.0074\n",
            "181 :  0.0016\n",
            "182 :  -0.0002\n",
            "183 :  -0.0010\n",
            "184 :  -0.0000\n",
            "185 :  0.0010\n",
            "186 :  0.0016\n",
            "187 :  -0.0010\n",
            "188 :  -0.0005\n",
            "189 :  0.0035\n",
            "190 :  -0.0001\n",
            "191 :  -0.0000\n",
            "192 :  0.0002\n",
            "193 :  -0.0020\n",
            "194 :  0.0004\n",
            "195 :  -0.0007\n",
            "196 :  -0.0006\n",
            "197 :  -0.0011\n",
            "198 :  -0.0011\n",
            "199 :  -0.0008\n",
            "200 :  -0.0003\n",
            "201 :  0.0000\n",
            "202 :  0.0159\n",
            "203 :  -0.0001\n",
            "204 :  -0.0008\n",
            "205 :  -0.0000\n",
            "206 :  -0.0001\n",
            "207 :  -0.0002\n",
            "208 :  0.0016\n",
            "209 :  -0.0010\n",
            "210 :  -0.0007\n",
            "211 :  -0.0005\n",
            "212 :  0.0001\n",
            "213 :  0.0002\n",
            "214 :  -0.0008\n",
            "215 :  -0.0013\n",
            "216 :  -0.0001\n",
            "217 :  -0.0004\n",
            "218 :  -0.0007\n",
            "219 :  0.0038\n",
            "220 :  -0.0001\n",
            "221 :  -0.0022\n",
            "222 :  -0.0001\n",
            "223 :  -0.0007\n",
            "224 :  0.0002\n",
            "225 :  -0.0002\n",
            "226 :  -0.0005\n",
            "227 :  -0.0001\n",
            "228 :  -0.0001\n",
            "229 :  -0.0006\n",
            "230 :  0.0055\n",
            "231 :  -0.0002\n",
            "232 :  0.0000\n",
            "233 :  -0.0003\n",
            "234 :  -0.0002\n",
            "235 :  -0.0001\n",
            "236 :  0.0005\n",
            "237 :  -0.0001\n",
            "238 :  -0.0001\n",
            "239 :  0.0009\n",
            "240 :  0.0001\n",
            "241 :  0.0000\n",
            "242 :  0.0187\n",
            "243 :  -0.0000\n",
            "244 :  0.0003\n",
            "245 :  -0.0003\n",
            "246 :  -0.0001\n",
            "247 :  -0.0001\n",
            "248 :  -0.0000\n",
            "249 :  0.0003\n",
            "250 :  0.0066\n",
            "251 :  -0.0000\n",
            "252 :  -0.0007\n",
            "253 :  -0.0015\n",
            "254 :  0.0003\n",
            "255 :  0.0109\n",
            "256 :  -0.0000\n",
            "257 :  -0.0015\n",
            "258 :  0.0014\n",
            "259 :  -0.0002\n",
            "260 :  0.0003\n",
            "261 :  0.0011\n",
            "262 :  0.0002\n",
            "263 :  0.0060\n",
            "264 :  0.0022\n",
            "265 :  0.0007\n",
            "266 :  -0.0004\n",
            "267 :  -0.0003\n",
            "268 :  0.0001\n",
            "269 :  -0.0007\n",
            "270 :  -0.0000\n",
            "271 :  0.0050\n",
            "272 :  -0.0010\n",
            "273 :  -0.0006\n",
            "274 :  -0.0000\n",
            "275 :  -0.0001\n",
            "276 :  0.0004\n",
            "277 :  0.0000\n",
            "278 :  0.0025\n",
            "279 :  -0.0000\n",
            "280 :  -0.0000\n",
            "281 :  0.0000\n",
            "282 :  0.0007\n",
            "283 :  -0.0001\n",
            "284 :  0.0001\n",
            "285 :  0.0017\n",
            "286 :  -0.0000\n",
            "287 :  0.0000\n",
            "288 :  0.0025\n",
            "289 :  -0.0000\n",
            "290 :  -0.0001\n",
            "291 :  0.0000\n",
            "292 :  0.0077\n",
            "293 :  0.0002\n",
            "294 :  0.0001\n",
            "295 :  0.0000\n",
            "296 :  -0.0002\n",
            "297 :  0.0023\n",
            "298 :  -0.0009\n",
            "299 :  -0.0009\n",
            "300 :  0.0026\n",
            "301 :  0.0090\n",
            "302 :  0.0001\n",
            "303 :  -0.0004\n",
            "304 :  0.0000\n",
            "305 :  0.0002\n",
            "306 :  0.0036\n",
            "307 :  0.0007\n",
            "308 :  -0.0002\n",
            "309 :  0.0035\n",
            "310 :  0.0024\n",
            "311 :  -0.0003\n",
            "312 :  -0.0002\n",
            "313 :  0.0013\n",
            "314 :  -0.0014\n",
            "315 :  0.0077\n",
            "316 :  0.0002\n",
            "317 :  -0.0018\n",
            "318 :  -0.0001\n",
            "319 :  -0.0002\n",
            "320 :  -0.0002\n",
            "321 :  -0.0005\n",
            "322 :  -0.0001\n",
            "323 :  -0.0002\n",
            "324 :  -0.0007\n",
            "325 :  -0.0005\n",
            "326 :  -0.0001\n",
            "327 :  0.0004\n",
            "328 :  0.0008\n",
            "329 :  -0.0001\n",
            "330 :  -0.0001\n",
            "331 :  0.0013\n",
            "332 :  -0.0000\n",
            "333 :  0.0000\n",
            "334 :  0.0013\n",
            "335 :  -0.0003\n",
            "336 :  0.0049\n",
            "337 :  -0.0013\n",
            "338 :  -0.0004\n",
            "339 :  0.0001\n",
            "340 :  -0.0001\n",
            "341 :  -0.0003\n",
            "342 :  0.0002\n",
            "343 :  0.0018\n",
            "344 :  0.0035\n",
            "345 :  0.0032\n",
            "346 :  0.0099\n",
            "347 :  -0.0006\n",
            "348 :  -0.0005\n",
            "349 :  0.0004\n",
            "350 :  0.0000\n",
            "351 :  -0.0001\n",
            "352 :  -0.0002\n",
            "353 :  0.0001\n",
            "354 :  0.0001\n",
            "355 :  0.0000\n",
            "356 :  0.0047\n",
            "357 :  -0.0003\n",
            "358 :  0.0002\n",
            "359 :  0.0015\n",
            "360 :  -0.0001\n",
            "361 :  0.0004\n",
            "362 :  0.0001\n",
            "363 :  0.0032\n",
            "364 :  0.0005\n",
            "365 :  -0.0005\n",
            "366 :  0.0000\n",
            "367 :  -0.0009\n",
            "368 :  0.0005\n",
            "369 :  0.0122\n",
            "370 :  -0.0006\n",
            "371 :  0.0004\n",
            "372 :  0.0015\n",
            "373 :  -0.0008\n",
            "374 :  0.0011\n",
            "375 :  -0.0002\n",
            "376 :  -0.0010\n",
            "377 :  -0.0000\n",
            "378 :  0.0025\n",
            "379 :  -0.0005\n",
            "380 :  0.0001\n",
            "381 :  0.0010\n",
            "382 :  0.0001\n",
            "383 :  -0.0000\n",
            "384 :  -0.0000\n",
            "385 :  0.0051\n",
            "386 :  -0.0003\n",
            "387 :  -0.0002\n",
            "388 :  0.0001\n",
            "389 :  -0.0001\n",
            "390 :  -0.0001\n",
            "391 :  -0.0002\n",
            "392 :  -0.0002\n",
            "393 :  0.0009\n",
            "394 :  -0.0006\n",
            "395 :  -0.0005\n",
            "396 :  -0.0004\n",
            "397 :  0.0000\n",
            "398 :  -0.0004\n",
            "399 :  -0.0004\n",
            "400 :  0.0009\n",
            "401 :  0.0001\n",
            "402 :  0.0008\n",
            "403 :  -0.0003\n",
            "404 :  0.0013\n",
            "405 :  0.0006\n",
            "406 :  0.0010\n",
            "407 :  -0.0001\n",
            "408 :  0.0005\n",
            "409 :  0.0011\n",
            "410 :  0.0105\n",
            "411 :  0.0001\n",
            "412 :  0.0007\n",
            "413 :  -0.0002\n",
            "414 :  0.0038\n",
            "415 :  -0.0001\n",
            "416 :  -0.0001\n",
            "417 :  0.0002\n",
            "418 :  0.0007\n",
            "419 :  0.0002\n",
            "420 :  0.0001\n",
            "421 :  -0.0001\n",
            "422 :  0.0005\n",
            "423 :  0.0006\n",
            "424 :  0.0052\n",
            "425 :  -0.0001\n",
            "426 :  -0.0001\n",
            "427 :  0.0056\n",
            "428 :  -0.0001\n",
            "429 :  0.0000\n",
            "430 :  -0.0002\n",
            "431 :  -0.0001\n",
            "432 :  0.0002\n",
            "433 :  0.0089\n",
            "434 :  -0.0008\n",
            "435 :  0.0000\n",
            "436 :  -0.0002\n",
            "437 :  -0.0005\n",
            "438 :  -0.0003\n",
            "439 :  0.0043\n",
            "440 :  -0.0002\n",
            "441 :  -0.0008\n",
            "442 :  0.0011\n",
            "443 :  0.0031\n",
            "444 :  0.0017\n",
            "445 :  0.0004\n",
            "446 :  -0.0003\n",
            "447 :  -0.0003\n",
            "448 :  0.0002\n",
            "449 :  -0.0001\n",
            "450 :  -0.0009\n",
            "451 :  -0.0011\n",
            "452 :  -0.0000\n",
            "453 :  -0.0007\n",
            "454 :  -0.0010\n",
            "455 :  -0.0001\n",
            "456 :  0.0003\n",
            "457 :  0.0002\n",
            "458 :  -0.0007\n",
            "459 :  -0.0004\n",
            "460 :  -0.0000\n",
            "461 :  0.0054\n",
            "462 :  -0.0008\n",
            "463 :  0.0051\n",
            "464 :  -0.0002\n",
            "465 :  -0.0021\n",
            "466 :  -0.0001\n",
            "467 :  0.0017\n",
            "468 :  0.0001\n",
            "469 :  -0.0000\n",
            "470 :  -0.0004\n",
            "471 :  -0.0005\n",
            "472 :  0.0002\n",
            "473 :  -0.0011\n",
            "474 :  0.0010\n",
            "475 :  -0.0004\n",
            "476 :  -0.0003\n",
            "477 :  -0.0002\n",
            "478 :  0.0004\n",
            "479 :  -0.0003\n",
            "480 :  -0.0004\n",
            "481 :  0.0009\n",
            "482 :  -0.0001\n",
            "483 :  -0.0001\n",
            "484 :  0.0005\n",
            "485 :  -0.0002\n",
            "486 :  -0.0005\n",
            "487 :  -0.0003\n",
            "488 :  -0.0003\n",
            "489 :  0.0002\n",
            "490 :  0.0003\n",
            "491 :  0.0014\n",
            "492 :  0.0107\n",
            "493 :  0.0142\n",
            "494 :  0.0007\n",
            "495 :  0.0004\n",
            "496 :  -0.0003\n",
            "497 :  -0.0004\n",
            "498 :  0.0000\n",
            "499 :  0.0001\n",
            "500 :  -0.0008\n",
            "501 :  -0.0005\n",
            "502 :  -0.0005\n",
            "503 :  -0.0007\n",
            "504 :  -0.0003\n",
            "505 :  0.0065\n",
            "506 :  0.0001\n",
            "507 :  0.0000\n",
            "508 :  -0.0001\n",
            "509 :  0.0000\n",
            "510 :  -0.0001\n",
            "511 :  0.0000\n"
          ]
        },
        {
          "output_type": "display_data",
          "data": {
            "text/plain": [
              "<Figure size 1200x600 with 1 Axes>"
            ],
            "image/png": "[encoded data removed]"
          },
          "metadata": {}
        }
      ]
    },
    {
      "cell_type": "code",
      "source": [
        "np.mean(cond_vals_flatten[17,])"
      ],
      "metadata": {
        "colab": {
          "base_uri": "https://localhost:8080/"
        },
        "id": "RklF-xzErBaP",
        "outputId": "58572434-1587-46df-8620-d6cdf6a44aad"
      },
      "execution_count": null,
      "outputs": [
        {
          "output_type": "execute_result",
          "data": {
            "text/plain": [
              "-0.00033750583"
            ]
          },
          "metadata": {},
          "execution_count": 471
        }
      ]
    },
    {
      "cell_type": "code",
      "source": [
        "importance=np.mean(cond_vals_flatten, axis=1)\n",
        "np.where(importance==np.max(importance))"
      ],
      "metadata": {
        "colab": {
          "base_uri": "https://localhost:8080/"
        },
        "id": "K82LxQiyqfHH",
        "outputId": "efd5b9bf-11ea-4831-fc3e-a0d5588376e4"
      },
      "execution_count": null,
      "outputs": [
        {
          "output_type": "execute_result",
          "data": {
            "text/plain": [
              "(array([156]),)"
            ]
          },
          "metadata": {},
          "execution_count": 489
        }
      ]
    },
    {
      "cell_type": "code",
      "source": [
        "rang=np.where(importance==np.max(importance))\n",
        "rang=np.mean(rang)"
      ],
      "metadata": {
        "id": "pWMzMmgo7huE"
      },
      "execution_count": null,
      "outputs": []
    },
    {
      "cell_type": "code",
      "source": [
        "rang=[76]"
      ],
      "metadata": {
        "id": "eMRhC6RR8hdZ"
      },
      "execution_count": null,
      "outputs": []
    },
    {
      "cell_type": "code",
      "source": [
        "vector=[]\n",
        "\n",
        "for i in range(512):\n",
        "  vector.append(np.mean(cond_vals_flatten[i,]))"
      ],
      "metadata": {
        "id": "AiqNoGheqw7W"
      },
      "execution_count": null,
      "outputs": []
    },
    {
      "cell_type": "code",
      "source": [
        "################################################################################"
      ],
      "metadata": {
        "id": "g-ZIdBJru9d4"
      },
      "execution_count": null,
      "outputs": []
    },
    {
      "cell_type": "code",
      "source": [
        "### Rename files\n",
        "\n",
        "import os\n",
        "import glob\n",
        "\n",
        "# Replace these values with your desired folder and renaming criteria\n",
        "folder_path = '/content/concept'\n",
        "file_extension = '.jpg'  # Change to the desired file extension\n",
        "name_pattern = 'concept_{}'  # Change to your preferred name pattern\n",
        "\n",
        "# Get a list of files that match the criteria\n",
        "files_to_rename = glob.glob(os.path.join(folder_path, f\"*{file_extension}\"))\n",
        "\n",
        "# Iterate through the files and rename them\n",
        "for index, old_file_path in enumerate(files_to_rename):\n",
        "    # Extract the file's base name without extension\n",
        "    base_name = os.path.splitext(os.path.basename(old_file_path))[0]\n",
        "\n",
        "    # Construct the new name using the pattern\n",
        "    new_name = name_pattern.format(index + 1)\n",
        "\n",
        "    # Create the new file path with the same extension as the old file\n",
        "    new_file_path = os.path.join(folder_path, f\"{new_name}{file_extension}\")\n",
        "\n",
        "    # Rename the file\n",
        "    os.rename(old_file_path, new_file_path)\n",
        "\n",
        "print(\"Files renamed successfully.\")\n",
        "\n"
      ],
      "metadata": {
        "colab": {
          "base_uri": "https://localhost:8080/"
        },
        "id": "_K2J5EGP-Cby",
        "outputId": "776beb68-6127-4218-b243-a7cf8bafd699"
      },
      "execution_count": null,
      "outputs": [
        {
          "output_type": "stream",
          "name": "stdout",
          "text": [
            "Files renamed successfully.\n"
          ]
        }
      ]
    },
    {
      "cell_type": "code",
      "source": [
        "merged_array=vector\n",
        "y=[prediction_score.squeeze().item()]\n",
        "label=['lion']\n",
        "for i in range(2,28):\n",
        "  transform = transforms.Compose([ transforms.Resize(256),transforms.CenterCrop(224),transforms.ToTensor()])\n",
        "  transform_normalize = transforms.Normalize(mean=[0.485, 0.456, 0.406],std=[0.229, 0.224, 0.225])\n",
        "  img = Image.open('/content/concept/concept_'+str(i)+'.jpg')\n",
        "  transformed_img = transform(img)\n",
        "  input = transform_normalize(transformed_img)\n",
        "  input = input.unsqueeze(0)\n",
        "  output = model(input)\n",
        "  output = F.softmax(output, dim=1)\n",
        "  prediction_score, pred_label_idx = torch.topk(output, 1)\n",
        "  pred_label_idx.squeeze_()\n",
        "  predicted_label = idx_to_labels[str(pred_label_idx.item())][1]\n",
        "  y.append(prediction_score.squeeze().item())\n",
        "  label.append(predicted_label)\n",
        "  index=pred_label_idx.item()\n",
        "  cond_vals = cond.attribute(input,target=index)\n",
        "  cond_vals = cond_vals.detach().numpy()\n",
        "  cond_vals_flatten=cond_vals.reshape((512,7*7))\n",
        "  var=[]\n",
        "  for j in range(512):\n",
        "    var.append(np.mean(cond_vals_flatten[j,]))\n",
        "\n",
        "\n",
        "  merged_array = np.column_stack((merged_array,var))\n",
        "  rang.append(np.mean(np.where(np.mean(cond_vals_flatten, axis=1)==np.max(np.mean(cond_vals_flatten, axis=1)))))"
      ],
      "metadata": {
        "id": "mk30eHGzwFoK"
      },
      "execution_count": null,
      "outputs": []
    },
    {
      "cell_type": "code",
      "source": [
        "merged_array.shape"
      ],
      "metadata": {
        "id": "ul45TEVvwIZc"
      },
      "execution_count": null,
      "outputs": []
    },
    {
      "cell_type": "code",
      "source": [
        "len(label)"
      ],
      "metadata": {
        "colab": {
          "base_uri": "https://localhost:8080/"
        },
        "id": "CdM1F-Hx8NrE",
        "outputId": "6f190107-cb35-4a04-8449-647c3acbb3b0"
      },
      "execution_count": null,
      "outputs": [
        {
          "output_type": "execute_result",
          "data": {
            "text/plain": [
              "54"
            ]
          },
          "metadata": {},
          "execution_count": 475
        }
      ]
    },
    {
      "cell_type": "code",
      "source": [
        "############################################################################"
      ],
      "metadata": {
        "id": "_4PEjkS6wFj4"
      },
      "execution_count": null,
      "outputs": []
    },
    {
      "cell_type": "code",
      "source": [
        "## Detect outlier neuron\n",
        "def detect_outliers_zscore(data, threshold=4):\n",
        "    z_scores = (data - data.mean()) / data.std()\n",
        "    return np.where(np.abs(z_scores) > threshold)\n",
        "\n",
        "outlier_indices = detect_outliers_zscore(importance)\n",
        "print(\"Outlier indices:\", outlier_indices)"
      ],
      "metadata": {
        "colab": {
          "base_uri": "https://localhost:8080/"
        },
        "id": "D2BnpRSs3B41",
        "outputId": "cb2bb0ae-06bd-482b-dadc-505cde411280"
      },
      "execution_count": null,
      "outputs": [
        {
          "output_type": "stream",
          "name": "stdout",
          "text": [
            "Outlier indices: (array([156, 202, 242, 369, 493]),)\n"
          ]
        }
      ]
    },
    {
      "cell_type": "code",
      "source": [
        "outlier_indices[1].shape[0]"
      ],
      "metadata": {
        "colab": {
          "base_uri": "https://localhost:8080/"
        },
        "id": "z4SPvt3C4Gh3",
        "outputId": "f6d50eca-83de-4f07-806c-e79a87a9c7a3"
      },
      "execution_count": null,
      "outputs": [
        {
          "output_type": "execute_result",
          "data": {
            "text/plain": [
              "4"
            ]
          },
          "metadata": {},
          "execution_count": 76
        }
      ]
    },
    {
      "cell_type": "code",
      "source": [
        "All_data=merged_array"
      ],
      "metadata": {
        "id": "zJF5ILhIFs6J"
      },
      "execution_count": null,
      "outputs": []
    },
    {
      "cell_type": "code",
      "source": [
        "#########################################"
      ],
      "metadata": {
        "id": "HmOMdM8o4wL2"
      },
      "execution_count": null,
      "outputs": []
    },
    {
      "cell_type": "code",
      "source": [
        "All_data=np.concatenate((All_data,merged_array))"
      ],
      "metadata": {
        "id": "MVr36BmwJtq2"
      },
      "execution_count": null,
      "outputs": []
    },
    {
      "cell_type": "code",
      "source": [
        "All_data.shape"
      ],
      "metadata": {
        "colab": {
          "base_uri": "https://localhost:8080/"
        },
        "id": "i8VzB2vDFvZI",
        "outputId": "552dd815-0da7-4b3f-b5f4-d0bb89fcdb0b"
      },
      "execution_count": null,
      "outputs": [
        {
          "output_type": "execute_result",
          "data": {
            "text/plain": [
              "(4480, 299)"
            ]
          },
          "metadata": {},
          "execution_count": 65
        }
      ]
    },
    {
      "cell_type": "code",
      "source": [
        "X=pd.DataFrame(np.transpose(All_data))"
      ],
      "metadata": {
        "id": "M64xsQ4LU9tE"
      },
      "execution_count": null,
      "outputs": []
    },
    {
      "cell_type": "markdown",
      "source": [
        "## 4- Data processing"
      ],
      "metadata": {
        "id": "zModE7Ua9c1y"
      }
    },
    {
      "cell_type": "code",
      "source": [
        "import pandas as pd"
      ],
      "metadata": {
        "id": "5fq09AxE9BFE"
      },
      "execution_count": null,
      "outputs": []
    },
    {
      "cell_type": "code",
      "source": [
        "X=pd.DataFrame(np.transpose(merged_array))"
      ],
      "metadata": {
        "id": "cRJGDP2y84D9"
      },
      "execution_count": null,
      "outputs": []
    },
    {
      "cell_type": "code",
      "source": [
        "X_bis=pd.DataFrame(np.transpose(merged_array))"
      ],
      "metadata": {
        "id": "PATVgIuwOPB9"
      },
      "execution_count": null,
      "outputs": []
    },
    {
      "cell_type": "code",
      "source": [
        "X.head()"
      ],
      "metadata": {
        "colab": {
          "base_uri": "https://localhost:8080/",
          "height": 256
        },
        "id": "I3tW1XjM83ii",
        "outputId": "269be214-2ccc-49d6-d83a-4e5e498ab1b3"
      },
      "execution_count": null,
      "outputs": [
        {
          "output_type": "execute_result",
          "data": {
            "text/plain": [
              "        0         1         2         3         4         5         6    \\\n",
              "0  0.000075 -0.000472  0.000911 -0.000558 -0.000210  0.000728  0.000435   \n",
              "1 -0.000094 -0.000918  0.000047 -0.000788  0.000836  0.003866 -0.000262   \n",
              "2 -0.000301 -0.004723 -0.000028 -0.000488 -0.000082  0.000015 -0.000032   \n",
              "3 -0.000467 -0.000024  0.000575 -0.000436 -0.000581  0.001565  0.000517   \n",
              "4 -0.000211  0.000602  0.000401  0.000050  0.000215 -0.000028 -0.000181   \n",
              "\n",
              "        7         8         9    ...       246       247       248       249  \\\n",
              "0  0.000249 -0.003544 -0.000089  ...  0.000230 -0.000120  0.000022 -0.000243   \n",
              "1  0.000394  0.000972  0.001301  ... -0.002074  0.000675  0.000642  0.002054   \n",
              "2 -0.000196 -0.001213 -0.000569  ... -0.000630  0.000387  0.000474 -0.001055   \n",
              "3  0.000475 -0.003071 -0.000840  ...  0.000679 -0.000076  0.000345  0.000296   \n",
              "4  0.000731  0.000742  0.000297  ... -0.000326  0.000312  0.000491  0.000495   \n",
              "\n",
              "        250       251       252       253       254       255  \n",
              "0  0.000022  0.000352  0.003680  0.000468 -0.000218  0.002066  \n",
              "1  0.000390 -0.000314  0.004354  0.000843 -0.001050  0.001511  \n",
              "2  0.000648 -0.001065  0.003007  0.000007 -0.000189  0.001184  \n",
              "3 -0.000462  0.000490  0.003847 -0.000157  0.000026  0.001716  \n",
              "4  0.000673 -0.001379  0.003167 -0.000271  0.000603 -0.000206  \n",
              "\n",
              "[5 rows x 256 columns]"
            ],
            "text/html": [
              "\n",
              "  <div id=\"df-6b2137b3-3b7e-4123-bd16-2bd4aed8cf53\" class=\"colab-df-container\">\n",
              "    <div>\n",
              "<style scoped>\n",
              "    .dataframe tbody tr th:only-of-type {\n",
              "        vertical-align: middle;\n",
              "    }\n",
              "\n",
              "    .dataframe tbody tr th {\n",
              "        vertical-align: top;\n",
              "    }\n",
              "\n",
              "    .dataframe thead th {\n",
              "        text-align: right;\n",
              "    }\n",
              "</style>\n",
              "<table border=\"1\" class=\"dataframe\">\n",
              "  <thead>\n",
              "    <tr style=\"text-align: right;\">\n",
              "      <th></th>\n",
              "      <th>0</th>\n",
              "      <th>1</th>\n",
              "      <th>2</th>\n",
              "      <th>3</th>\n",
              "      <th>4</th>\n",
              "      <th>5</th>\n",
              "      <th>6</th>\n",
              "      <th>7</th>\n",
              "      <th>8</th>\n",
              "      <th>9</th>\n",
              "      <th>...</th>\n",
              "      <th>246</th>\n",
              "      <th>247</th>\n",
              "      <th>248</th>\n",
              "      <th>249</th>\n",
              "      <th>250</th>\n",
              "      <th>251</th>\n",
              "      <th>252</th>\n",
              "      <th>253</th>\n",
              "      <th>254</th>\n",
              "      <th>255</th>\n",
              "    </tr>\n",
              "  </thead>\n",
              "  <tbody>\n",
              "    <tr>\n",
              "      <th>0</th>\n",
              "      <td>0.000075</td>\n",
              "      <td>-0.000472</td>\n",
              "      <td>0.000911</td>\n",
              "      <td>-0.000558</td>\n",
              "      <td>-0.000210</td>\n",
              "      <td>0.000728</td>\n",
              "      <td>0.000435</td>\n",
              "      <td>0.000249</td>\n",
              "      <td>-0.003544</td>\n",
              "      <td>-0.000089</td>\n",
              "      <td>...</td>\n",
              "      <td>0.000230</td>\n",
              "      <td>-0.000120</td>\n",
              "      <td>0.000022</td>\n",
              "      <td>-0.000243</td>\n",
              "      <td>0.000022</td>\n",
              "      <td>0.000352</td>\n",
              "      <td>0.003680</td>\n",
              "      <td>0.000468</td>\n",
              "      <td>-0.000218</td>\n",
              "      <td>0.002066</td>\n",
              "    </tr>\n",
              "    <tr>\n",
              "      <th>1</th>\n",
              "      <td>-0.000094</td>\n",
              "      <td>-0.000918</td>\n",
              "      <td>0.000047</td>\n",
              "      <td>-0.000788</td>\n",
              "      <td>0.000836</td>\n",
              "      <td>0.003866</td>\n",
              "      <td>-0.000262</td>\n",
              "      <td>0.000394</td>\n",
              "      <td>0.000972</td>\n",
              "      <td>0.001301</td>\n",
              "      <td>...</td>\n",
              "      <td>-0.002074</td>\n",
              "      <td>0.000675</td>\n",
              "      <td>0.000642</td>\n",
              "      <td>0.002054</td>\n",
              "      <td>0.000390</td>\n",
              "      <td>-0.000314</td>\n",
              "      <td>0.004354</td>\n",
              "      <td>0.000843</td>\n",
              "      <td>-0.001050</td>\n",
              "      <td>0.001511</td>\n",
              "    </tr>\n",
              "    <tr>\n",
              "      <th>2</th>\n",
              "      <td>-0.000301</td>\n",
              "      <td>-0.004723</td>\n",
              "      <td>-0.000028</td>\n",
              "      <td>-0.000488</td>\n",
              "      <td>-0.000082</td>\n",
              "      <td>0.000015</td>\n",
              "      <td>-0.000032</td>\n",
              "      <td>-0.000196</td>\n",
              "      <td>-0.001213</td>\n",
              "      <td>-0.000569</td>\n",
              "      <td>...</td>\n",
              "      <td>-0.000630</td>\n",
              "      <td>0.000387</td>\n",
              "      <td>0.000474</td>\n",
              "      <td>-0.001055</td>\n",
              "      <td>0.000648</td>\n",
              "      <td>-0.001065</td>\n",
              "      <td>0.003007</td>\n",
              "      <td>0.000007</td>\n",
              "      <td>-0.000189</td>\n",
              "      <td>0.001184</td>\n",
              "    </tr>\n",
              "    <tr>\n",
              "      <th>3</th>\n",
              "      <td>-0.000467</td>\n",
              "      <td>-0.000024</td>\n",
              "      <td>0.000575</td>\n",
              "      <td>-0.000436</td>\n",
              "      <td>-0.000581</td>\n",
              "      <td>0.001565</td>\n",
              "      <td>0.000517</td>\n",
              "      <td>0.000475</td>\n",
              "      <td>-0.003071</td>\n",
              "      <td>-0.000840</td>\n",
              "      <td>...</td>\n",
              "      <td>0.000679</td>\n",
              "      <td>-0.000076</td>\n",
              "      <td>0.000345</td>\n",
              "      <td>0.000296</td>\n",
              "      <td>-0.000462</td>\n",
              "      <td>0.000490</td>\n",
              "      <td>0.003847</td>\n",
              "      <td>-0.000157</td>\n",
              "      <td>0.000026</td>\n",
              "      <td>0.001716</td>\n",
              "    </tr>\n",
              "    <tr>\n",
              "      <th>4</th>\n",
              "      <td>-0.000211</td>\n",
              "      <td>0.000602</td>\n",
              "      <td>0.000401</td>\n",
              "      <td>0.000050</td>\n",
              "      <td>0.000215</td>\n",
              "      <td>-0.000028</td>\n",
              "      <td>-0.000181</td>\n",
              "      <td>0.000731</td>\n",
              "      <td>0.000742</td>\n",
              "      <td>0.000297</td>\n",
              "      <td>...</td>\n",
              "      <td>-0.000326</td>\n",
              "      <td>0.000312</td>\n",
              "      <td>0.000491</td>\n",
              "      <td>0.000495</td>\n",
              "      <td>0.000673</td>\n",
              "      <td>-0.001379</td>\n",
              "      <td>0.003167</td>\n",
              "      <td>-0.000271</td>\n",
              "      <td>0.000603</td>\n",
              "      <td>-0.000206</td>\n",
              "    </tr>\n",
              "  </tbody>\n",
              "</table>\n",
              "<p>5 rows × 256 columns</p>\n",
              "</div>\n",
              "    <div class=\"colab-df-buttons\">\n",
              "\n",
              "  <div class=\"colab-df-container\">\n",
              "    <button class=\"colab-df-convert\" onclick=\"convertToInteractive('df-6b2137b3-3b7e-4123-bd16-2bd4aed8cf53')\"\n",
              "            title=\"Convert this dataframe to an interactive table.\"\n",
              "            style=\"display:none;\">\n",
              "\n",
              "  <svg xmlns=\"http://www.w3.org/2000/svg\" height=\"24px\" viewBox=\"0 -960 960 960\">\n",
              "    <path d=\"M120-120v-720h720v720H120Zm60-500h600v-160H180v160Zm220 220h160v-160H400v160Zm0 220h160v-160H400v160ZM180-400h160v-160H180v160Zm440 0h160v-160H620v160ZM180-180h160v-160H180v160Zm440 0h160v-160H620v160Z\"/>\n",
              "  </svg>\n",
              "    </button>\n",
              "\n",
              "  <style>\n",
              "    .colab-df-container {\n",
              "      display:flex;\n",
              "      gap: 12px;\n",
              "    }\n",
              "\n",
              "    .colab-df-convert {\n",
              "      background-color: #E8F0FE;\n",
              "      border: none;\n",
              "      border-radius: 50%;\n",
              "      cursor: pointer;\n",
              "      display: none;\n",
              "      fill: #1967D2;\n",
              "      height: 32px;\n",
              "      padding: 0 0 0 0;\n",
              "      width: 32px;\n",
              "    }\n",
              "\n",
              "    .colab-df-convert:hover {\n",
              "      background-color: #E2EBFA;\n",
              "      box-shadow: 0px 1px 2px rgba(60, 64, 67, 0.3), 0px 1px 3px 1px rgba(60, 64, 67, 0.15);\n",
              "      fill: #174EA6;\n",
              "    }\n",
              "\n",
              "    .colab-df-buttons div {\n",
              "      margin-bottom: 4px;\n",
              "    }\n",
              "\n",
              "    [theme=dark] .colab-df-convert {\n",
              "      background-color: #3B4455;\n",
              "      fill: #D2E3FC;\n",
              "    }\n",
              "\n",
              "    [theme=dark] .colab-df-convert:hover {\n",
              "      background-color: #434B5C;\n",
              "      box-shadow: 0px 1px 3px 1px rgba(0, 0, 0, 0.15);\n",
              "      filter: drop-shadow(0px 1px 2px rgba(0, 0, 0, 0.3));\n",
              "      fill: #FFFFFF;\n",
              "    }\n",
              "  </style>\n",
              "\n",
              "    <script>\n",
              "      const buttonEl =\n",
              "        document.querySelector('#df-6b2137b3-3b7e-4123-bd16-2bd4aed8cf53 button.colab-df-convert');\n",
              "      buttonEl.style.display =\n",
              "        google.colab.kernel.accessAllowed ? 'block' : 'none';\n",
              "\n",
              "      async function convertToInteractive(key) {\n",
              "        const element = document.querySelector('#df-6b2137b3-3b7e-4123-bd16-2bd4aed8cf53');\n",
              "        const dataTable =\n",
              "          await google.colab.kernel.invokeFunction('convertToInteractive',\n",
              "                                                    [key], {});\n",
              "        if (!dataTable) return;\n",
              "\n",
              "        const docLinkHtml = 'Like what you see? Visit the ' +\n",
              "          '<a target=\"_blank\" href=https://colab.research.google.com/notebooks/data_table.ipynb>data table notebook</a>'\n",
              "          + ' to learn more about interactive tables.';\n",
              "        element.innerHTML = '';\n",
              "        dataTable['output_type'] = 'display_data';\n",
              "        await google.colab.output.renderOutput(dataTable, element);\n",
              "        const docLink = document.createElement('div');\n",
              "        docLink.innerHTML = docLinkHtml;\n",
              "        element.appendChild(docLink);\n",
              "      }\n",
              "    </script>\n",
              "  </div>\n",
              "\n",
              "\n",
              "<div id=\"df-56ea29d6-e8af-4570-bfbc-0a7c937f5263\">\n",
              "  <button class=\"colab-df-quickchart\" onclick=\"quickchart('df-56ea29d6-e8af-4570-bfbc-0a7c937f5263')\"\n",
              "            title=\"Suggest charts.\"\n",
              "            style=\"display:none;\">\n",
              "\n",
              "<svg xmlns=\"http://www.w3.org/2000/svg\" height=\"24px\"viewBox=\"0 0 24 24\"\n",
              "     width=\"24px\">\n",
              "    <g>\n",
              "        <path d=\"M19 3H5c-1.1 0-2 .9-2 2v14c0 1.1.9 2 2 2h14c1.1 0 2-.9 2-2V5c0-1.1-.9-2-2-2zM9 17H7v-7h2v7zm4 0h-2V7h2v10zm4 0h-2v-4h2v4z\"/>\n",
              "    </g>\n",
              "</svg>\n",
              "  </button>\n",
              "\n",
              "<style>\n",
              "  .colab-df-quickchart {\n",
              "      --bg-color: #E8F0FE;\n",
              "      --fill-color: #1967D2;\n",
              "      --hover-bg-color: #E2EBFA;\n",
              "      --hover-fill-color: #174EA6;\n",
              "      --disabled-fill-color: #AAA;\n",
              "      --disabled-bg-color: #DDD;\n",
              "  }\n",
              "\n",
              "  [theme=dark] .colab-df-quickchart {\n",
              "      --bg-color: #3B4455;\n",
              "      --fill-color: #D2E3FC;\n",
              "      --hover-bg-color: #434B5C;\n",
              "      --hover-fill-color: #FFFFFF;\n",
              "      --disabled-bg-color: #3B4455;\n",
              "      --disabled-fill-color: #666;\n",
              "  }\n",
              "\n",
              "  .colab-df-quickchart {\n",
              "    background-color: var(--bg-color);\n",
              "    border: none;\n",
              "    border-radius: 50%;\n",
              "    cursor: pointer;\n",
              "    display: none;\n",
              "    fill: var(--fill-color);\n",
              "    height: 32px;\n",
              "    padding: 0;\n",
              "    width: 32px;\n",
              "  }\n",
              "\n",
              "  .colab-df-quickchart:hover {\n",
              "    background-color: var(--hover-bg-color);\n",
              "    box-shadow: 0 1px 2px rgba(60, 64, 67, 0.3), 0 1px 3px 1px rgba(60, 64, 67, 0.15);\n",
              "    fill: var(--button-hover-fill-color);\n",
              "  }\n",
              "\n",
              "  .colab-df-quickchart-complete:disabled,\n",
              "  .colab-df-quickchart-complete:disabled:hover {\n",
              "    background-color: var(--disabled-bg-color);\n",
              "    fill: var(--disabled-fill-color);\n",
              "    box-shadow: none;\n",
              "  }\n",
              "\n",
              "  .colab-df-spinner {\n",
              "    border: 2px solid var(--fill-color);\n",
              "    border-color: transparent;\n",
              "    border-bottom-color: var(--fill-color);\n",
              "    animation:\n",
              "      spin 1s steps(1) infinite;\n",
              "  }\n",
              "\n",
              "  @keyframes spin {\n",
              "    0% {\n",
              "      border-color: transparent;\n",
              "      border-bottom-color: var(--fill-color);\n",
              "      border-left-color: var(--fill-color);\n",
              "    }\n",
              "    20% {\n",
              "      border-color: transparent;\n",
              "      border-left-color: var(--fill-color);\n",
              "      border-top-color: var(--fill-color);\n",
              "    }\n",
              "    30% {\n",
              "      border-color: transparent;\n",
              "      border-left-color: var(--fill-color);\n",
              "      border-top-color: var(--fill-color);\n",
              "      border-right-color: var(--fill-color);\n",
              "    }\n",
              "    40% {\n",
              "      border-color: transparent;\n",
              "      border-right-color: var(--fill-color);\n",
              "      border-top-color: var(--fill-color);\n",
              "    }\n",
              "    60% {\n",
              "      border-color: transparent;\n",
              "      border-right-color: var(--fill-color);\n",
              "    }\n",
              "    80% {\n",
              "      border-color: transparent;\n",
              "      border-right-color: var(--fill-color);\n",
              "      border-bottom-color: var(--fill-color);\n",
              "    }\n",
              "    90% {\n",
              "      border-color: transparent;\n",
              "      border-bottom-color: var(--fill-color);\n",
              "    }\n",
              "  }\n",
              "</style>\n",
              "\n",
              "  <script>\n",
              "    async function quickchart(key) {\n",
              "      const quickchartButtonEl =\n",
              "        document.querySelector('#' + key + ' button');\n",
              "      quickchartButtonEl.disabled = true;  // To prevent multiple clicks.\n",
              "      quickchartButtonEl.classList.add('colab-df-spinner');\n",
              "      try {\n",
              "        const charts = await google.colab.kernel.invokeFunction(\n",
              "            'suggestCharts', [key], {});\n",
              "      } catch (error) {\n",
              "        console.error('Error during call to suggestCharts:', error);\n",
              "      }\n",
              "      quickchartButtonEl.classList.remove('colab-df-spinner');\n",
              "      quickchartButtonEl.classList.add('colab-df-quickchart-complete');\n",
              "    }\n",
              "    (() => {\n",
              "      let quickchartButtonEl =\n",
              "        document.querySelector('#df-56ea29d6-e8af-4570-bfbc-0a7c937f5263 button');\n",
              "      quickchartButtonEl.style.display =\n",
              "        google.colab.kernel.accessAllowed ? 'block' : 'none';\n",
              "    })();\n",
              "  </script>\n",
              "</div>\n",
              "    </div>\n",
              "  </div>\n"
            ]
          },
          "metadata": {},
          "execution_count": 152
        }
      ]
    },
    {
      "cell_type": "code",
      "source": [
        "label=pd.DataFrame(label)"
      ],
      "metadata": {
        "id": "HIWWKzhW9IPP"
      },
      "execution_count": null,
      "outputs": []
    },
    {
      "cell_type": "code",
      "source": [
        "rang"
      ],
      "metadata": {
        "id": "zhYDzOHi88CD"
      },
      "execution_count": null,
      "outputs": []
    },
    {
      "cell_type": "code",
      "source": [
        "label.columns = ['y']"
      ],
      "metadata": {
        "id": "_Gw80iNX83dr"
      },
      "execution_count": null,
      "outputs": []
    },
    {
      "cell_type": "code",
      "source": [
        "data=[X,label]"
      ],
      "metadata": {
        "id": "xM1zny3583Xb"
      },
      "execution_count": null,
      "outputs": []
    },
    {
      "cell_type": "code",
      "source": [
        "X_data=pd.concat(data,axis=1)"
      ],
      "metadata": {
        "id": "VZzLCVX_9SKE"
      },
      "execution_count": null,
      "outputs": []
    },
    {
      "cell_type": "code",
      "source": [
        "X_data.head()"
      ],
      "metadata": {
        "colab": {
          "base_uri": "https://localhost:8080/",
          "height": 256
        },
        "id": "Ymh01evG9SF6",
        "outputId": "e249f5db-e8ba-499b-ec9f-117ce92fcc92"
      },
      "execution_count": null,
      "outputs": [
        {
          "output_type": "execute_result",
          "data": {
            "text/plain": [
              "          0         1         2         3         4         5         6  \\\n",
              "0  0.000075 -0.000472  0.000911 -0.000558 -0.000210  0.000728  0.000435   \n",
              "1 -0.000094 -0.000918  0.000047 -0.000788  0.000836  0.003866 -0.000262   \n",
              "2 -0.000301 -0.004723 -0.000028 -0.000488 -0.000082  0.000015 -0.000032   \n",
              "3 -0.000467 -0.000024  0.000575 -0.000436 -0.000581  0.001565  0.000517   \n",
              "4 -0.000211  0.000602  0.000401  0.000050  0.000215 -0.000028 -0.000181   \n",
              "\n",
              "          7         8         9  ...       247       248       249       250  \\\n",
              "0  0.000249 -0.003544 -0.000089  ... -0.000120  0.000022 -0.000243  0.000022   \n",
              "1  0.000394  0.000972  0.001301  ...  0.000675  0.000642  0.002054  0.000390   \n",
              "2 -0.000196 -0.001213 -0.000569  ...  0.000387  0.000474 -0.001055  0.000648   \n",
              "3  0.000475 -0.003071 -0.000840  ... -0.000076  0.000345  0.000296 -0.000462   \n",
              "4  0.000731  0.000742  0.000297  ...  0.000312  0.000491  0.000495  0.000673   \n",
              "\n",
              "        251       252       253       254       255  y  \n",
              "0  0.000352  0.003680  0.000468 -0.000218  0.002066  4  \n",
              "1 -0.000314  0.004354  0.000843 -0.001050  0.001511  4  \n",
              "2 -0.001065  0.003007  0.000007 -0.000189  0.001184  4  \n",
              "3  0.000490  0.003847 -0.000157  0.000026  0.001716  4  \n",
              "4 -0.001379  0.003167 -0.000271  0.000603 -0.000206  4  \n",
              "\n",
              "[5 rows x 257 columns]"
            ],
            "text/html": [
              "\n",
              "  <div id=\"df-179c5222-5724-46bb-81ff-f18f7d7367c7\" class=\"colab-df-container\">\n",
              "    <div>\n",
              "<style scoped>\n",
              "    .dataframe tbody tr th:only-of-type {\n",
              "        vertical-align: middle;\n",
              "    }\n",
              "\n",
              "    .dataframe tbody tr th {\n",
              "        vertical-align: top;\n",
              "    }\n",
              "\n",
              "    .dataframe thead th {\n",
              "        text-align: right;\n",
              "    }\n",
              "</style>\n",
              "<table border=\"1\" class=\"dataframe\">\n",
              "  <thead>\n",
              "    <tr style=\"text-align: right;\">\n",
              "      <th></th>\n",
              "      <th>0</th>\n",
              "      <th>1</th>\n",
              "      <th>2</th>\n",
              "      <th>3</th>\n",
              "      <th>4</th>\n",
              "      <th>5</th>\n",
              "      <th>6</th>\n",
              "      <th>7</th>\n",
              "      <th>8</th>\n",
              "      <th>9</th>\n",
              "      <th>...</th>\n",
              "      <th>247</th>\n",
              "      <th>248</th>\n",
              "      <th>249</th>\n",
              "      <th>250</th>\n",
              "      <th>251</th>\n",
              "      <th>252</th>\n",
              "      <th>253</th>\n",
              "      <th>254</th>\n",
              "      <th>255</th>\n",
              "      <th>y</th>\n",
              "    </tr>\n",
              "  </thead>\n",
              "  <tbody>\n",
              "    <tr>\n",
              "      <th>0</th>\n",
              "      <td>0.000075</td>\n",
              "      <td>-0.000472</td>\n",
              "      <td>0.000911</td>\n",
              "      <td>-0.000558</td>\n",
              "      <td>-0.000210</td>\n",
              "      <td>0.000728</td>\n",
              "      <td>0.000435</td>\n",
              "      <td>0.000249</td>\n",
              "      <td>-0.003544</td>\n",
              "      <td>-0.000089</td>\n",
              "      <td>...</td>\n",
              "      <td>-0.000120</td>\n",
              "      <td>0.000022</td>\n",
              "      <td>-0.000243</td>\n",
              "      <td>0.000022</td>\n",
              "      <td>0.000352</td>\n",
              "      <td>0.003680</td>\n",
              "      <td>0.000468</td>\n",
              "      <td>-0.000218</td>\n",
              "      <td>0.002066</td>\n",
              "      <td>4</td>\n",
              "    </tr>\n",
              "    <tr>\n",
              "      <th>1</th>\n",
              "      <td>-0.000094</td>\n",
              "      <td>-0.000918</td>\n",
              "      <td>0.000047</td>\n",
              "      <td>-0.000788</td>\n",
              "      <td>0.000836</td>\n",
              "      <td>0.003866</td>\n",
              "      <td>-0.000262</td>\n",
              "      <td>0.000394</td>\n",
              "      <td>0.000972</td>\n",
              "      <td>0.001301</td>\n",
              "      <td>...</td>\n",
              "      <td>0.000675</td>\n",
              "      <td>0.000642</td>\n",
              "      <td>0.002054</td>\n",
              "      <td>0.000390</td>\n",
              "      <td>-0.000314</td>\n",
              "      <td>0.004354</td>\n",
              "      <td>0.000843</td>\n",
              "      <td>-0.001050</td>\n",
              "      <td>0.001511</td>\n",
              "      <td>4</td>\n",
              "    </tr>\n",
              "    <tr>\n",
              "      <th>2</th>\n",
              "      <td>-0.000301</td>\n",
              "      <td>-0.004723</td>\n",
              "      <td>-0.000028</td>\n",
              "      <td>-0.000488</td>\n",
              "      <td>-0.000082</td>\n",
              "      <td>0.000015</td>\n",
              "      <td>-0.000032</td>\n",
              "      <td>-0.000196</td>\n",
              "      <td>-0.001213</td>\n",
              "      <td>-0.000569</td>\n",
              "      <td>...</td>\n",
              "      <td>0.000387</td>\n",
              "      <td>0.000474</td>\n",
              "      <td>-0.001055</td>\n",
              "      <td>0.000648</td>\n",
              "      <td>-0.001065</td>\n",
              "      <td>0.003007</td>\n",
              "      <td>0.000007</td>\n",
              "      <td>-0.000189</td>\n",
              "      <td>0.001184</td>\n",
              "      <td>4</td>\n",
              "    </tr>\n",
              "    <tr>\n",
              "      <th>3</th>\n",
              "      <td>-0.000467</td>\n",
              "      <td>-0.000024</td>\n",
              "      <td>0.000575</td>\n",
              "      <td>-0.000436</td>\n",
              "      <td>-0.000581</td>\n",
              "      <td>0.001565</td>\n",
              "      <td>0.000517</td>\n",
              "      <td>0.000475</td>\n",
              "      <td>-0.003071</td>\n",
              "      <td>-0.000840</td>\n",
              "      <td>...</td>\n",
              "      <td>-0.000076</td>\n",
              "      <td>0.000345</td>\n",
              "      <td>0.000296</td>\n",
              "      <td>-0.000462</td>\n",
              "      <td>0.000490</td>\n",
              "      <td>0.003847</td>\n",
              "      <td>-0.000157</td>\n",
              "      <td>0.000026</td>\n",
              "      <td>0.001716</td>\n",
              "      <td>4</td>\n",
              "    </tr>\n",
              "    <tr>\n",
              "      <th>4</th>\n",
              "      <td>-0.000211</td>\n",
              "      <td>0.000602</td>\n",
              "      <td>0.000401</td>\n",
              "      <td>0.000050</td>\n",
              "      <td>0.000215</td>\n",
              "      <td>-0.000028</td>\n",
              "      <td>-0.000181</td>\n",
              "      <td>0.000731</td>\n",
              "      <td>0.000742</td>\n",
              "      <td>0.000297</td>\n",
              "      <td>...</td>\n",
              "      <td>0.000312</td>\n",
              "      <td>0.000491</td>\n",
              "      <td>0.000495</td>\n",
              "      <td>0.000673</td>\n",
              "      <td>-0.001379</td>\n",
              "      <td>0.003167</td>\n",
              "      <td>-0.000271</td>\n",
              "      <td>0.000603</td>\n",
              "      <td>-0.000206</td>\n",
              "      <td>4</td>\n",
              "    </tr>\n",
              "  </tbody>\n",
              "</table>\n",
              "<p>5 rows × 257 columns</p>\n",
              "</div>\n",
              "    <div class=\"colab-df-buttons\">\n",
              "\n",
              "  <div class=\"colab-df-container\">\n",
              "    <button class=\"colab-df-convert\" onclick=\"convertToInteractive('df-179c5222-5724-46bb-81ff-f18f7d7367c7')\"\n",
              "            title=\"Convert this dataframe to an interactive table.\"\n",
              "            style=\"display:none;\">\n",
              "\n",
              "  <svg xmlns=\"http://www.w3.org/2000/svg\" height=\"24px\" viewBox=\"0 -960 960 960\">\n",
              "    <path d=\"M120-120v-720h720v720H120Zm60-500h600v-160H180v160Zm220 220h160v-160H400v160Zm0 220h160v-160H400v160ZM180-400h160v-160H180v160Zm440 0h160v-160H620v160ZM180-180h160v-160H180v160Zm440 0h160v-160H620v160Z\"/>\n",
              "  </svg>\n",
              "    </button>\n",
              "\n",
              "  <style>\n",
              "    .colab-df-container {\n",
              "      display:flex;\n",
              "      gap: 12px;\n",
              "    }\n",
              "\n",
              "    .colab-df-convert {\n",
              "      background-color: #E8F0FE;\n",
              "      border: none;\n",
              "      border-radius: 50%;\n",
              "      cursor: pointer;\n",
              "      display: none;\n",
              "      fill: #1967D2;\n",
              "      height: 32px;\n",
              "      padding: 0 0 0 0;\n",
              "      width: 32px;\n",
              "    }\n",
              "\n",
              "    .colab-df-convert:hover {\n",
              "      background-color: #E2EBFA;\n",
              "      box-shadow: 0px 1px 2px rgba(60, 64, 67, 0.3), 0px 1px 3px 1px rgba(60, 64, 67, 0.15);\n",
              "      fill: #174EA6;\n",
              "    }\n",
              "\n",
              "    .colab-df-buttons div {\n",
              "      margin-bottom: 4px;\n",
              "    }\n",
              "\n",
              "    [theme=dark] .colab-df-convert {\n",
              "      background-color: #3B4455;\n",
              "      fill: #D2E3FC;\n",
              "    }\n",
              "\n",
              "    [theme=dark] .colab-df-convert:hover {\n",
              "      background-color: #434B5C;\n",
              "      box-shadow: 0px 1px 3px 1px rgba(0, 0, 0, 0.15);\n",
              "      filter: drop-shadow(0px 1px 2px rgba(0, 0, 0, 0.3));\n",
              "      fill: #FFFFFF;\n",
              "    }\n",
              "  </style>\n",
              "\n",
              "    <script>\n",
              "      const buttonEl =\n",
              "        document.querySelector('#df-179c5222-5724-46bb-81ff-f18f7d7367c7 button.colab-df-convert');\n",
              "      buttonEl.style.display =\n",
              "        google.colab.kernel.accessAllowed ? 'block' : 'none';\n",
              "\n",
              "      async function convertToInteractive(key) {\n",
              "        const element = document.querySelector('#df-179c5222-5724-46bb-81ff-f18f7d7367c7');\n",
              "        const dataTable =\n",
              "          await google.colab.kernel.invokeFunction('convertToInteractive',\n",
              "                                                    [key], {});\n",
              "        if (!dataTable) return;\n",
              "\n",
              "        const docLinkHtml = 'Like what you see? Visit the ' +\n",
              "          '<a target=\"_blank\" href=https://colab.research.google.com/notebooks/data_table.ipynb>data table notebook</a>'\n",
              "          + ' to learn more about interactive tables.';\n",
              "        element.innerHTML = '';\n",
              "        dataTable['output_type'] = 'display_data';\n",
              "        await google.colab.output.renderOutput(dataTable, element);\n",
              "        const docLink = document.createElement('div');\n",
              "        docLink.innerHTML = docLinkHtml;\n",
              "        element.appendChild(docLink);\n",
              "      }\n",
              "    </script>\n",
              "  </div>\n",
              "\n",
              "\n",
              "<div id=\"df-10ad9053-f487-4a4f-b134-313a2d2dda0c\">\n",
              "  <button class=\"colab-df-quickchart\" onclick=\"quickchart('df-10ad9053-f487-4a4f-b134-313a2d2dda0c')\"\n",
              "            title=\"Suggest charts.\"\n",
              "            style=\"display:none;\">\n",
              "\n",
              "<svg xmlns=\"http://www.w3.org/2000/svg\" height=\"24px\"viewBox=\"0 0 24 24\"\n",
              "     width=\"24px\">\n",
              "    <g>\n",
              "        <path d=\"M19 3H5c-1.1 0-2 .9-2 2v14c0 1.1.9 2 2 2h14c1.1 0 2-.9 2-2V5c0-1.1-.9-2-2-2zM9 17H7v-7h2v7zm4 0h-2V7h2v10zm4 0h-2v-4h2v4z\"/>\n",
              "    </g>\n",
              "</svg>\n",
              "  </button>\n",
              "\n",
              "<style>\n",
              "  .colab-df-quickchart {\n",
              "      --bg-color: #E8F0FE;\n",
              "      --fill-color: #1967D2;\n",
              "      --hover-bg-color: #E2EBFA;\n",
              "      --hover-fill-color: #174EA6;\n",
              "      --disabled-fill-color: #AAA;\n",
              "      --disabled-bg-color: #DDD;\n",
              "  }\n",
              "\n",
              "  [theme=dark] .colab-df-quickchart {\n",
              "      --bg-color: #3B4455;\n",
              "      --fill-color: #D2E3FC;\n",
              "      --hover-bg-color: #434B5C;\n",
              "      --hover-fill-color: #FFFFFF;\n",
              "      --disabled-bg-color: #3B4455;\n",
              "      --disabled-fill-color: #666;\n",
              "  }\n",
              "\n",
              "  .colab-df-quickchart {\n",
              "    background-color: var(--bg-color);\n",
              "    border: none;\n",
              "    border-radius: 50%;\n",
              "    cursor: pointer;\n",
              "    display: none;\n",
              "    fill: var(--fill-color);\n",
              "    height: 32px;\n",
              "    padding: 0;\n",
              "    width: 32px;\n",
              "  }\n",
              "\n",
              "  .colab-df-quickchart:hover {\n",
              "    background-color: var(--hover-bg-color);\n",
              "    box-shadow: 0 1px 2px rgba(60, 64, 67, 0.3), 0 1px 3px 1px rgba(60, 64, 67, 0.15);\n",
              "    fill: var(--button-hover-fill-color);\n",
              "  }\n",
              "\n",
              "  .colab-df-quickchart-complete:disabled,\n",
              "  .colab-df-quickchart-complete:disabled:hover {\n",
              "    background-color: var(--disabled-bg-color);\n",
              "    fill: var(--disabled-fill-color);\n",
              "    box-shadow: none;\n",
              "  }\n",
              "\n",
              "  .colab-df-spinner {\n",
              "    border: 2px solid var(--fill-color);\n",
              "    border-color: transparent;\n",
              "    border-bottom-color: var(--fill-color);\n",
              "    animation:\n",
              "      spin 1s steps(1) infinite;\n",
              "  }\n",
              "\n",
              "  @keyframes spin {\n",
              "    0% {\n",
              "      border-color: transparent;\n",
              "      border-bottom-color: var(--fill-color);\n",
              "      border-left-color: var(--fill-color);\n",
              "    }\n",
              "    20% {\n",
              "      border-color: transparent;\n",
              "      border-left-color: var(--fill-color);\n",
              "      border-top-color: var(--fill-color);\n",
              "    }\n",
              "    30% {\n",
              "      border-color: transparent;\n",
              "      border-left-color: var(--fill-color);\n",
              "      border-top-color: var(--fill-color);\n",
              "      border-right-color: var(--fill-color);\n",
              "    }\n",
              "    40% {\n",
              "      border-color: transparent;\n",
              "      border-right-color: var(--fill-color);\n",
              "      border-top-color: var(--fill-color);\n",
              "    }\n",
              "    60% {\n",
              "      border-color: transparent;\n",
              "      border-right-color: var(--fill-color);\n",
              "    }\n",
              "    80% {\n",
              "      border-color: transparent;\n",
              "      border-right-color: var(--fill-color);\n",
              "      border-bottom-color: var(--fill-color);\n",
              "    }\n",
              "    90% {\n",
              "      border-color: transparent;\n",
              "      border-bottom-color: var(--fill-color);\n",
              "    }\n",
              "  }\n",
              "</style>\n",
              "\n",
              "  <script>\n",
              "    async function quickchart(key) {\n",
              "      const quickchartButtonEl =\n",
              "        document.querySelector('#' + key + ' button');\n",
              "      quickchartButtonEl.disabled = true;  // To prevent multiple clicks.\n",
              "      quickchartButtonEl.classList.add('colab-df-spinner');\n",
              "      try {\n",
              "        const charts = await google.colab.kernel.invokeFunction(\n",
              "            'suggestCharts', [key], {});\n",
              "      } catch (error) {\n",
              "        console.error('Error during call to suggestCharts:', error);\n",
              "      }\n",
              "      quickchartButtonEl.classList.remove('colab-df-spinner');\n",
              "      quickchartButtonEl.classList.add('colab-df-quickchart-complete');\n",
              "    }\n",
              "    (() => {\n",
              "      let quickchartButtonEl =\n",
              "        document.querySelector('#df-10ad9053-f487-4a4f-b134-313a2d2dda0c button');\n",
              "      quickchartButtonEl.style.display =\n",
              "        google.colab.kernel.accessAllowed ? 'block' : 'none';\n",
              "    })();\n",
              "  </script>\n",
              "</div>\n",
              "    </div>\n",
              "  </div>\n"
            ]
          },
          "metadata": {},
          "execution_count": 159
        }
      ]
    },
    {
      "cell_type": "code",
      "source": [
        "X_data[\"y\"]=X_data[\"y\"].astype('category')\n",
        "X_data[\"y\"]=X_data[\"y\"].cat.codes"
      ],
      "metadata": {
        "id": "XNZpVz9O9SBs"
      },
      "execution_count": null,
      "outputs": []
    },
    {
      "cell_type": "markdown",
      "source": [
        "## 5- Data preparation"
      ],
      "metadata": {
        "id": "Rf5_vbdKVHLU"
      }
    },
    {
      "cell_type": "code",
      "source": [
        "from sklearn import preprocessing\n",
        "from sklearn.model_selection import train_test_split\n",
        "from  sklearn.preprocessing import StandardScaler,MinMaxScaler\n",
        "import matplotlib.pyplot as plt\n",
        "from tensorflow.keras.layers import  Dense, BatchNormalization, Activation, Add"
      ],
      "metadata": {
        "id": "6naUcpcwVHBh"
      },
      "execution_count": null,
      "outputs": []
    },
    {
      "cell_type": "code",
      "source": [
        "x_train=X_data.loc[:, X_data.columns != 'y']"
      ],
      "metadata": {
        "id": "C0OBLtpIVG9-"
      },
      "execution_count": null,
      "outputs": []
    },
    {
      "cell_type": "code",
      "source": [
        "x_train=X"
      ],
      "metadata": {
        "id": "_oBF6omLRDeE"
      },
      "execution_count": null,
      "outputs": []
    },
    {
      "cell_type": "code",
      "source": [
        "x_train.shape"
      ],
      "metadata": {
        "colab": {
          "base_uri": "https://localhost:8080/"
        },
        "id": "NC5E5FS1NKlJ",
        "outputId": "4f39cd85-c348-4733-ddef-235909f4b50b"
      },
      "execution_count": null,
      "outputs": [
        {
          "output_type": "execute_result",
          "data": {
            "text/plain": [
              "(54, 512)"
            ]
          },
          "metadata": {},
          "execution_count": 478
        }
      ]
    },
    {
      "cell_type": "code",
      "source": [
        "y_train=X_data['y']"
      ],
      "metadata": {
        "id": "vLGQRTlhVG7e"
      },
      "execution_count": null,
      "outputs": []
    },
    {
      "cell_type": "code",
      "source": [
        "y_train=[1] * 54"
      ],
      "metadata": {
        "id": "zeNBIcNzGiQy"
      },
      "execution_count": null,
      "outputs": []
    },
    {
      "cell_type": "code",
      "source": [
        "x_train=np.array(x_train)\n",
        "y_train=np.array(y_train)"
      ],
      "metadata": {
        "id": "61ECgH-KVG4i"
      },
      "execution_count": null,
      "outputs": []
    },
    {
      "cell_type": "code",
      "source": [
        "scaler = MinMaxScaler()\n",
        "x_concept=scaler.fit_transform(x_concept)"
      ],
      "metadata": {
        "id": "ZBLTNO20VG1x"
      },
      "execution_count": null,
      "outputs": []
    },
    {
      "cell_type": "code",
      "source": [
        "x_train.shape"
      ],
      "metadata": {
        "colab": {
          "base_uri": "https://localhost:8080/"
        },
        "id": "nLG3dqDUVZXP",
        "outputId": "463c3cd1-0a85-4ba7-9828-4b74f79cdc81"
      },
      "execution_count": null,
      "outputs": [
        {
          "output_type": "execute_result",
          "data": {
            "text/plain": [
              "(54,)"
            ]
          },
          "metadata": {},
          "execution_count": 482
        }
      ]
    },
    {
      "cell_type": "code",
      "source": [
        "####################################\"\""
      ],
      "metadata": {
        "id": "STiZk4pYOcla"
      },
      "execution_count": null,
      "outputs": []
    },
    {
      "cell_type": "code",
      "source": [
        "x_train_bis=X_bis"
      ],
      "metadata": {
        "id": "HZOL-oNzOciN"
      },
      "execution_count": null,
      "outputs": []
    },
    {
      "cell_type": "code",
      "source": [
        "y_train_bis=[0] * 27"
      ],
      "metadata": {
        "id": "lgiHlsdPOcew"
      },
      "execution_count": null,
      "outputs": []
    },
    {
      "cell_type": "code",
      "source": [
        "x_train_bis=np.array(x_train_bis)"
      ],
      "metadata": {
        "id": "SvGDtTkxOcZg"
      },
      "execution_count": null,
      "outputs": []
    },
    {
      "cell_type": "code",
      "source": [
        "x_train_bis.shape"
      ],
      "metadata": {
        "colab": {
          "base_uri": "https://localhost:8080/"
        },
        "id": "YzNiK5iEOiJ7",
        "outputId": "b9665018-8c93-4b15-bc97-43ca8ac075a3"
      },
      "execution_count": null,
      "outputs": [
        {
          "output_type": "execute_result",
          "data": {
            "text/plain": [
              "(27, 512)"
            ]
          },
          "metadata": {},
          "execution_count": 497
        }
      ]
    },
    {
      "cell_type": "code",
      "source": [
        "x_train_bis=np.array(x_train_bis)\n",
        "y_train_bis=np.array(y_train_bis)"
      ],
      "metadata": {
        "id": "XAzN24RnOiG7"
      },
      "execution_count": null,
      "outputs": []
    },
    {
      "cell_type": "code",
      "source": [
        "x_concept=np.concatenate((x_train, x_train_bis))"
      ],
      "metadata": {
        "id": "10B1Gm-OOiCS"
      },
      "execution_count": null,
      "outputs": []
    },
    {
      "cell_type": "code",
      "source": [
        "x_concept.shape"
      ],
      "metadata": {
        "colab": {
          "base_uri": "https://localhost:8080/"
        },
        "id": "1_cjwTS9PQIx",
        "outputId": "bef5be7c-3624-4343-901a-29cbde1bb18a"
      },
      "execution_count": null,
      "outputs": [
        {
          "output_type": "execute_result",
          "data": {
            "text/plain": [
              "(81, 512)"
            ]
          },
          "metadata": {},
          "execution_count": 503
        }
      ]
    },
    {
      "cell_type": "code",
      "source": [
        "y_concept=np.concatenate((y_train, y_train_bis))"
      ],
      "metadata": {
        "id": "jrH3R0HLPQEz"
      },
      "execution_count": null,
      "outputs": []
    },
    {
      "cell_type": "code",
      "source": [
        "y_concept.shape"
      ],
      "metadata": {
        "colab": {
          "base_uri": "https://localhost:8080/"
        },
        "id": "3FTNxxzcQIOg",
        "outputId": "3578293c-5995-45c3-e106-b1d8e3a914ee"
      },
      "execution_count": null,
      "outputs": [
        {
          "output_type": "execute_result",
          "data": {
            "text/plain": [
              "(81,)"
            ]
          },
          "metadata": {},
          "execution_count": 505
        }
      ]
    },
    {
      "cell_type": "code",
      "source": [],
      "metadata": {
        "id": "dO98W7bLOh_y"
      },
      "execution_count": null,
      "outputs": []
    },
    {
      "cell_type": "markdown",
      "source": [
        "## 6- Autoencoder classifier"
      ],
      "metadata": {
        "id": "kw-ZMhHEU7ll"
      }
    },
    {
      "cell_type": "code",
      "source": [
        "from tensorflow.keras.layers import Conv2D, Dense, BatchNormalization, Activation, MaxPool2D, GlobalAveragePooling2D, Add\n",
        "from tensorflow.keras import Model\n",
        "import tensorflow.keras as keras\n",
        "from keras import layers\n",
        "import tensorflow as tf\n",
        "from keras import regularizers"
      ],
      "metadata": {
        "id": "31ZaLe7kVkxH"
      },
      "execution_count": null,
      "outputs": []
    },
    {
      "cell_type": "code",
      "source": [
        "encoding_dim=2\n",
        "input=x_concept.shape[1]\n",
        "# Deep NN\n",
        "input_img = keras.Input(shape=(input,))\n",
        "encoded = layers.Dense(200, activation='relu')(input_img)\n",
        "encoded = layers.Dense(150, activation='relu')(encoded)\n",
        "encoded = layers.Dense(100, activation='relu')(encoded)\n",
        "encoded = layers.Dense(50, activation='relu')(encoded)\n",
        "encoded = layers.Dense(20, activation='relu')(encoded)\n",
        "encoded = layers.Dense(10, activation='relu')(encoded)\n",
        "encoded = layers.Dense(encoding_dim, activation='linear')(encoded)\n",
        "\n",
        "decoded = layers.Dense(10, activation='relu')(encoded)\n",
        "decoded = layers.Dense(20, activation='relu')(decoded)\n",
        "decoded = layers.Dense(50, activation='relu')(decoded)\n",
        "decoded = layers.Dense(100, activation='relu')(decoded)\n",
        "decoded = layers.Dense(150, activation='relu')(decoded)\n",
        "decoded = layers.Dense(200, activation='relu')(decoded)\n",
        "decoded = layers.Dense(x_train.shape[1], activation='sigmoid')(decoded)"
      ],
      "metadata": {
        "id": "TNQY_0Re9R9k"
      },
      "execution_count": null,
      "outputs": []
    },
    {
      "cell_type": "code",
      "source": [
        "autoencoder = keras.Model(input_img, decoded)"
      ],
      "metadata": {
        "id": "-zFdzLJGU7MX"
      },
      "execution_count": null,
      "outputs": []
    },
    {
      "cell_type": "code",
      "source": [
        "autoencoder.summary()"
      ],
      "metadata": {
        "colab": {
          "base_uri": "https://localhost:8080/"
        },
        "id": "wSAJ5mQvU7Iy",
        "outputId": "32e0b585-31c6-4d07-a029-15715f9c2dc4"
      },
      "execution_count": null,
      "outputs": [
        {
          "output_type": "stream",
          "name": "stdout",
          "text": [
            "Model: \"model_9\"\n",
            "_________________________________________________________________\n",
            " Layer (type)                Output Shape              Param #   \n",
            "=================================================================\n",
            " input_5 (InputLayer)        [(None, 512)]             0         \n",
            "                                                                 \n",
            " dense_56 (Dense)            (None, 200)               102600    \n",
            "                                                                 \n",
            " dense_57 (Dense)            (None, 150)               30150     \n",
            "                                                                 \n",
            " dense_58 (Dense)            (None, 100)               15100     \n",
            "                                                                 \n",
            " dense_59 (Dense)            (None, 50)                5050      \n",
            "                                                                 \n",
            " dense_60 (Dense)            (None, 20)                1020      \n",
            "                                                                 \n",
            " dense_61 (Dense)            (None, 10)                210       \n",
            "                                                                 \n",
            " dense_62 (Dense)            (None, 2)                 22        \n",
            "                                                                 \n",
            " dense_63 (Dense)            (None, 10)                30        \n",
            "                                                                 \n",
            " dense_64 (Dense)            (None, 20)                220       \n",
            "                                                                 \n",
            " dense_65 (Dense)            (None, 50)                1050      \n",
            "                                                                 \n",
            " dense_66 (Dense)            (None, 100)               5100      \n",
            "                                                                 \n",
            " dense_67 (Dense)            (None, 150)               15150     \n",
            "                                                                 \n",
            " dense_68 (Dense)            (None, 200)               30200     \n",
            "                                                                 \n",
            " dense_69 (Dense)            (None, 512)               102912    \n",
            "                                                                 \n",
            "=================================================================\n",
            "Total params: 308814 (1.18 MB)\n",
            "Trainable params: 308814 (1.18 MB)\n",
            "Non-trainable params: 0 (0.00 Byte)\n",
            "_________________________________________________________________\n"
          ]
        }
      ]
    },
    {
      "cell_type": "code",
      "source": [
        "autoencoder.compile(optimizer='adam', loss='binary_crossentropy')"
      ],
      "metadata": {
        "id": "Rj04zy9FV01W"
      },
      "execution_count": null,
      "outputs": []
    },
    {
      "cell_type": "code",
      "source": [
        "autoencoder.fit(x_concept, x_concept,\n",
        "                epochs=500,\n",
        "                batch_size=256,\n",
        "                shuffle=True,\n",
        "                validation_data=(x_concept, x_concept)\n",
        "                )"
      ],
      "metadata": {
        "colab": {
          "base_uri": "https://localhost:8080/"
        },
        "id": "kQNWd4FnU7GQ",
        "outputId": "2e25e87e-581d-423a-9235-70d7a9460604"
      },
      "execution_count": null,
      "outputs": [
        {
          "output_type": "stream",
          "name": "stdout",
          "text": [
            "Epoch 1/500\n",
            "1/1 [==============================] - 3s 3s/step - loss: 0.6931 - val_loss: 0.6929\n",
            "Epoch 2/500\n",
            "1/1 [==============================] - 0s 51ms/step - loss: 0.6929 - val_loss: 0.6925\n",
            "Epoch 3/500\n",
            "1/1 [==============================] - 0s 54ms/step - loss: 0.6925 - val_loss: 0.6920\n",
            "Epoch 4/500\n",
            "1/1 [==============================] - 0s 53ms/step - loss: 0.6920 - val_loss: 0.6910\n",
            "Epoch 5/500\n",
            "1/1 [==============================] - 0s 45ms/step - loss: 0.6910 - val_loss: 0.6894\n",
            "Epoch 6/500\n",
            "1/1 [==============================] - 0s 45ms/step - loss: 0.6894 - val_loss: 0.6866\n",
            "Epoch 7/500\n",
            "1/1 [==============================] - 0s 46ms/step - loss: 0.6866 - val_loss: 0.6820\n",
            "Epoch 8/500\n",
            "1/1 [==============================] - 0s 47ms/step - loss: 0.6820 - val_loss: 0.6749\n",
            "Epoch 9/500\n",
            "1/1 [==============================] - 0s 45ms/step - loss: 0.6749 - val_loss: 0.6647\n",
            "Epoch 10/500\n",
            "1/1 [==============================] - 0s 46ms/step - loss: 0.6647 - val_loss: 0.6515\n",
            "Epoch 11/500\n",
            "1/1 [==============================] - 0s 53ms/step - loss: 0.6515 - val_loss: 0.6377\n",
            "Epoch 12/500\n",
            "1/1 [==============================] - 0s 52ms/step - loss: 0.6377 - val_loss: 0.6303\n",
            "Epoch 13/500\n",
            "1/1 [==============================] - 0s 50ms/step - loss: 0.6303 - val_loss: 0.6297\n",
            "Epoch 14/500\n",
            "1/1 [==============================] - 0s 46ms/step - loss: 0.6297 - val_loss: 0.6211\n",
            "Epoch 15/500\n",
            "1/1 [==============================] - 0s 52ms/step - loss: 0.6211 - val_loss: 0.6095\n",
            "Epoch 16/500\n",
            "1/1 [==============================] - 0s 46ms/step - loss: 0.6095 - val_loss: 0.6019\n",
            "Epoch 17/500\n",
            "1/1 [==============================] - 0s 51ms/step - loss: 0.6019 - val_loss: 0.5984\n",
            "Epoch 18/500\n",
            "1/1 [==============================] - 0s 55ms/step - loss: 0.5984 - val_loss: 0.5961\n",
            "Epoch 19/500\n",
            "1/1 [==============================] - 0s 53ms/step - loss: 0.5961 - val_loss: 0.5931\n",
            "Epoch 20/500\n",
            "1/1 [==============================] - 0s 45ms/step - loss: 0.5931 - val_loss: 0.5896\n",
            "Epoch 21/500\n",
            "1/1 [==============================] - 0s 49ms/step - loss: 0.5896 - val_loss: 0.5871\n",
            "Epoch 22/500\n",
            "1/1 [==============================] - 0s 49ms/step - loss: 0.5871 - val_loss: 0.5866\n",
            "Epoch 23/500\n",
            "1/1 [==============================] - 0s 52ms/step - loss: 0.5866 - val_loss: 0.5868\n",
            "Epoch 24/500\n",
            "1/1 [==============================] - 0s 46ms/step - loss: 0.5868 - val_loss: 0.5858\n",
            "Epoch 25/500\n",
            "1/1 [==============================] - 0s 54ms/step - loss: 0.5858 - val_loss: 0.5840\n",
            "Epoch 26/500\n",
            "1/1 [==============================] - 0s 46ms/step - loss: 0.5840 - val_loss: 0.5829\n",
            "Epoch 27/500\n",
            "1/1 [==============================] - 0s 45ms/step - loss: 0.5829 - val_loss: 0.5829\n",
            "Epoch 28/500\n",
            "1/1 [==============================] - 0s 51ms/step - loss: 0.5829 - val_loss: 0.5831\n",
            "Epoch 29/500\n",
            "1/1 [==============================] - 0s 53ms/step - loss: 0.5831 - val_loss: 0.5827\n",
            "Epoch 30/500\n",
            "1/1 [==============================] - 0s 47ms/step - loss: 0.5827 - val_loss: 0.5820\n",
            "Epoch 31/500\n",
            "1/1 [==============================] - 0s 54ms/step - loss: 0.5820 - val_loss: 0.5813\n",
            "Epoch 32/500\n",
            "1/1 [==============================] - 0s 47ms/step - loss: 0.5813 - val_loss: 0.5812\n",
            "Epoch 33/500\n",
            "1/1 [==============================] - 0s 52ms/step - loss: 0.5812 - val_loss: 0.5812\n",
            "Epoch 34/500\n",
            "1/1 [==============================] - 0s 49ms/step - loss: 0.5812 - val_loss: 0.5809\n",
            "Epoch 35/500\n",
            "1/1 [==============================] - 0s 50ms/step - loss: 0.5809 - val_loss: 0.5802\n",
            "Epoch 36/500\n",
            "1/1 [==============================] - 0s 56ms/step - loss: 0.5802 - val_loss: 0.5797\n",
            "Epoch 37/500\n",
            "1/1 [==============================] - 0s 47ms/step - loss: 0.5797 - val_loss: 0.5796\n",
            "Epoch 38/500\n",
            "1/1 [==============================] - 0s 57ms/step - loss: 0.5796 - val_loss: 0.5796\n",
            "Epoch 39/500\n",
            "1/1 [==============================] - 0s 50ms/step - loss: 0.5796 - val_loss: 0.5793\n",
            "Epoch 40/500\n",
            "1/1 [==============================] - 0s 52ms/step - loss: 0.5793 - val_loss: 0.5789\n",
            "Epoch 41/500\n",
            "1/1 [==============================] - 0s 50ms/step - loss: 0.5789 - val_loss: 0.5787\n",
            "Epoch 42/500\n",
            "1/1 [==============================] - 0s 63ms/step - loss: 0.5787 - val_loss: 0.5787\n",
            "Epoch 43/500\n",
            "1/1 [==============================] - 0s 57ms/step - loss: 0.5787 - val_loss: 0.5786\n",
            "Epoch 44/500\n",
            "1/1 [==============================] - 0s 53ms/step - loss: 0.5786 - val_loss: 0.5784\n",
            "Epoch 45/500\n",
            "1/1 [==============================] - 0s 48ms/step - loss: 0.5784 - val_loss: 0.5782\n",
            "Epoch 46/500\n",
            "1/1 [==============================] - 0s 43ms/step - loss: 0.5782 - val_loss: 0.5782\n",
            "Epoch 47/500\n",
            "1/1 [==============================] - 0s 53ms/step - loss: 0.5782 - val_loss: 0.5781\n",
            "Epoch 48/500\n",
            "1/1 [==============================] - 0s 47ms/step - loss: 0.5781 - val_loss: 0.5780\n",
            "Epoch 49/500\n",
            "1/1 [==============================] - 0s 52ms/step - loss: 0.5780 - val_loss: 0.5778\n",
            "Epoch 50/500\n",
            "1/1 [==============================] - 0s 47ms/step - loss: 0.5778 - val_loss: 0.5777\n",
            "Epoch 51/500\n",
            "1/1 [==============================] - 0s 53ms/step - loss: 0.5777 - val_loss: 0.5777\n",
            "Epoch 52/500\n",
            "1/1 [==============================] - 0s 49ms/step - loss: 0.5777 - val_loss: 0.5776\n",
            "Epoch 53/500\n",
            "1/1 [==============================] - 0s 53ms/step - loss: 0.5776 - val_loss: 0.5774\n",
            "Epoch 54/500\n",
            "1/1 [==============================] - 0s 47ms/step - loss: 0.5774 - val_loss: 0.5774\n",
            "Epoch 55/500\n",
            "1/1 [==============================] - 0s 47ms/step - loss: 0.5774 - val_loss: 0.5774\n",
            "Epoch 56/500\n",
            "1/1 [==============================] - 0s 54ms/step - loss: 0.5774 - val_loss: 0.5773\n",
            "Epoch 57/500\n",
            "1/1 [==============================] - 0s 47ms/step - loss: 0.5773 - val_loss: 0.5772\n",
            "Epoch 58/500\n",
            "1/1 [==============================] - 0s 49ms/step - loss: 0.5772 - val_loss: 0.5772\n",
            "Epoch 59/500\n",
            "1/1 [==============================] - 0s 51ms/step - loss: 0.5772 - val_loss: 0.5772\n",
            "Epoch 60/500\n",
            "1/1 [==============================] - 0s 54ms/step - loss: 0.5772 - val_loss: 0.5771\n",
            "Epoch 61/500\n",
            "1/1 [==============================] - 0s 50ms/step - loss: 0.5771 - val_loss: 0.5771\n",
            "Epoch 62/500\n",
            "1/1 [==============================] - 0s 53ms/step - loss: 0.5771 - val_loss: 0.5771\n",
            "Epoch 63/500\n",
            "1/1 [==============================] - 0s 47ms/step - loss: 0.5771 - val_loss: 0.5771\n",
            "Epoch 64/500\n",
            "1/1 [==============================] - 0s 53ms/step - loss: 0.5771 - val_loss: 0.5771\n",
            "Epoch 65/500\n",
            "1/1 [==============================] - 0s 49ms/step - loss: 0.5771 - val_loss: 0.5770\n",
            "Epoch 66/500\n",
            "1/1 [==============================] - 0s 50ms/step - loss: 0.5770 - val_loss: 0.5770\n",
            "Epoch 67/500\n",
            "1/1 [==============================] - 0s 53ms/step - loss: 0.5770 - val_loss: 0.5770\n",
            "Epoch 68/500\n",
            "1/1 [==============================] - 0s 50ms/step - loss: 0.5770 - val_loss: 0.5770\n",
            "Epoch 69/500\n",
            "1/1 [==============================] - 0s 52ms/step - loss: 0.5770 - val_loss: 0.5769\n",
            "Epoch 70/500\n",
            "1/1 [==============================] - 0s 55ms/step - loss: 0.5769 - val_loss: 0.5769\n",
            "Epoch 71/500\n",
            "1/1 [==============================] - 0s 52ms/step - loss: 0.5769 - val_loss: 0.5769\n",
            "Epoch 72/500\n",
            "1/1 [==============================] - 0s 55ms/step - loss: 0.5769 - val_loss: 0.5769\n",
            "Epoch 73/500\n",
            "1/1 [==============================] - 0s 49ms/step - loss: 0.5769 - val_loss: 0.5769\n",
            "Epoch 74/500\n",
            "1/1 [==============================] - 0s 48ms/step - loss: 0.5769 - val_loss: 0.5769\n",
            "Epoch 75/500\n",
            "1/1 [==============================] - 0s 49ms/step - loss: 0.5769 - val_loss: 0.5769\n",
            "Epoch 76/500\n",
            "1/1 [==============================] - 0s 52ms/step - loss: 0.5769 - val_loss: 0.5769\n",
            "Epoch 77/500\n",
            "1/1 [==============================] - 0s 50ms/step - loss: 0.5769 - val_loss: 0.5769\n",
            "Epoch 78/500\n",
            "1/1 [==============================] - 0s 56ms/step - loss: 0.5769 - val_loss: 0.5768\n",
            "Epoch 79/500\n",
            "1/1 [==============================] - 0s 52ms/step - loss: 0.5768 - val_loss: 0.5768\n",
            "Epoch 80/500\n",
            "1/1 [==============================] - 0s 55ms/step - loss: 0.5768 - val_loss: 0.5768\n",
            "Epoch 81/500\n",
            "1/1 [==============================] - 0s 53ms/step - loss: 0.5768 - val_loss: 0.5768\n",
            "Epoch 82/500\n",
            "1/1 [==============================] - 0s 50ms/step - loss: 0.5768 - val_loss: 0.5768\n",
            "Epoch 83/500\n",
            "1/1 [==============================] - 0s 55ms/step - loss: 0.5768 - val_loss: 0.5768\n",
            "Epoch 84/500\n",
            "1/1 [==============================] - 0s 54ms/step - loss: 0.5768 - val_loss: 0.5768\n",
            "Epoch 85/500\n",
            "1/1 [==============================] - 0s 53ms/step - loss: 0.5768 - val_loss: 0.5768\n",
            "Epoch 86/500\n",
            "1/1 [==============================] - 0s 50ms/step - loss: 0.5768 - val_loss: 0.5768\n",
            "Epoch 87/500\n",
            "1/1 [==============================] - 0s 46ms/step - loss: 0.5768 - val_loss: 0.5768\n",
            "Epoch 88/500\n",
            "1/1 [==============================] - 0s 51ms/step - loss: 0.5768 - val_loss: 0.5768\n",
            "Epoch 89/500\n",
            "1/1 [==============================] - 0s 53ms/step - loss: 0.5768 - val_loss: 0.5767\n",
            "Epoch 90/500\n",
            "1/1 [==============================] - 0s 61ms/step - loss: 0.5767 - val_loss: 0.5767\n",
            "Epoch 91/500\n",
            "1/1 [==============================] - 0s 47ms/step - loss: 0.5767 - val_loss: 0.5767\n",
            "Epoch 92/500\n",
            "1/1 [==============================] - 0s 48ms/step - loss: 0.5767 - val_loss: 0.5767\n",
            "Epoch 93/500\n",
            "1/1 [==============================] - 0s 50ms/step - loss: 0.5767 - val_loss: 0.5767\n",
            "Epoch 94/500\n",
            "1/1 [==============================] - 0s 45ms/step - loss: 0.5767 - val_loss: 0.5767\n",
            "Epoch 95/500\n",
            "1/1 [==============================] - 0s 55ms/step - loss: 0.5767 - val_loss: 0.5767\n",
            "Epoch 96/500\n",
            "1/1 [==============================] - 0s 51ms/step - loss: 0.5767 - val_loss: 0.5767\n",
            "Epoch 97/500\n",
            "1/1 [==============================] - 0s 48ms/step - loss: 0.5767 - val_loss: 0.5767\n",
            "Epoch 98/500\n",
            "1/1 [==============================] - 0s 52ms/step - loss: 0.5767 - val_loss: 0.5767\n",
            "Epoch 99/500\n",
            "1/1 [==============================] - 0s 53ms/step - loss: 0.5767 - val_loss: 0.5767\n",
            "Epoch 100/500\n",
            "1/1 [==============================] - 0s 53ms/step - loss: 0.5767 - val_loss: 0.5767\n",
            "Epoch 101/500\n",
            "1/1 [==============================] - 0s 50ms/step - loss: 0.5767 - val_loss: 0.5767\n",
            "Epoch 102/500\n",
            "1/1 [==============================] - 0s 52ms/step - loss: 0.5767 - val_loss: 0.5767\n",
            "Epoch 103/500\n",
            "1/1 [==============================] - 0s 47ms/step - loss: 0.5767 - val_loss: 0.5766\n",
            "Epoch 104/500\n",
            "1/1 [==============================] - 0s 49ms/step - loss: 0.5766 - val_loss: 0.5766\n",
            "Epoch 105/500\n",
            "1/1 [==============================] - 0s 52ms/step - loss: 0.5766 - val_loss: 0.5766\n",
            "Epoch 106/500\n",
            "1/1 [==============================] - 0s 54ms/step - loss: 0.5766 - val_loss: 0.5766\n",
            "Epoch 107/500\n",
            "1/1 [==============================] - 0s 50ms/step - loss: 0.5766 - val_loss: 0.5766\n",
            "Epoch 108/500\n",
            "1/1 [==============================] - 0s 48ms/step - loss: 0.5766 - val_loss: 0.5766\n",
            "Epoch 109/500\n",
            "1/1 [==============================] - 0s 52ms/step - loss: 0.5766 - val_loss: 0.5766\n",
            "Epoch 110/500\n",
            "1/1 [==============================] - 0s 52ms/step - loss: 0.5766 - val_loss: 0.5766\n",
            "Epoch 111/500\n",
            "1/1 [==============================] - 0s 54ms/step - loss: 0.5766 - val_loss: 0.5766\n",
            "Epoch 112/500\n",
            "1/1 [==============================] - 0s 50ms/step - loss: 0.5766 - val_loss: 0.5766\n",
            "Epoch 113/500\n",
            "1/1 [==============================] - 0s 49ms/step - loss: 0.5766 - val_loss: 0.5766\n",
            "Epoch 114/500\n",
            "1/1 [==============================] - 0s 53ms/step - loss: 0.5766 - val_loss: 0.5766\n",
            "Epoch 115/500\n",
            "1/1 [==============================] - 0s 47ms/step - loss: 0.5766 - val_loss: 0.5765\n",
            "Epoch 116/500\n",
            "1/1 [==============================] - 0s 51ms/step - loss: 0.5765 - val_loss: 0.5765\n",
            "Epoch 117/500\n",
            "1/1 [==============================] - 0s 49ms/step - loss: 0.5765 - val_loss: 0.5765\n",
            "Epoch 118/500\n",
            "1/1 [==============================] - 0s 48ms/step - loss: 0.5765 - val_loss: 0.5765\n",
            "Epoch 119/500\n",
            "1/1 [==============================] - 0s 51ms/step - loss: 0.5765 - val_loss: 0.5765\n",
            "Epoch 120/500\n",
            "1/1 [==============================] - 0s 46ms/step - loss: 0.5765 - val_loss: 0.5765\n",
            "Epoch 121/500\n",
            "1/1 [==============================] - 0s 47ms/step - loss: 0.5765 - val_loss: 0.5765\n",
            "Epoch 122/500\n",
            "1/1 [==============================] - 0s 50ms/step - loss: 0.5765 - val_loss: 0.5765\n",
            "Epoch 123/500\n",
            "1/1 [==============================] - 0s 47ms/step - loss: 0.5765 - val_loss: 0.5765\n",
            "Epoch 124/500\n",
            "1/1 [==============================] - 0s 50ms/step - loss: 0.5765 - val_loss: 0.5764\n",
            "Epoch 125/500\n",
            "1/1 [==============================] - 0s 65ms/step - loss: 0.5764 - val_loss: 0.5764\n",
            "Epoch 126/500\n",
            "1/1 [==============================] - 0s 47ms/step - loss: 0.5764 - val_loss: 0.5764\n",
            "Epoch 127/500\n",
            "1/1 [==============================] - 0s 45ms/step - loss: 0.5764 - val_loss: 0.5764\n",
            "Epoch 128/500\n",
            "1/1 [==============================] - 0s 47ms/step - loss: 0.5764 - val_loss: 0.5764\n",
            "Epoch 129/500\n",
            "1/1 [==============================] - 0s 45ms/step - loss: 0.5764 - val_loss: 0.5764\n",
            "Epoch 130/500\n",
            "1/1 [==============================] - 0s 53ms/step - loss: 0.5764 - val_loss: 0.5764\n",
            "Epoch 131/500\n",
            "1/1 [==============================] - 0s 48ms/step - loss: 0.5764 - val_loss: 0.5763\n",
            "Epoch 132/500\n",
            "1/1 [==============================] - 0s 51ms/step - loss: 0.5763 - val_loss: 0.5763\n",
            "Epoch 133/500\n",
            "1/1 [==============================] - 0s 52ms/step - loss: 0.5763 - val_loss: 0.5763\n",
            "Epoch 134/500\n",
            "1/1 [==============================] - 0s 56ms/step - loss: 0.5763 - val_loss: 0.5763\n",
            "Epoch 135/500\n",
            "1/1 [==============================] - 0s 48ms/step - loss: 0.5763 - val_loss: 0.5763\n",
            "Epoch 136/500\n",
            "1/1 [==============================] - 0s 52ms/step - loss: 0.5763 - val_loss: 0.5762\n",
            "Epoch 137/500\n",
            "1/1 [==============================] - 0s 49ms/step - loss: 0.5762 - val_loss: 0.5762\n",
            "Epoch 138/500\n",
            "1/1 [==============================] - 0s 48ms/step - loss: 0.5762 - val_loss: 0.5762\n",
            "Epoch 139/500\n",
            "1/1 [==============================] - 0s 47ms/step - loss: 0.5762 - val_loss: 0.5762\n",
            "Epoch 140/500\n",
            "1/1 [==============================] - 0s 44ms/step - loss: 0.5762 - val_loss: 0.5762\n",
            "Epoch 141/500\n",
            "1/1 [==============================] - 0s 46ms/step - loss: 0.5762 - val_loss: 0.5761\n",
            "Epoch 142/500\n",
            "1/1 [==============================] - 0s 42ms/step - loss: 0.5761 - val_loss: 0.5761\n",
            "Epoch 143/500\n",
            "1/1 [==============================] - 0s 46ms/step - loss: 0.5761 - val_loss: 0.5761\n",
            "Epoch 144/500\n",
            "1/1 [==============================] - 0s 56ms/step - loss: 0.5761 - val_loss: 0.5760\n",
            "Epoch 145/500\n",
            "1/1 [==============================] - 0s 49ms/step - loss: 0.5760 - val_loss: 0.5760\n",
            "Epoch 146/500\n",
            "1/1 [==============================] - 0s 48ms/step - loss: 0.5760 - val_loss: 0.5760\n",
            "Epoch 147/500\n",
            "1/1 [==============================] - 0s 47ms/step - loss: 0.5760 - val_loss: 0.5759\n",
            "Epoch 148/500\n",
            "1/1 [==============================] - 0s 63ms/step - loss: 0.5759 - val_loss: 0.5759\n",
            "Epoch 149/500\n",
            "1/1 [==============================] - 0s 49ms/step - loss: 0.5759 - val_loss: 0.5759\n",
            "Epoch 150/500\n",
            "1/1 [==============================] - 0s 52ms/step - loss: 0.5759 - val_loss: 0.5758\n",
            "Epoch 151/500\n",
            "1/1 [==============================] - 0s 52ms/step - loss: 0.5758 - val_loss: 0.5758\n",
            "Epoch 152/500\n",
            "1/1 [==============================] - 0s 52ms/step - loss: 0.5758 - val_loss: 0.5757\n",
            "Epoch 153/500\n",
            "1/1 [==============================] - 0s 51ms/step - loss: 0.5757 - val_loss: 0.5757\n",
            "Epoch 154/500\n",
            "1/1 [==============================] - 0s 48ms/step - loss: 0.5757 - val_loss: 0.5756\n",
            "Epoch 155/500\n",
            "1/1 [==============================] - 0s 52ms/step - loss: 0.5756 - val_loss: 0.5756\n",
            "Epoch 156/500\n",
            "1/1 [==============================] - 0s 49ms/step - loss: 0.5756 - val_loss: 0.5755\n",
            "Epoch 157/500\n",
            "1/1 [==============================] - 0s 48ms/step - loss: 0.5755 - val_loss: 0.5754\n",
            "Epoch 158/500\n",
            "1/1 [==============================] - 0s 45ms/step - loss: 0.5754 - val_loss: 0.5754\n",
            "Epoch 159/500\n",
            "1/1 [==============================] - 0s 49ms/step - loss: 0.5754 - val_loss: 0.5753\n",
            "Epoch 160/500\n",
            "1/1 [==============================] - 0s 52ms/step - loss: 0.5753 - val_loss: 0.5752\n",
            "Epoch 161/500\n",
            "1/1 [==============================] - 0s 46ms/step - loss: 0.5752 - val_loss: 0.5751\n",
            "Epoch 162/500\n",
            "1/1 [==============================] - 0s 50ms/step - loss: 0.5751 - val_loss: 0.5750\n",
            "Epoch 163/500\n",
            "1/1 [==============================] - 0s 47ms/step - loss: 0.5750 - val_loss: 0.5750\n",
            "Epoch 164/500\n",
            "1/1 [==============================] - 0s 51ms/step - loss: 0.5750 - val_loss: 0.5749\n",
            "Epoch 165/500\n",
            "1/1 [==============================] - 0s 48ms/step - loss: 0.5749 - val_loss: 0.5748\n",
            "Epoch 166/500\n",
            "1/1 [==============================] - 0s 46ms/step - loss: 0.5748 - val_loss: 0.5746\n",
            "Epoch 167/500\n",
            "1/1 [==============================] - 0s 52ms/step - loss: 0.5746 - val_loss: 0.5745\n",
            "Epoch 168/500\n",
            "1/1 [==============================] - 0s 65ms/step - loss: 0.5745 - val_loss: 0.5743\n",
            "Epoch 169/500\n",
            "1/1 [==============================] - 0s 47ms/step - loss: 0.5743 - val_loss: 0.5742\n",
            "Epoch 170/500\n",
            "1/1 [==============================] - 0s 44ms/step - loss: 0.5742 - val_loss: 0.5741\n",
            "Epoch 171/500\n",
            "1/1 [==============================] - 0s 48ms/step - loss: 0.5741 - val_loss: 0.5740\n",
            "Epoch 172/500\n",
            "1/1 [==============================] - 0s 48ms/step - loss: 0.5740 - val_loss: 0.5737\n",
            "Epoch 173/500\n",
            "1/1 [==============================] - 0s 47ms/step - loss: 0.5737 - val_loss: 0.5736\n",
            "Epoch 174/500\n",
            "1/1 [==============================] - 0s 48ms/step - loss: 0.5736 - val_loss: 0.5736\n",
            "Epoch 175/500\n",
            "1/1 [==============================] - 0s 52ms/step - loss: 0.5736 - val_loss: 0.5732\n",
            "Epoch 176/500\n",
            "1/1 [==============================] - 0s 54ms/step - loss: 0.5732 - val_loss: 0.5731\n",
            "Epoch 177/500\n",
            "1/1 [==============================] - 0s 50ms/step - loss: 0.5731 - val_loss: 0.5731\n",
            "Epoch 178/500\n",
            "1/1 [==============================] - 0s 48ms/step - loss: 0.5731 - val_loss: 0.5728\n",
            "Epoch 179/500\n",
            "1/1 [==============================] - 0s 49ms/step - loss: 0.5728 - val_loss: 0.5727\n",
            "Epoch 180/500\n",
            "1/1 [==============================] - 0s 51ms/step - loss: 0.5727 - val_loss: 0.5723\n",
            "Epoch 181/500\n",
            "1/1 [==============================] - 0s 52ms/step - loss: 0.5723 - val_loss: 0.5722\n",
            "Epoch 182/500\n",
            "1/1 [==============================] - 0s 50ms/step - loss: 0.5722 - val_loss: 0.5719\n",
            "Epoch 183/500\n",
            "1/1 [==============================] - 0s 53ms/step - loss: 0.5719 - val_loss: 0.5719\n",
            "Epoch 184/500\n",
            "1/1 [==============================] - 0s 53ms/step - loss: 0.5719 - val_loss: 0.5718\n",
            "Epoch 185/500\n",
            "1/1 [==============================] - 0s 47ms/step - loss: 0.5718 - val_loss: 0.5717\n",
            "Epoch 186/500\n",
            "1/1 [==============================] - 0s 45ms/step - loss: 0.5717 - val_loss: 0.5713\n",
            "Epoch 187/500\n",
            "1/1 [==============================] - 0s 48ms/step - loss: 0.5713 - val_loss: 0.5714\n",
            "Epoch 188/500\n",
            "1/1 [==============================] - 0s 50ms/step - loss: 0.5714 - val_loss: 0.5710\n",
            "Epoch 189/500\n",
            "1/1 [==============================] - 0s 45ms/step - loss: 0.5710 - val_loss: 0.5711\n",
            "Epoch 190/500\n",
            "1/1 [==============================] - 0s 48ms/step - loss: 0.5711 - val_loss: 0.5709\n",
            "Epoch 191/500\n",
            "1/1 [==============================] - 0s 46ms/step - loss: 0.5709 - val_loss: 0.5707\n",
            "Epoch 192/500\n",
            "1/1 [==============================] - 0s 48ms/step - loss: 0.5707 - val_loss: 0.5707\n",
            "Epoch 193/500\n",
            "1/1 [==============================] - 0s 46ms/step - loss: 0.5707 - val_loss: 0.5705\n",
            "Epoch 194/500\n",
            "1/1 [==============================] - 0s 65ms/step - loss: 0.5705 - val_loss: 0.5704\n",
            "Epoch 195/500\n",
            "1/1 [==============================] - 0s 51ms/step - loss: 0.5704 - val_loss: 0.5703\n",
            "Epoch 196/500\n",
            "1/1 [==============================] - 0s 48ms/step - loss: 0.5703 - val_loss: 0.5702\n",
            "Epoch 197/500\n",
            "1/1 [==============================] - 0s 47ms/step - loss: 0.5702 - val_loss: 0.5701\n",
            "Epoch 198/500\n",
            "1/1 [==============================] - 0s 50ms/step - loss: 0.5701 - val_loss: 0.5700\n",
            "Epoch 199/500\n",
            "1/1 [==============================] - 0s 45ms/step - loss: 0.5700 - val_loss: 0.5699\n",
            "Epoch 200/500\n",
            "1/1 [==============================] - 0s 48ms/step - loss: 0.5699 - val_loss: 0.5699\n",
            "Epoch 201/500\n",
            "1/1 [==============================] - 0s 46ms/step - loss: 0.5699 - val_loss: 0.5698\n",
            "Epoch 202/500\n",
            "1/1 [==============================] - 0s 50ms/step - loss: 0.5698 - val_loss: 0.5697\n",
            "Epoch 203/500\n",
            "1/1 [==============================] - 0s 49ms/step - loss: 0.5697 - val_loss: 0.5697\n",
            "Epoch 204/500\n",
            "1/1 [==============================] - 0s 45ms/step - loss: 0.5697 - val_loss: 0.5696\n",
            "Epoch 205/500\n",
            "1/1 [==============================] - 0s 47ms/step - loss: 0.5696 - val_loss: 0.5695\n",
            "Epoch 206/500\n",
            "1/1 [==============================] - 0s 46ms/step - loss: 0.5695 - val_loss: 0.5697\n",
            "Epoch 207/500\n",
            "1/1 [==============================] - 0s 45ms/step - loss: 0.5697 - val_loss: 0.5698\n",
            "Epoch 208/500\n",
            "1/1 [==============================] - 0s 49ms/step - loss: 0.5698 - val_loss: 0.5707\n",
            "Epoch 209/500\n",
            "1/1 [==============================] - 0s 51ms/step - loss: 0.5707 - val_loss: 0.5695\n",
            "Epoch 210/500\n",
            "1/1 [==============================] - 0s 46ms/step - loss: 0.5695 - val_loss: 0.5703\n",
            "Epoch 211/500\n",
            "1/1 [==============================] - 0s 49ms/step - loss: 0.5703 - val_loss: 0.5694\n",
            "Epoch 212/500\n",
            "1/1 [==============================] - 0s 53ms/step - loss: 0.5694 - val_loss: 0.5698\n",
            "Epoch 213/500\n",
            "1/1 [==============================] - 0s 50ms/step - loss: 0.5698 - val_loss: 0.5693\n",
            "Epoch 214/500\n",
            "1/1 [==============================] - 0s 48ms/step - loss: 0.5693 - val_loss: 0.5696\n",
            "Epoch 215/500\n",
            "1/1 [==============================] - 0s 50ms/step - loss: 0.5696 - val_loss: 0.5689\n",
            "Epoch 216/500\n",
            "1/1 [==============================] - 0s 49ms/step - loss: 0.5689 - val_loss: 0.5693\n",
            "Epoch 217/500\n",
            "1/1 [==============================] - 0s 50ms/step - loss: 0.5693 - val_loss: 0.5687\n",
            "Epoch 218/500\n",
            "1/1 [==============================] - 0s 48ms/step - loss: 0.5687 - val_loss: 0.5689\n",
            "Epoch 219/500\n",
            "1/1 [==============================] - 0s 51ms/step - loss: 0.5689 - val_loss: 0.5684\n",
            "Epoch 220/500\n",
            "1/1 [==============================] - 0s 53ms/step - loss: 0.5684 - val_loss: 0.5686\n",
            "Epoch 221/500\n",
            "1/1 [==============================] - 0s 46ms/step - loss: 0.5686 - val_loss: 0.5682\n",
            "Epoch 222/500\n",
            "1/1 [==============================] - 0s 45ms/step - loss: 0.5682 - val_loss: 0.5682\n",
            "Epoch 223/500\n",
            "1/1 [==============================] - 0s 48ms/step - loss: 0.5682 - val_loss: 0.5680\n",
            "Epoch 224/500\n",
            "1/1 [==============================] - 0s 52ms/step - loss: 0.5680 - val_loss: 0.5678\n",
            "Epoch 225/500\n",
            "1/1 [==============================] - 0s 47ms/step - loss: 0.5678 - val_loss: 0.5679\n",
            "Epoch 226/500\n",
            "1/1 [==============================] - 0s 45ms/step - loss: 0.5679 - val_loss: 0.5677\n",
            "Epoch 227/500\n",
            "1/1 [==============================] - 0s 44ms/step - loss: 0.5677 - val_loss: 0.5672\n",
            "Epoch 228/500\n",
            "1/1 [==============================] - 0s 49ms/step - loss: 0.5672 - val_loss: 0.5678\n",
            "Epoch 229/500\n",
            "1/1 [==============================] - 0s 51ms/step - loss: 0.5678 - val_loss: 0.5681\n",
            "Epoch 230/500\n",
            "1/1 [==============================] - 0s 53ms/step - loss: 0.5681 - val_loss: 0.5668\n",
            "Epoch 231/500\n",
            "1/1 [==============================] - 0s 48ms/step - loss: 0.5668 - val_loss: 0.5684\n",
            "Epoch 232/500\n",
            "1/1 [==============================] - 0s 54ms/step - loss: 0.5684 - val_loss: 0.5683\n",
            "Epoch 233/500\n",
            "1/1 [==============================] - 0s 50ms/step - loss: 0.5683 - val_loss: 0.5674\n",
            "Epoch 234/500\n",
            "1/1 [==============================] - 0s 45ms/step - loss: 0.5674 - val_loss: 0.5677\n",
            "Epoch 235/500\n",
            "1/1 [==============================] - 0s 45ms/step - loss: 0.5677 - val_loss: 0.5663\n",
            "Epoch 236/500\n",
            "1/1 [==============================] - 0s 50ms/step - loss: 0.5663 - val_loss: 0.5667\n",
            "Epoch 237/500\n",
            "1/1 [==============================] - 0s 46ms/step - loss: 0.5667 - val_loss: 0.5660\n",
            "Epoch 238/500\n",
            "1/1 [==============================] - 0s 49ms/step - loss: 0.5660 - val_loss: 0.5663\n",
            "Epoch 239/500\n",
            "1/1 [==============================] - 0s 44ms/step - loss: 0.5663 - val_loss: 0.5655\n",
            "Epoch 240/500\n",
            "1/1 [==============================] - 0s 51ms/step - loss: 0.5655 - val_loss: 0.5658\n",
            "Epoch 241/500\n",
            "1/1 [==============================] - 0s 48ms/step - loss: 0.5658 - val_loss: 0.5651\n",
            "Epoch 242/500\n",
            "1/1 [==============================] - 0s 51ms/step - loss: 0.5651 - val_loss: 0.5654\n",
            "Epoch 243/500\n",
            "1/1 [==============================] - 0s 49ms/step - loss: 0.5654 - val_loss: 0.5647\n",
            "Epoch 244/500\n",
            "1/1 [==============================] - 0s 48ms/step - loss: 0.5647 - val_loss: 0.5649\n",
            "Epoch 245/500\n",
            "1/1 [==============================] - 0s 44ms/step - loss: 0.5649 - val_loss: 0.5644\n",
            "Epoch 246/500\n",
            "1/1 [==============================] - 0s 46ms/step - loss: 0.5644 - val_loss: 0.5640\n",
            "Epoch 247/500\n",
            "1/1 [==============================] - 0s 53ms/step - loss: 0.5640 - val_loss: 0.5640\n",
            "Epoch 248/500\n",
            "1/1 [==============================] - 0s 53ms/step - loss: 0.5640 - val_loss: 0.5635\n",
            "Epoch 249/500\n",
            "1/1 [==============================] - 0s 57ms/step - loss: 0.5635 - val_loss: 0.5637\n",
            "Epoch 250/500\n",
            "1/1 [==============================] - 0s 45ms/step - loss: 0.5637 - val_loss: 0.5647\n",
            "Epoch 251/500\n",
            "1/1 [==============================] - 0s 53ms/step - loss: 0.5647 - val_loss: 0.5632\n",
            "Epoch 252/500\n",
            "1/1 [==============================] - 0s 50ms/step - loss: 0.5632 - val_loss: 0.5647\n",
            "Epoch 253/500\n",
            "1/1 [==============================] - 0s 45ms/step - loss: 0.5647 - val_loss: 0.5634\n",
            "Epoch 254/500\n",
            "1/1 [==============================] - 0s 50ms/step - loss: 0.5634 - val_loss: 0.5633\n",
            "Epoch 255/500\n",
            "1/1 [==============================] - 0s 49ms/step - loss: 0.5633 - val_loss: 0.5642\n",
            "Epoch 256/500\n",
            "1/1 [==============================] - 0s 50ms/step - loss: 0.5642 - val_loss: 0.5639\n",
            "Epoch 257/500\n",
            "1/1 [==============================] - 0s 50ms/step - loss: 0.5639 - val_loss: 0.5637\n",
            "Epoch 258/500\n",
            "1/1 [==============================] - 0s 44ms/step - loss: 0.5637 - val_loss: 0.5642\n",
            "Epoch 259/500\n",
            "1/1 [==============================] - 0s 46ms/step - loss: 0.5642 - val_loss: 0.5626\n",
            "Epoch 260/500\n",
            "1/1 [==============================] - 0s 49ms/step - loss: 0.5626 - val_loss: 0.5634\n",
            "Epoch 261/500\n",
            "1/1 [==============================] - 0s 51ms/step - loss: 0.5634 - val_loss: 0.5623\n",
            "Epoch 262/500\n",
            "1/1 [==============================] - 0s 49ms/step - loss: 0.5623 - val_loss: 0.5627\n",
            "Epoch 263/500\n",
            "1/1 [==============================] - 0s 50ms/step - loss: 0.5627 - val_loss: 0.5629\n",
            "Epoch 264/500\n",
            "1/1 [==============================] - 0s 45ms/step - loss: 0.5629 - val_loss: 0.5620\n",
            "Epoch 265/500\n",
            "1/1 [==============================] - 0s 50ms/step - loss: 0.5620 - val_loss: 0.5636\n",
            "Epoch 266/500\n",
            "1/1 [==============================] - 0s 49ms/step - loss: 0.5636 - val_loss: 0.5642\n",
            "Epoch 267/500\n",
            "1/1 [==============================] - 0s 47ms/step - loss: 0.5642 - val_loss: 0.5648\n",
            "Epoch 268/500\n",
            "1/1 [==============================] - 0s 50ms/step - loss: 0.5648 - val_loss: 0.5626\n",
            "Epoch 269/500\n",
            "1/1 [==============================] - 0s 47ms/step - loss: 0.5626 - val_loss: 0.5650\n",
            "Epoch 270/500\n",
            "1/1 [==============================] - 0s 52ms/step - loss: 0.5650 - val_loss: 0.5623\n",
            "Epoch 271/500\n",
            "1/1 [==============================] - 0s 54ms/step - loss: 0.5623 - val_loss: 0.5627\n",
            "Epoch 272/500\n",
            "1/1 [==============================] - 0s 46ms/step - loss: 0.5627 - val_loss: 0.5633\n",
            "Epoch 273/500\n",
            "1/1 [==============================] - 0s 47ms/step - loss: 0.5633 - val_loss: 0.5616\n",
            "Epoch 274/500\n",
            "1/1 [==============================] - 0s 45ms/step - loss: 0.5616 - val_loss: 0.5632\n",
            "Epoch 275/500\n",
            "1/1 [==============================] - 0s 49ms/step - loss: 0.5632 - val_loss: 0.5610\n",
            "Epoch 276/500\n",
            "1/1 [==============================] - 0s 48ms/step - loss: 0.5610 - val_loss: 0.5615\n",
            "Epoch 277/500\n",
            "1/1 [==============================] - 0s 49ms/step - loss: 0.5615 - val_loss: 0.5612\n",
            "Epoch 278/500\n",
            "1/1 [==============================] - 0s 46ms/step - loss: 0.5612 - val_loss: 0.5613\n",
            "Epoch 279/500\n",
            "1/1 [==============================] - 0s 47ms/step - loss: 0.5613 - val_loss: 0.5609\n",
            "Epoch 280/500\n",
            "1/1 [==============================] - 0s 49ms/step - loss: 0.5609 - val_loss: 0.5610\n",
            "Epoch 281/500\n",
            "1/1 [==============================] - 0s 49ms/step - loss: 0.5610 - val_loss: 0.5608\n",
            "Epoch 282/500\n",
            "1/1 [==============================] - 0s 49ms/step - loss: 0.5608 - val_loss: 0.5609\n",
            "Epoch 283/500\n",
            "1/1 [==============================] - 0s 45ms/step - loss: 0.5609 - val_loss: 0.5605\n",
            "Epoch 284/500\n",
            "1/1 [==============================] - 0s 52ms/step - loss: 0.5605 - val_loss: 0.5608\n",
            "Epoch 285/500\n",
            "1/1 [==============================] - 0s 47ms/step - loss: 0.5608 - val_loss: 0.5604\n",
            "Epoch 286/500\n",
            "1/1 [==============================] - 0s 55ms/step - loss: 0.5604 - val_loss: 0.5608\n",
            "Epoch 287/500\n",
            "1/1 [==============================] - 0s 49ms/step - loss: 0.5608 - val_loss: 0.5606\n",
            "Epoch 288/500\n",
            "1/1 [==============================] - 0s 50ms/step - loss: 0.5606 - val_loss: 0.5605\n",
            "Epoch 289/500\n",
            "1/1 [==============================] - 0s 51ms/step - loss: 0.5605 - val_loss: 0.5604\n",
            "Epoch 290/500\n",
            "1/1 [==============================] - 0s 48ms/step - loss: 0.5604 - val_loss: 0.5604\n",
            "Epoch 291/500\n",
            "1/1 [==============================] - 0s 54ms/step - loss: 0.5604 - val_loss: 0.5604\n",
            "Epoch 292/500\n",
            "1/1 [==============================] - 0s 44ms/step - loss: 0.5604 - val_loss: 0.5604\n",
            "Epoch 293/500\n",
            "1/1 [==============================] - 0s 52ms/step - loss: 0.5604 - val_loss: 0.5602\n",
            "Epoch 294/500\n",
            "1/1 [==============================] - 0s 44ms/step - loss: 0.5602 - val_loss: 0.5602\n",
            "Epoch 295/500\n",
            "1/1 [==============================] - 0s 45ms/step - loss: 0.5602 - val_loss: 0.5602\n",
            "Epoch 296/500\n",
            "1/1 [==============================] - 0s 52ms/step - loss: 0.5602 - val_loss: 0.5602\n",
            "Epoch 297/500\n",
            "1/1 [==============================] - 0s 50ms/step - loss: 0.5602 - val_loss: 0.5601\n",
            "Epoch 298/500\n",
            "1/1 [==============================] - 0s 53ms/step - loss: 0.5601 - val_loss: 0.5601\n",
            "Epoch 299/500\n",
            "1/1 [==============================] - 0s 49ms/step - loss: 0.5601 - val_loss: 0.5600\n",
            "Epoch 300/500\n",
            "1/1 [==============================] - 0s 54ms/step - loss: 0.5600 - val_loss: 0.5601\n",
            "Epoch 301/500\n",
            "1/1 [==============================] - 0s 52ms/step - loss: 0.5601 - val_loss: 0.5600\n",
            "Epoch 302/500\n",
            "1/1 [==============================] - 0s 49ms/step - loss: 0.5600 - val_loss: 0.5600\n",
            "Epoch 303/500\n",
            "1/1 [==============================] - 0s 53ms/step - loss: 0.5600 - val_loss: 0.5600\n",
            "Epoch 304/500\n",
            "1/1 [==============================] - 0s 53ms/step - loss: 0.5600 - val_loss: 0.5600\n",
            "Epoch 305/500\n",
            "1/1 [==============================] - 0s 53ms/step - loss: 0.5600 - val_loss: 0.5599\n",
            "Epoch 306/500\n",
            "1/1 [==============================] - 0s 48ms/step - loss: 0.5599 - val_loss: 0.5599\n",
            "Epoch 307/500\n",
            "1/1 [==============================] - 0s 49ms/step - loss: 0.5599 - val_loss: 0.5599\n",
            "Epoch 308/500\n",
            "1/1 [==============================] - 0s 49ms/step - loss: 0.5599 - val_loss: 0.5599\n",
            "Epoch 309/500\n",
            "1/1 [==============================] - 0s 56ms/step - loss: 0.5599 - val_loss: 0.5599\n",
            "Epoch 310/500\n",
            "1/1 [==============================] - 0s 47ms/step - loss: 0.5599 - val_loss: 0.5598\n",
            "Epoch 311/500\n",
            "1/1 [==============================] - 0s 47ms/step - loss: 0.5598 - val_loss: 0.5599\n",
            "Epoch 312/500\n",
            "1/1 [==============================] - 0s 54ms/step - loss: 0.5599 - val_loss: 0.5598\n",
            "Epoch 313/500\n",
            "1/1 [==============================] - 0s 49ms/step - loss: 0.5598 - val_loss: 0.5598\n",
            "Epoch 314/500\n",
            "1/1 [==============================] - 0s 54ms/step - loss: 0.5598 - val_loss: 0.5598\n",
            "Epoch 315/500\n",
            "1/1 [==============================] - 0s 45ms/step - loss: 0.5598 - val_loss: 0.5598\n",
            "Epoch 316/500\n",
            "1/1 [==============================] - 0s 49ms/step - loss: 0.5598 - val_loss: 0.5598\n",
            "Epoch 317/500\n",
            "1/1 [==============================] - 0s 45ms/step - loss: 0.5598 - val_loss: 0.5598\n",
            "Epoch 318/500\n",
            "1/1 [==============================] - 0s 44ms/step - loss: 0.5598 - val_loss: 0.5598\n",
            "Epoch 319/500\n",
            "1/1 [==============================] - 0s 43ms/step - loss: 0.5598 - val_loss: 0.5597\n",
            "Epoch 320/500\n",
            "1/1 [==============================] - 0s 57ms/step - loss: 0.5597 - val_loss: 0.5598\n",
            "Epoch 321/500\n",
            "1/1 [==============================] - 0s 48ms/step - loss: 0.5598 - val_loss: 0.5597\n",
            "Epoch 322/500\n",
            "1/1 [==============================] - 0s 45ms/step - loss: 0.5597 - val_loss: 0.5597\n",
            "Epoch 323/500\n",
            "1/1 [==============================] - 0s 54ms/step - loss: 0.5597 - val_loss: 0.5597\n",
            "Epoch 324/500\n",
            "1/1 [==============================] - 0s 50ms/step - loss: 0.5597 - val_loss: 0.5597\n",
            "Epoch 325/500\n",
            "1/1 [==============================] - 0s 48ms/step - loss: 0.5597 - val_loss: 0.5597\n",
            "Epoch 326/500\n",
            "1/1 [==============================] - 0s 54ms/step - loss: 0.5597 - val_loss: 0.5597\n",
            "Epoch 327/500\n",
            "1/1 [==============================] - 0s 52ms/step - loss: 0.5597 - val_loss: 0.5597\n",
            "Epoch 328/500\n",
            "1/1 [==============================] - 0s 53ms/step - loss: 0.5597 - val_loss: 0.5597\n",
            "Epoch 329/500\n",
            "1/1 [==============================] - 0s 48ms/step - loss: 0.5597 - val_loss: 0.5597\n",
            "Epoch 330/500\n",
            "1/1 [==============================] - 0s 53ms/step - loss: 0.5597 - val_loss: 0.5597\n",
            "Epoch 331/500\n",
            "1/1 [==============================] - 0s 49ms/step - loss: 0.5597 - val_loss: 0.5597\n",
            "Epoch 332/500\n",
            "1/1 [==============================] - 0s 51ms/step - loss: 0.5597 - val_loss: 0.5596\n",
            "Epoch 333/500\n",
            "1/1 [==============================] - 0s 49ms/step - loss: 0.5596 - val_loss: 0.5596\n",
            "Epoch 334/500\n",
            "1/1 [==============================] - 0s 50ms/step - loss: 0.5596 - val_loss: 0.5596\n",
            "Epoch 335/500\n",
            "1/1 [==============================] - 0s 46ms/step - loss: 0.5596 - val_loss: 0.5596\n",
            "Epoch 336/500\n",
            "1/1 [==============================] - 0s 48ms/step - loss: 0.5596 - val_loss: 0.5596\n",
            "Epoch 337/500\n",
            "1/1 [==============================] - 0s 52ms/step - loss: 0.5596 - val_loss: 0.5596\n",
            "Epoch 338/500\n",
            "1/1 [==============================] - 0s 50ms/step - loss: 0.5596 - val_loss: 0.5596\n",
            "Epoch 339/500\n",
            "1/1 [==============================] - 0s 48ms/step - loss: 0.5596 - val_loss: 0.5596\n",
            "Epoch 340/500\n",
            "1/1 [==============================] - 0s 50ms/step - loss: 0.5596 - val_loss: 0.5596\n",
            "Epoch 341/500\n",
            "1/1 [==============================] - 0s 47ms/step - loss: 0.5596 - val_loss: 0.5596\n",
            "Epoch 342/500\n",
            "1/1 [==============================] - 0s 48ms/step - loss: 0.5596 - val_loss: 0.5596\n",
            "Epoch 343/500\n",
            "1/1 [==============================] - 0s 44ms/step - loss: 0.5596 - val_loss: 0.5596\n",
            "Epoch 344/500\n",
            "1/1 [==============================] - 0s 44ms/step - loss: 0.5596 - val_loss: 0.5596\n",
            "Epoch 345/500\n",
            "1/1 [==============================] - 0s 51ms/step - loss: 0.5596 - val_loss: 0.5595\n",
            "Epoch 346/500\n",
            "1/1 [==============================] - 0s 46ms/step - loss: 0.5595 - val_loss: 0.5595\n",
            "Epoch 347/500\n",
            "1/1 [==============================] - 0s 53ms/step - loss: 0.5595 - val_loss: 0.5595\n",
            "Epoch 348/500\n",
            "1/1 [==============================] - 0s 45ms/step - loss: 0.5595 - val_loss: 0.5595\n",
            "Epoch 349/500\n",
            "1/1 [==============================] - 0s 45ms/step - loss: 0.5595 - val_loss: 0.5595\n",
            "Epoch 350/500\n",
            "1/1 [==============================] - 0s 47ms/step - loss: 0.5595 - val_loss: 0.5595\n",
            "Epoch 351/500\n",
            "1/1 [==============================] - 0s 47ms/step - loss: 0.5595 - val_loss: 0.5595\n",
            "Epoch 352/500\n",
            "1/1 [==============================] - 0s 53ms/step - loss: 0.5595 - val_loss: 0.5595\n",
            "Epoch 353/500\n",
            "1/1 [==============================] - 0s 51ms/step - loss: 0.5595 - val_loss: 0.5595\n",
            "Epoch 354/500\n",
            "1/1 [==============================] - 0s 49ms/step - loss: 0.5595 - val_loss: 0.5595\n",
            "Epoch 355/500\n",
            "1/1 [==============================] - 0s 46ms/step - loss: 0.5595 - val_loss: 0.5595\n",
            "Epoch 356/500\n",
            "1/1 [==============================] - 0s 53ms/step - loss: 0.5595 - val_loss: 0.5595\n",
            "Epoch 357/500\n",
            "1/1 [==============================] - 0s 48ms/step - loss: 0.5595 - val_loss: 0.5595\n",
            "Epoch 358/500\n",
            "1/1 [==============================] - 0s 51ms/step - loss: 0.5595 - val_loss: 0.5595\n",
            "Epoch 359/500\n",
            "1/1 [==============================] - 0s 51ms/step - loss: 0.5595 - val_loss: 0.5595\n",
            "Epoch 360/500\n",
            "1/1 [==============================] - 0s 47ms/step - loss: 0.5595 - val_loss: 0.5594\n",
            "Epoch 361/500\n",
            "1/1 [==============================] - 0s 46ms/step - loss: 0.5594 - val_loss: 0.5594\n",
            "Epoch 362/500\n",
            "1/1 [==============================] - 0s 48ms/step - loss: 0.5594 - val_loss: 0.5594\n",
            "Epoch 363/500\n",
            "1/1 [==============================] - 0s 56ms/step - loss: 0.5594 - val_loss: 0.5594\n",
            "Epoch 364/500\n",
            "1/1 [==============================] - 0s 52ms/step - loss: 0.5594 - val_loss: 0.5594\n",
            "Epoch 365/500\n",
            "1/1 [==============================] - 0s 50ms/step - loss: 0.5594 - val_loss: 0.5594\n",
            "Epoch 366/500\n",
            "1/1 [==============================] - 0s 52ms/step - loss: 0.5594 - val_loss: 0.5594\n",
            "Epoch 367/500\n",
            "1/1 [==============================] - 0s 46ms/step - loss: 0.5594 - val_loss: 0.5594\n",
            "Epoch 368/500\n",
            "1/1 [==============================] - 0s 48ms/step - loss: 0.5594 - val_loss: 0.5594\n",
            "Epoch 369/500\n",
            "1/1 [==============================] - 0s 52ms/step - loss: 0.5594 - val_loss: 0.5593\n",
            "Epoch 370/500\n",
            "1/1 [==============================] - 0s 48ms/step - loss: 0.5593 - val_loss: 0.5594\n",
            "Epoch 371/500\n",
            "1/1 [==============================] - 0s 50ms/step - loss: 0.5594 - val_loss: 0.5594\n",
            "Epoch 372/500\n",
            "1/1 [==============================] - 0s 45ms/step - loss: 0.5594 - val_loss: 0.5593\n",
            "Epoch 373/500\n",
            "1/1 [==============================] - 0s 44ms/step - loss: 0.5593 - val_loss: 0.5594\n",
            "Epoch 374/500\n",
            "1/1 [==============================] - 0s 48ms/step - loss: 0.5594 - val_loss: 0.5593\n",
            "Epoch 375/500\n",
            "1/1 [==============================] - 0s 53ms/step - loss: 0.5593 - val_loss: 0.5593\n",
            "Epoch 376/500\n",
            "1/1 [==============================] - 0s 48ms/step - loss: 0.5593 - val_loss: 0.5593\n",
            "Epoch 377/500\n",
            "1/1 [==============================] - 0s 48ms/step - loss: 0.5593 - val_loss: 0.5594\n",
            "Epoch 378/500\n",
            "1/1 [==============================] - 0s 52ms/step - loss: 0.5594 - val_loss: 0.5593\n",
            "Epoch 379/500\n",
            "1/1 [==============================] - 0s 52ms/step - loss: 0.5593 - val_loss: 0.5593\n",
            "Epoch 380/500\n",
            "1/1 [==============================] - 0s 54ms/step - loss: 0.5593 - val_loss: 0.5593\n",
            "Epoch 381/500\n",
            "1/1 [==============================] - 0s 57ms/step - loss: 0.5593 - val_loss: 0.5592\n",
            "Epoch 382/500\n",
            "1/1 [==============================] - 0s 49ms/step - loss: 0.5592 - val_loss: 0.5593\n",
            "Epoch 383/500\n",
            "1/1 [==============================] - 0s 47ms/step - loss: 0.5593 - val_loss: 0.5593\n",
            "Epoch 384/500\n",
            "1/1 [==============================] - 0s 49ms/step - loss: 0.5593 - val_loss: 0.5592\n",
            "Epoch 385/500\n",
            "1/1 [==============================] - 0s 52ms/step - loss: 0.5592 - val_loss: 0.5593\n",
            "Epoch 386/500\n",
            "1/1 [==============================] - 0s 55ms/step - loss: 0.5593 - val_loss: 0.5593\n",
            "Epoch 387/500\n",
            "1/1 [==============================] - 0s 56ms/step - loss: 0.5593 - val_loss: 0.5592\n",
            "Epoch 388/500\n",
            "1/1 [==============================] - 0s 57ms/step - loss: 0.5592 - val_loss: 0.5592\n",
            "Epoch 389/500\n",
            "1/1 [==============================] - 0s 52ms/step - loss: 0.5592 - val_loss: 0.5592\n",
            "Epoch 390/500\n",
            "1/1 [==============================] - 0s 50ms/step - loss: 0.5592 - val_loss: 0.5591\n",
            "Epoch 391/500\n",
            "1/1 [==============================] - 0s 50ms/step - loss: 0.5591 - val_loss: 0.5592\n",
            "Epoch 392/500\n",
            "1/1 [==============================] - 0s 49ms/step - loss: 0.5592 - val_loss: 0.5591\n",
            "Epoch 393/500\n",
            "1/1 [==============================] - 0s 56ms/step - loss: 0.5591 - val_loss: 0.5591\n",
            "Epoch 394/500\n",
            "1/1 [==============================] - 0s 47ms/step - loss: 0.5591 - val_loss: 0.5591\n",
            "Epoch 395/500\n",
            "1/1 [==============================] - 0s 53ms/step - loss: 0.5591 - val_loss: 0.5591\n",
            "Epoch 396/500\n",
            "1/1 [==============================] - 0s 51ms/step - loss: 0.5591 - val_loss: 0.5590\n",
            "Epoch 397/500\n",
            "1/1 [==============================] - 0s 47ms/step - loss: 0.5590 - val_loss: 0.5591\n",
            "Epoch 398/500\n",
            "1/1 [==============================] - 0s 46ms/step - loss: 0.5591 - val_loss: 0.5591\n",
            "Epoch 399/500\n",
            "1/1 [==============================] - 0s 52ms/step - loss: 0.5591 - val_loss: 0.5590\n",
            "Epoch 400/500\n",
            "1/1 [==============================] - 0s 48ms/step - loss: 0.5590 - val_loss: 0.5591\n",
            "Epoch 401/500\n",
            "1/1 [==============================] - 0s 50ms/step - loss: 0.5591 - val_loss: 0.5591\n",
            "Epoch 402/500\n",
            "1/1 [==============================] - 0s 53ms/step - loss: 0.5591 - val_loss: 0.5590\n",
            "Epoch 403/500\n",
            "1/1 [==============================] - 0s 48ms/step - loss: 0.5590 - val_loss: 0.5590\n",
            "Epoch 404/500\n",
            "1/1 [==============================] - 0s 47ms/step - loss: 0.5590 - val_loss: 0.5590\n",
            "Epoch 405/500\n",
            "1/1 [==============================] - 0s 52ms/step - loss: 0.5590 - val_loss: 0.5589\n",
            "Epoch 406/500\n",
            "1/1 [==============================] - 0s 54ms/step - loss: 0.5589 - val_loss: 0.5590\n",
            "Epoch 407/500\n",
            "1/1 [==============================] - 0s 49ms/step - loss: 0.5590 - val_loss: 0.5591\n",
            "Epoch 408/500\n",
            "1/1 [==============================] - 0s 51ms/step - loss: 0.5591 - val_loss: 0.5589\n",
            "Epoch 409/500\n",
            "1/1 [==============================] - 0s 50ms/step - loss: 0.5589 - val_loss: 0.5589\n",
            "Epoch 410/500\n",
            "1/1 [==============================] - 0s 50ms/step - loss: 0.5589 - val_loss: 0.5590\n",
            "Epoch 411/500\n",
            "1/1 [==============================] - 0s 46ms/step - loss: 0.5590 - val_loss: 0.5588\n",
            "Epoch 412/500\n",
            "1/1 [==============================] - 0s 50ms/step - loss: 0.5588 - val_loss: 0.5589\n",
            "Epoch 413/500\n",
            "1/1 [==============================] - 0s 48ms/step - loss: 0.5589 - val_loss: 0.5590\n",
            "Epoch 414/500\n",
            "1/1 [==============================] - 0s 46ms/step - loss: 0.5590 - val_loss: 0.5588\n",
            "Epoch 415/500\n",
            "1/1 [==============================] - 0s 51ms/step - loss: 0.5588 - val_loss: 0.5588\n",
            "Epoch 416/500\n",
            "1/1 [==============================] - 0s 47ms/step - loss: 0.5588 - val_loss: 0.5589\n",
            "Epoch 417/500\n",
            "1/1 [==============================] - 0s 46ms/step - loss: 0.5589 - val_loss: 0.5587\n",
            "Epoch 418/500\n",
            "1/1 [==============================] - 0s 48ms/step - loss: 0.5587 - val_loss: 0.5588\n",
            "Epoch 419/500\n",
            "1/1 [==============================] - 0s 60ms/step - loss: 0.5588 - val_loss: 0.5589\n",
            "Epoch 420/500\n",
            "1/1 [==============================] - 0s 49ms/step - loss: 0.5589 - val_loss: 0.5587\n",
            "Epoch 421/500\n",
            "1/1 [==============================] - 0s 47ms/step - loss: 0.5587 - val_loss: 0.5587\n",
            "Epoch 422/500\n",
            "1/1 [==============================] - 0s 48ms/step - loss: 0.5587 - val_loss: 0.5589\n",
            "Epoch 423/500\n",
            "1/1 [==============================] - 0s 49ms/step - loss: 0.5589 - val_loss: 0.5586\n",
            "Epoch 424/500\n",
            "1/1 [==============================] - 0s 45ms/step - loss: 0.5586 - val_loss: 0.5587\n",
            "Epoch 425/500\n",
            "1/1 [==============================] - 0s 50ms/step - loss: 0.5587 - val_loss: 0.5589\n",
            "Epoch 426/500\n",
            "1/1 [==============================] - 0s 49ms/step - loss: 0.5589 - val_loss: 0.5586\n",
            "Epoch 427/500\n",
            "1/1 [==============================] - 0s 47ms/step - loss: 0.5586 - val_loss: 0.5586\n",
            "Epoch 428/500\n",
            "1/1 [==============================] - 0s 50ms/step - loss: 0.5586 - val_loss: 0.5588\n",
            "Epoch 429/500\n",
            "1/1 [==============================] - 0s 52ms/step - loss: 0.5588 - val_loss: 0.5585\n",
            "Epoch 430/500\n",
            "1/1 [==============================] - 0s 48ms/step - loss: 0.5585 - val_loss: 0.5586\n",
            "Epoch 431/500\n",
            "1/1 [==============================] - 0s 52ms/step - loss: 0.5586 - val_loss: 0.5589\n",
            "Epoch 432/500\n",
            "1/1 [==============================] - 0s 49ms/step - loss: 0.5589 - val_loss: 0.5585\n",
            "Epoch 433/500\n",
            "1/1 [==============================] - 0s 47ms/step - loss: 0.5585 - val_loss: 0.5585\n",
            "Epoch 434/500\n",
            "1/1 [==============================] - 0s 46ms/step - loss: 0.5585 - val_loss: 0.5590\n",
            "Epoch 435/500\n",
            "1/1 [==============================] - 0s 52ms/step - loss: 0.5590 - val_loss: 0.5584\n",
            "Epoch 436/500\n",
            "1/1 [==============================] - 0s 45ms/step - loss: 0.5584 - val_loss: 0.5587\n",
            "Epoch 437/500\n",
            "1/1 [==============================] - 0s 53ms/step - loss: 0.5587 - val_loss: 0.5589\n",
            "Epoch 438/500\n",
            "1/1 [==============================] - 0s 52ms/step - loss: 0.5589 - val_loss: 0.5582\n",
            "Epoch 439/500\n",
            "1/1 [==============================] - 0s 48ms/step - loss: 0.5582 - val_loss: 0.5590\n",
            "Epoch 440/500\n",
            "1/1 [==============================] - 0s 51ms/step - loss: 0.5590 - val_loss: 0.5595\n",
            "Epoch 441/500\n",
            "1/1 [==============================] - 0s 52ms/step - loss: 0.5595 - val_loss: 0.5582\n",
            "Epoch 442/500\n",
            "1/1 [==============================] - 0s 49ms/step - loss: 0.5582 - val_loss: 0.5595\n",
            "Epoch 443/500\n",
            "1/1 [==============================] - 0s 55ms/step - loss: 0.5595 - val_loss: 0.5589\n",
            "Epoch 444/500\n",
            "1/1 [==============================] - 0s 51ms/step - loss: 0.5589 - val_loss: 0.5587\n",
            "Epoch 445/500\n",
            "1/1 [==============================] - 0s 46ms/step - loss: 0.5587 - val_loss: 0.5593\n",
            "Epoch 446/500\n",
            "1/1 [==============================] - 0s 49ms/step - loss: 0.5593 - val_loss: 0.5580\n",
            "Epoch 447/500\n",
            "1/1 [==============================] - 0s 53ms/step - loss: 0.5580 - val_loss: 0.5588\n",
            "Epoch 448/500\n",
            "1/1 [==============================] - 0s 50ms/step - loss: 0.5588 - val_loss: 0.5577\n",
            "Epoch 449/500\n",
            "1/1 [==============================] - 0s 48ms/step - loss: 0.5577 - val_loss: 0.5586\n",
            "Epoch 450/500\n",
            "1/1 [==============================] - 0s 45ms/step - loss: 0.5586 - val_loss: 0.5579\n",
            "Epoch 451/500\n",
            "1/1 [==============================] - 0s 52ms/step - loss: 0.5579 - val_loss: 0.5579\n",
            "Epoch 452/500\n",
            "1/1 [==============================] - 0s 55ms/step - loss: 0.5579 - val_loss: 0.5578\n",
            "Epoch 453/500\n",
            "1/1 [==============================] - 0s 48ms/step - loss: 0.5578 - val_loss: 0.5573\n",
            "Epoch 454/500\n",
            "1/1 [==============================] - 0s 49ms/step - loss: 0.5573 - val_loss: 0.5575\n",
            "Epoch 455/500\n",
            "1/1 [==============================] - 0s 55ms/step - loss: 0.5575 - val_loss: 0.5572\n",
            "Epoch 456/500\n",
            "1/1 [==============================] - 0s 51ms/step - loss: 0.5572 - val_loss: 0.5571\n",
            "Epoch 457/500\n",
            "1/1 [==============================] - 0s 52ms/step - loss: 0.5571 - val_loss: 0.5571\n",
            "Epoch 458/500\n",
            "1/1 [==============================] - 0s 52ms/step - loss: 0.5571 - val_loss: 0.5569\n",
            "Epoch 459/500\n",
            "1/1 [==============================] - 0s 48ms/step - loss: 0.5569 - val_loss: 0.5571\n",
            "Epoch 460/500\n",
            "1/1 [==============================] - 0s 54ms/step - loss: 0.5571 - val_loss: 0.5576\n",
            "Epoch 461/500\n",
            "1/1 [==============================] - 0s 48ms/step - loss: 0.5576 - val_loss: 0.5565\n",
            "Epoch 462/500\n",
            "1/1 [==============================] - 0s 51ms/step - loss: 0.5565 - val_loss: 0.5577\n",
            "Epoch 463/500\n",
            "1/1 [==============================] - 0s 52ms/step - loss: 0.5577 - val_loss: 0.5590\n",
            "Epoch 464/500\n",
            "1/1 [==============================] - 0s 49ms/step - loss: 0.5590 - val_loss: 0.5566\n",
            "Epoch 465/500\n",
            "1/1 [==============================] - 0s 53ms/step - loss: 0.5566 - val_loss: 0.5597\n",
            "Epoch 466/500\n",
            "1/1 [==============================] - 0s 48ms/step - loss: 0.5597 - val_loss: 0.5578\n",
            "Epoch 467/500\n",
            "1/1 [==============================] - 0s 46ms/step - loss: 0.5578 - val_loss: 0.5583\n",
            "Epoch 468/500\n",
            "1/1 [==============================] - 0s 49ms/step - loss: 0.5583 - val_loss: 0.5576\n",
            "Epoch 469/500\n",
            "1/1 [==============================] - 0s 55ms/step - loss: 0.5576 - val_loss: 0.5573\n",
            "Epoch 470/500\n",
            "1/1 [==============================] - 0s 48ms/step - loss: 0.5573 - val_loss: 0.5575\n",
            "Epoch 471/500\n",
            "1/1 [==============================] - 0s 53ms/step - loss: 0.5575 - val_loss: 0.5574\n",
            "Epoch 472/500\n",
            "1/1 [==============================] - 0s 49ms/step - loss: 0.5574 - val_loss: 0.5569\n",
            "Epoch 473/500\n",
            "1/1 [==============================] - 0s 54ms/step - loss: 0.5569 - val_loss: 0.5569\n",
            "Epoch 474/500\n",
            "1/1 [==============================] - 0s 62ms/step - loss: 0.5569 - val_loss: 0.5567\n",
            "Epoch 475/500\n",
            "1/1 [==============================] - 0s 52ms/step - loss: 0.5567 - val_loss: 0.5566\n",
            "Epoch 476/500\n",
            "1/1 [==============================] - 0s 53ms/step - loss: 0.5566 - val_loss: 0.5563\n",
            "Epoch 477/500\n",
            "1/1 [==============================] - 0s 51ms/step - loss: 0.5563 - val_loss: 0.5560\n",
            "Epoch 478/500\n",
            "1/1 [==============================] - 0s 53ms/step - loss: 0.5560 - val_loss: 0.5563\n",
            "Epoch 479/500\n",
            "1/1 [==============================] - 0s 49ms/step - loss: 0.5563 - val_loss: 0.5556\n",
            "Epoch 480/500\n",
            "1/1 [==============================] - 0s 45ms/step - loss: 0.5556 - val_loss: 0.5565\n",
            "Epoch 481/500\n",
            "1/1 [==============================] - 0s 48ms/step - loss: 0.5565 - val_loss: 0.5556\n",
            "Epoch 482/500\n",
            "1/1 [==============================] - 0s 55ms/step - loss: 0.5556 - val_loss: 0.5558\n",
            "Epoch 483/500\n",
            "1/1 [==============================] - 0s 48ms/step - loss: 0.5558 - val_loss: 0.5555\n",
            "Epoch 484/500\n",
            "1/1 [==============================] - 0s 51ms/step - loss: 0.5555 - val_loss: 0.5551\n",
            "Epoch 485/500\n",
            "1/1 [==============================] - 0s 53ms/step - loss: 0.5551 - val_loss: 0.5552\n",
            "Epoch 486/500\n",
            "1/1 [==============================] - 0s 49ms/step - loss: 0.5552 - val_loss: 0.5550\n",
            "Epoch 487/500\n",
            "1/1 [==============================] - 0s 52ms/step - loss: 0.5550 - val_loss: 0.5549\n",
            "Epoch 488/500\n",
            "1/1 [==============================] - 0s 47ms/step - loss: 0.5549 - val_loss: 0.5550\n",
            "Epoch 489/500\n",
            "1/1 [==============================] - 0s 48ms/step - loss: 0.5550 - val_loss: 0.5547\n",
            "Epoch 490/500\n",
            "1/1 [==============================] - 0s 54ms/step - loss: 0.5547 - val_loss: 0.5548\n",
            "Epoch 491/500\n",
            "1/1 [==============================] - 0s 50ms/step - loss: 0.5548 - val_loss: 0.5547\n",
            "Epoch 492/500\n",
            "1/1 [==============================] - 0s 49ms/step - loss: 0.5547 - val_loss: 0.5544\n",
            "Epoch 493/500\n",
            "1/1 [==============================] - 0s 44ms/step - loss: 0.5544 - val_loss: 0.5546\n",
            "Epoch 494/500\n",
            "1/1 [==============================] - 0s 49ms/step - loss: 0.5546 - val_loss: 0.5548\n",
            "Epoch 495/500\n",
            "1/1 [==============================] - 0s 49ms/step - loss: 0.5548 - val_loss: 0.5542\n",
            "Epoch 496/500\n",
            "1/1 [==============================] - 0s 55ms/step - loss: 0.5542 - val_loss: 0.5548\n",
            "Epoch 497/500\n",
            "1/1 [==============================] - 0s 50ms/step - loss: 0.5548 - val_loss: 0.5553\n",
            "Epoch 498/500\n",
            "1/1 [==============================] - 0s 56ms/step - loss: 0.5553 - val_loss: 0.5544\n",
            "Epoch 499/500\n",
            "1/1 [==============================] - 0s 51ms/step - loss: 0.5544 - val_loss: 0.5554\n",
            "Epoch 500/500\n",
            "1/1 [==============================] - 0s 47ms/step - loss: 0.5554 - val_loss: 0.5543\n"
          ]
        },
        {
          "output_type": "execute_result",
          "data": {
            "text/plain": [
              "<keras.src.callbacks.History at 0x7c6dd17d56c0>"
            ]
          },
          "metadata": {},
          "execution_count": 512
        }
      ]
    },
    {
      "cell_type": "code",
      "source": [
        "# Encode and decode some digits\n",
        "# Note that we take them from the *test* set\n",
        "# This model maps an input to its encoded representation\n",
        "encoder = keras.Model(input_img, encoded)\n",
        "encoded_imgs = encoder.predict(x_concept)"
      ],
      "metadata": {
        "colab": {
          "base_uri": "https://localhost:8080/"
        },
        "id": "nHSQcUgvV6r1",
        "outputId": "d2409b64-1d2b-4190-f6f5-7e63d5af3d8f"
      },
      "execution_count": null,
      "outputs": [
        {
          "output_type": "stream",
          "name": "stderr",
          "text": [
            "WARNING:tensorflow:6 out of the last 11 calls to <function Model.make_predict_function.<locals>.predict_function at 0x7c6d9f69dd80> triggered tf.function retracing. Tracing is expensive and the excessive number of tracings could be due to (1) creating @tf.function repeatedly in a loop, (2) passing tensors with different shapes, (3) passing Python objects instead of tensors. For (1), please define your @tf.function outside of the loop. For (2), @tf.function has reduce_retracing=True option that can avoid unnecessary retracing. For (3), please refer to https://www.tensorflow.org/guide/function#controlling_retracing and https://www.tensorflow.org/api_docs/python/tf/function for  more details.\n"
          ]
        },
        {
          "output_type": "stream",
          "name": "stdout",
          "text": [
            "3/3 [==============================] - 0s 4ms/step\n"
          ]
        }
      ]
    },
    {
      "cell_type": "code",
      "source": [
        "plt.figure(figsize=(6, 6))\n",
        "plt.scatter(encoded_imgs[:, 0], encoded_imgs[:, 1], c=y_concept)\n",
        "plt.colorbar()\n",
        "plt.show()"
      ],
      "metadata": {
        "colab": {
          "base_uri": "https://localhost:8080/",
          "height": 528
        },
        "id": "Lp35DPseU7E1",
        "outputId": "8e56d7fd-ecac-4703-8781-99121ca1ef99"
      },
      "execution_count": null,
      "outputs": [
        {
          "output_type": "display_data",
          "data": {
            "text/plain": [
              "<Figure size 600x600 with 2 Axes>"
            ],
            "image/png": "[encoded data removed]"
          },
          "metadata": {}
        }
      ]
    },
    {
      "cell_type": "code",
      "source": [
        "encoded_imgs"
      ],
      "metadata": {
        "id": "Vk5gR8WjU7Dt"
      },
      "execution_count": null,
      "outputs": []
    },
    {
      "cell_type": "code",
      "source": [
        "np.where((encoded_imgs[:,0]>-23) & (encoded_imgs[:,0]<-15) & (encoded_imgs[:,1]<5) & (encoded_imgs[:,1]>0) )"
      ],
      "metadata": {
        "id": "ZZLW5y0GYwHV",
        "colab": {
          "base_uri": "https://localhost:8080/"
        },
        "outputId": "08f915df-5ef8-4ec7-b3c3-15d533307c15"
      },
      "execution_count": null,
      "outputs": [
        {
          "output_type": "execute_result",
          "data": {
            "text/plain": [
              "(array([ 5, 18, 19, 28, 40, 44, 46, 51]),)"
            ]
          },
          "metadata": {},
          "execution_count": 51
        }
      ]
    },
    {
      "cell_type": "code",
      "source": [
        "len(np.unique(label))"
      ],
      "metadata": {
        "id": "jRZ6Pq7_pFIH",
        "colab": {
          "base_uri": "https://localhost:8080/"
        },
        "outputId": "a2679e44-e485-4fde-f469-751f71b3a44f"
      },
      "execution_count": null,
      "outputs": [
        {
          "output_type": "execute_result",
          "data": {
            "text/plain": [
              "50"
            ]
          },
          "metadata": {},
          "execution_count": 107
        }
      ]
    },
    {
      "cell_type": "code",
      "source": [
        "transform = transforms.Compose([\n",
        " transforms.Resize(256),\n",
        " transforms.CenterCrop(224),\n",
        " transforms.ToTensor()\n",
        "])\n",
        "\n",
        "transform_normalize = transforms.Normalize(\n",
        "     mean=[0.485, 0.456, 0.406],\n",
        "     std=[0.229, 0.224, 0.225]\n",
        " )\n",
        "\n",
        "img = Image.open('/content/animal_103.jpg')\n",
        "\n",
        "transformed_img = transform(img)\n",
        "\n",
        "input = transform_normalize(transformed_img)\n",
        "input = input.unsqueeze(0)\n",
        "\n",
        "output = model(input)\n",
        "output = F.softmax(output, dim=1)\n",
        "prediction_score, pred_label_idx = torch.topk(output, 1)\n",
        "\n",
        "pred_label_idx.squeeze_()\n",
        "predicted_label = idx_to_labels[str(pred_label_idx.item())][1]\n",
        "print('Predicted:', predicted_label, '(', prediction_score.squeeze().item(), ')')"
      ],
      "metadata": {
        "colab": {
          "base_uri": "https://localhost:8080/"
        },
        "id": "RbH2x89ak3st",
        "outputId": "ce87bc04-ea64-40e9-87b3-2d5e3b525a1e"
      },
      "execution_count": null,
      "outputs": [
        {
          "output_type": "stream",
          "name": "stdout",
          "text": [
            "Predicted: chimpanzee ( 0.9983150959014893 )\n"
          ]
        }
      ]
    },
    {
      "cell_type": "code",
      "source": [],
      "metadata": {
        "id": "FF92x8lak3up"
      },
      "execution_count": null,
      "outputs": []
    },
    {
      "cell_type": "code",
      "source": [],
      "metadata": {
        "id": "fM4R3_cjk3zN"
      },
      "execution_count": null,
      "outputs": []
    },
    {
      "cell_type": "code",
      "source": [],
      "metadata": {
        "id": "mxd0Nuobk31r"
      },
      "execution_count": null,
      "outputs": []
    },
    {
      "cell_type": "code",
      "source": [],
      "metadata": {
        "id": "9s7gJh4zYg_W"
      },
      "execution_count": null,
      "outputs": []
    }
  ],
  "metadata": {
    "kernelspec": {
      "display_name": "Python 3",
      "name": "python3"
    },
    "language_info": {
      "codemirror_mode": {
        "name": "ipython",
        "version": 3
      },
      "file_extension": ".py",
      "mimetype": "text/x-python",
      "name": "python",
      "nbconvert_exporter": "python",
      "pygments_lexer": "ipython3",
      "version": "3.7.6"
    },
    "colab": {
      "provenance": [],
      "machine_shape": "hm",
      "include_colab_link": true
    }
  },
  "nbformat": 4,
  "nbformat_minor": 0
}