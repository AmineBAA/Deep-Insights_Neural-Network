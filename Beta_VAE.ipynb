{
  "nbformat": 4,
  "nbformat_minor": 0,
  "metadata": {
    "colab": {
      "provenance": [],
      "authorship_tag": "ABX9TyPBhb9tJRv7csHUJkJrlvKK",
      "include_colab_link": true
    },
    "kernelspec": {
      "name": "python3",
      "display_name": "Python 3"
    },
    "language_info": {
      "name": "python"
    }
  },
  "cells": [
    {
      "cell_type": "markdown",
      "metadata": {
        "id": "view-in-github",
        "colab_type": "text"
      },
      "source": [
        "<a href=\"https://colab.research.google.com/github/AmineBAA/Deep-Insights_Neural-Network/blob/main/Beta_VAE.ipynb\" target=\"_parent\"><img src=\"https://colab.research.google.com/assets/colab-badge.svg\" alt=\"Open In Colab\"/></a>"
      ]
    },
    {
      "cell_type": "markdown",
      "source": [
        " # β - Variational Autoencoder"
      ],
      "metadata": {
        "id": "oFohLg6E-Axs"
      }
    },
    {
      "cell_type": "code",
      "execution_count": 1,
      "metadata": {
        "id": "5EZJNq129_E3"
      },
      "outputs": [],
      "source": [
        "#IMPORTING\n",
        "import numpy as np\n",
        "import os\n",
        "import matplotlib.pyplot as plt\n",
        "%matplotlib inline\n",
        "from tqdm import tqdm\n",
        "import cv2"
      ]
    },
    {
      "cell_type": "code",
      "source": [
        "import keras\n",
        "from keras.datasets import cifar100, cifar10\n",
        "from keras.preprocessing.image import ImageDataGenerator\n",
        "from keras.models import Sequential\n",
        "from keras.layers import Dense, Dropout, Activation, Flatten\n",
        "from keras.layers import Conv2D, MaxPooling2D"
      ],
      "metadata": {
        "id": "WgGVRqcb-v-C"
      },
      "execution_count": 3,
      "outputs": []
    },
    {
      "cell_type": "code",
      "source": [
        "import keras\n",
        "\n",
        "from keras import Sequential, Model,Input\n",
        "from keras.layers import LeakyReLU\n",
        "from keras.layers import Dense\n",
        "from keras.layers import Conv2D\n",
        "from keras.layers import Conv2DTranspose\n",
        "from keras.layers import MaxPool2D, AvgPool2D\n",
        "from keras.layers import UpSampling2D\n",
        "from keras.layers import Lambda\n",
        "from keras.layers import Activation\n",
        "from keras.layers import BatchNormalization\n",
        "from keras.layers import Flatten\n",
        "from keras.layers import Reshape\n",
        "from keras.layers import Add, Multiply\n",
        "from keras.losses import mse, binary_crossentropy\n",
        "import keras.backend as K"
      ],
      "metadata": {
        "id": "TJh_CCZy_D0b"
      },
      "execution_count": 7,
      "outputs": []
    },
    {
      "cell_type": "code",
      "source": [
        "###################################################################################################"
      ],
      "metadata": {
        "id": "ea-7ducx_4HV"
      },
      "execution_count": null,
      "outputs": []
    },
    {
      "cell_type": "code",
      "source": [
        "import torch\n",
        "import torch.nn as nn\n",
        "import torch.optim as optim\n",
        "from torchvision import datasets, transforms\n",
        "from torch.utils.data import DataLoader\n"
      ],
      "metadata": {
        "id": "YxM5C_s__4EV"
      },
      "execution_count": 92,
      "outputs": []
    },
    {
      "cell_type": "code",
      "source": [
        "# Hyperparameters\n",
        "batch_size = 128\n",
        "latent_dim = 10\n",
        "beta = 4  # Adjust beta according to your preference\n",
        "learning_rate = 1e-3\n",
        "epochs = 50"
      ],
      "metadata": {
        "id": "R60BJLCIZ-Cw"
      },
      "execution_count": 93,
      "outputs": []
    },
    {
      "cell_type": "code",
      "source": [
        "# Data loading and preprocessing\n",
        "transform = transforms.Compose([transforms.ToTensor()])\n",
        "train_loader = DataLoader(datasets.MNIST('./data', train=True, download=True, transform=transform), batch_size=batch_size, shuffle=True)\n"
      ],
      "metadata": {
        "colab": {
          "base_uri": "https://localhost:8080/"
        },
        "id": "ttLsbQEbZ99u",
        "outputId": "5e6e117a-61fe-4b00-d13a-a04d461bba62"
      },
      "execution_count": 94,
      "outputs": [
        {
          "output_type": "stream",
          "name": "stdout",
          "text": [
            "Downloading http://yann.lecun.com/exdb/mnist/train-images-idx3-ubyte.gz\n",
            "Downloading http://yann.lecun.com/exdb/mnist/train-images-idx3-ubyte.gz to ./data/MNIST/raw/train-images-idx3-ubyte.gz\n"
          ]
        },
        {
          "output_type": "stream",
          "name": "stderr",
          "text": [
            "100%|██████████| 9912422/9912422 [00:00<00:00, 74929687.59it/s]\n"
          ]
        },
        {
          "output_type": "stream",
          "name": "stdout",
          "text": [
            "Extracting ./data/MNIST/raw/train-images-idx3-ubyte.gz to ./data/MNIST/raw\n",
            "\n",
            "Downloading http://yann.lecun.com/exdb/mnist/train-labels-idx1-ubyte.gz\n",
            "Downloading http://yann.lecun.com/exdb/mnist/train-labels-idx1-ubyte.gz to ./data/MNIST/raw/train-labels-idx1-ubyte.gz\n"
          ]
        },
        {
          "output_type": "stream",
          "name": "stderr",
          "text": [
            "100%|██████████| 28881/28881 [00:00<00:00, 23944592.57it/s]"
          ]
        },
        {
          "output_type": "stream",
          "name": "stdout",
          "text": [
            "Extracting ./data/MNIST/raw/train-labels-idx1-ubyte.gz to ./data/MNIST/raw\n",
            "\n",
            "Downloading http://yann.lecun.com/exdb/mnist/t10k-images-idx3-ubyte.gz\n",
            "Downloading http://yann.lecun.com/exdb/mnist/t10k-images-idx3-ubyte.gz to ./data/MNIST/raw/t10k-images-idx3-ubyte.gz\n"
          ]
        },
        {
          "output_type": "stream",
          "name": "stderr",
          "text": [
            "\n",
            "100%|██████████| 1648877/1648877 [00:00<00:00, 28301480.97it/s]\n"
          ]
        },
        {
          "output_type": "stream",
          "name": "stdout",
          "text": [
            "Extracting ./data/MNIST/raw/t10k-images-idx3-ubyte.gz to ./data/MNIST/raw\n",
            "\n",
            "Downloading http://yann.lecun.com/exdb/mnist/t10k-labels-idx1-ubyte.gz\n",
            "Downloading http://yann.lecun.com/exdb/mnist/t10k-labels-idx1-ubyte.gz to ./data/MNIST/raw/t10k-labels-idx1-ubyte.gz\n"
          ]
        },
        {
          "output_type": "stream",
          "name": "stderr",
          "text": [
            "100%|██████████| 4542/4542 [00:00<00:00, 13875111.99it/s]\n"
          ]
        },
        {
          "output_type": "stream",
          "name": "stdout",
          "text": [
            "Extracting ./data/MNIST/raw/t10k-labels-idx1-ubyte.gz to ./data/MNIST/raw\n",
            "\n"
          ]
        }
      ]
    },
    {
      "cell_type": "code",
      "source": [
        "\n",
        "\n",
        "# Define the VAE architecture\n",
        "class VAE(nn.Module):\n",
        "    def __init__(self):\n",
        "        super(VAE, self).__init__()\n",
        "\n",
        "        self.encoder = nn.Sequential(\n",
        "            nn.Linear(28 * 28, 256),\n",
        "            nn.ReLU(),\n",
        "            nn.Linear(256, 128),\n",
        "            nn.ReLU(),\n",
        "            nn.Linear(128, latent_dim * 2)  # Two times latent_dim for mean and log-variance\n",
        "        )\n",
        "\n",
        "        self.decoder = nn.Sequential(\n",
        "            nn.Linear(latent_dim, 128),\n",
        "            nn.ReLU(),\n",
        "            nn.Linear(128, 256),\n",
        "            nn.ReLU(),\n",
        "            nn.Linear(256, 28 * 28),\n",
        "            nn.Sigmoid()\n",
        "        )\n",
        "\n",
        "    def reparameterize(self, mu, logvar):\n",
        "        std = torch.exp(0.5*logvar)\n",
        "        eps = torch.randn_like(std)\n",
        "        return mu + eps*std\n",
        "\n",
        "    def forward(self, x):\n",
        "        # Encode\n",
        "        h = self.encoder(x.view(-1, 28 * 28))\n",
        "        mu, logvar = h[:, :latent_dim], h[:, latent_dim:]\n",
        "\n",
        "        # Reparameterize\n",
        "        z = self.reparameterize(mu, logvar)\n",
        "\n",
        "        # Decode\n",
        "        x_recon = self.decoder(z)\n",
        "        return x_recon, mu, logvar\n",
        "\n",
        "def loss_function(recon_x, x, mu, logvar):\n",
        "    # Reconstruction loss (BCE) + KL divergence\n",
        "    BCE = nn.BCELoss(reduction='sum')(recon_x, x.view(-1, 28 * 28))\n",
        "    KLD = -0.5 * torch.sum(1 + logvar - mu.pow(2) - logvar.exp())\n",
        "    return BCE + beta * KLD\n",
        "\n",
        "\n",
        "\n",
        "\n",
        "\n",
        "\n"
      ],
      "metadata": {
        "id": "6HfdQM_XZ97Z"
      },
      "execution_count": 95,
      "outputs": []
    },
    {
      "cell_type": "code",
      "source": [
        "# Initialize the model and optimizer\n",
        "model = VAE()\n",
        "optimizer = optim.Adam(model.parameters(), lr=learning_rate)"
      ],
      "metadata": {
        "id": "gkcHHENWZ93z"
      },
      "execution_count": 96,
      "outputs": []
    },
    {
      "cell_type": "code",
      "source": [
        "# Training loop\n",
        "model.train()\n",
        "for epoch in range(epochs):\n",
        "    total_loss = 0\n",
        "    for batch_idx, (data, _) in enumerate(train_loader):\n",
        "        optimizer.zero_grad()\n",
        "        recon_batch, mu, logvar = model(data)\n",
        "        loss = loss_function(recon_batch, data, mu, logvar)\n",
        "        loss.backward()\n",
        "        total_loss += loss.item()\n",
        "        optimizer.step()\n",
        "    print(f'Epoch {epoch+1}/{epochs}, Loss: {total_loss/len(train_loader.dataset):.4f}')"
      ],
      "metadata": {
        "colab": {
          "base_uri": "https://localhost:8080/"
        },
        "id": "hvQLjExKZ90y",
        "outputId": "9acfb1a2-86af-4600-9036-a27c846a67d8"
      },
      "execution_count": 97,
      "outputs": [
        {
          "output_type": "stream",
          "name": "stdout",
          "text": [
            "Epoch 1/50, Loss: 204.3957\n",
            "Epoch 2/50, Loss: 171.3562\n",
            "Epoch 3/50, Loss: 160.0588\n",
            "Epoch 4/50, Loss: 155.5960\n",
            "Epoch 5/50, Loss: 153.2197\n",
            "Epoch 6/50, Loss: 151.6015\n",
            "Epoch 7/50, Loss: 150.3514\n",
            "Epoch 8/50, Loss: 149.3671\n",
            "Epoch 9/50, Loss: 148.6537\n",
            "Epoch 10/50, Loss: 147.9220\n",
            "Epoch 11/50, Loss: 147.3724\n",
            "Epoch 12/50, Loss: 146.9868\n",
            "Epoch 13/50, Loss: 146.6168\n",
            "Epoch 14/50, Loss: 146.2222\n",
            "Epoch 15/50, Loss: 145.8516\n",
            "Epoch 16/50, Loss: 145.5107\n",
            "Epoch 17/50, Loss: 145.3101\n",
            "Epoch 18/50, Loss: 145.0742\n",
            "Epoch 19/50, Loss: 144.9618\n",
            "Epoch 20/50, Loss: 144.6812\n",
            "Epoch 21/50, Loss: 144.4317\n",
            "Epoch 22/50, Loss: 144.3135\n",
            "Epoch 23/50, Loss: 144.1433\n",
            "Epoch 24/50, Loss: 144.0235\n",
            "Epoch 25/50, Loss: 143.8246\n",
            "Epoch 26/50, Loss: 143.7539\n",
            "Epoch 27/50, Loss: 143.5891\n",
            "Epoch 28/50, Loss: 143.5202\n",
            "Epoch 29/50, Loss: 143.3951\n",
            "Epoch 30/50, Loss: 143.3074\n",
            "Epoch 31/50, Loss: 143.1838\n",
            "Epoch 32/50, Loss: 143.0727\n",
            "Epoch 33/50, Loss: 143.0381\n",
            "Epoch 34/50, Loss: 143.0377\n",
            "Epoch 35/50, Loss: 142.9420\n",
            "Epoch 36/50, Loss: 142.7447\n",
            "Epoch 37/50, Loss: 142.6847\n",
            "Epoch 38/50, Loss: 142.5992\n",
            "Epoch 39/50, Loss: 142.5366\n",
            "Epoch 40/50, Loss: 142.5041\n",
            "Epoch 41/50, Loss: 142.4532\n",
            "Epoch 42/50, Loss: 142.3599\n",
            "Epoch 43/50, Loss: 142.3667\n",
            "Epoch 44/50, Loss: 142.2457\n",
            "Epoch 45/50, Loss: 142.2393\n",
            "Epoch 46/50, Loss: 142.0825\n",
            "Epoch 47/50, Loss: 142.0883\n",
            "Epoch 48/50, Loss: 142.0856\n",
            "Epoch 49/50, Loss: 142.0094\n",
            "Epoch 50/50, Loss: 141.9097\n"
          ]
        }
      ]
    },
    {
      "cell_type": "code",
      "source": [
        "# Save the trained model\n",
        "torch.save(model.state_dict(), 'beta_vae_model.pth')"
      ],
      "metadata": {
        "id": "hHHnhcCyZ9xm"
      },
      "execution_count": 98,
      "outputs": []
    },
    {
      "cell_type": "code",
      "source": [],
      "metadata": {
        "id": "jxZKoo6E-AQ5"
      },
      "execution_count": null,
      "outputs": []
    },
    {
      "cell_type": "code",
      "source": [],
      "metadata": {
        "id": "ULxt_xoh-AV6"
      },
      "execution_count": null,
      "outputs": []
    },
    {
      "cell_type": "code",
      "source": [],
      "metadata": {
        "id": "-4UL4Dsf-AYf"
      },
      "execution_count": null,
      "outputs": []
    },
    {
      "cell_type": "code",
      "source": [],
      "metadata": {
        "id": "VfVqsOAo-Aax"
      },
      "execution_count": null,
      "outputs": []
    }
  ]
}