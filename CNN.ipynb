{
  "nbformat": 4,
  "nbformat_minor": 0,
  "metadata": {
    "colab": {
      "provenance": [],
      "authorship_tag": "ABX9TyPCUtbStAnbubbho04enRi8",
      "include_colab_link": true
    },
    "kernelspec": {
      "name": "python3",
      "display_name": "Python 3"
    },
    "language_info": {
      "name": "python"
    }
  },
  "cells": [
    {
      "cell_type": "markdown",
      "metadata": {
        "id": "view-in-github",
        "colab_type": "text"
      },
      "source": [
        "<a href=\"https://colab.research.google.com/github/AmineBAA/Deep-Insights_Neural-Network/blob/main/CNN.ipynb\" target=\"_parent\"><img src=\"https://colab.research.google.com/assets/colab-badge.svg\" alt=\"Open In Colab\"/></a>"
      ]
    },
    {
      "cell_type": "markdown",
      "source": [
        "# Convolutional Neural Network"
      ],
      "metadata": {
        "id": "a_6gr_m43cKf"
      }
    },
    {
      "cell_type": "code",
      "execution_count": null,
      "metadata": {
        "id": "PddZ8d7l3apw"
      },
      "outputs": [],
      "source": []
    },
    {
      "cell_type": "markdown",
      "source": [
        "## 1. Import Libraries"
      ],
      "metadata": {
        "id": "O-2S5CMm3hzJ"
      }
    },
    {
      "cell_type": "code",
      "source": [
        "import torchvision\n",
        "from torchvision import models\n",
        "from torchvision import transforms\n",
        "import torch.optim as optim\n",
        "import torch\n",
        "import torch.nn as nn\n",
        "from torchvision.datasets import ImageNet\n",
        "from torch.utils.data import DataLoader\n",
        "import torch.nn.functional as F\n"
      ],
      "metadata": {
        "id": "DNpK10LZ3bzH"
      },
      "execution_count": null,
      "outputs": []
    },
    {
      "cell_type": "code",
      "source": [],
      "metadata": {
        "id": "_Zub-xNq3btO"
      },
      "execution_count": null,
      "outputs": []
    },
    {
      "cell_type": "markdown",
      "source": [
        "## 2. Import dataset"
      ],
      "metadata": {
        "id": "Mkf2K5Fp3lLS"
      }
    },
    {
      "cell_type": "code",
      "source": [
        "# Load and preprocess the CIFAR-10 dataset\n",
        "transform = transforms.Compose(\n",
        "    [transforms.ToTensor(),\n",
        "     transforms.Normalize((0.5, 0.5, 0.5), (0.5, 0.5, 0.5))])\n",
        "\n",
        "trainset = torchvision.datasets.CIFAR10(root='./data', train=True,\n",
        "                                        download=True, transform=transform)\n",
        "trainloader = torch.utils.data.DataLoader(trainset, batch_size=4,\n",
        "                                          shuffle=True, num_workers=2)\n",
        "\n",
        "testset = torchvision.datasets.CIFAR10(root='./data', train=False,\n",
        "                                       download=True, transform=transform)\n",
        "testloader = torch.utils.data.DataLoader(testset, batch_size=4,\n",
        "                                         shuffle=False, num_workers=2)\n"
      ],
      "metadata": {
        "colab": {
          "base_uri": "https://localhost:8080/"
        },
        "id": "lByTG3bP3bqG",
        "outputId": "d1f6eb35-b2e2-4a4f-ad29-3a8dc2ce8ea1"
      },
      "execution_count": null,
      "outputs": [
        {
          "output_type": "stream",
          "name": "stdout",
          "text": [
            "Downloading https://www.cs.toronto.edu/~kriz/cifar-10-python.tar.gz to ./data/cifar-10-python.tar.gz\n"
          ]
        },
        {
          "output_type": "stream",
          "name": "stderr",
          "text": [
            "100%|██████████| 170498071/170498071 [00:02<00:00, 68020247.89it/s]\n"
          ]
        },
        {
          "output_type": "stream",
          "name": "stdout",
          "text": [
            "Extracting ./data/cifar-10-python.tar.gz to ./data\n",
            "Files already downloaded and verified\n"
          ]
        }
      ]
    },
    {
      "cell_type": "code",
      "source": [],
      "metadata": {
        "id": "SIIiuhMm3bkD"
      },
      "execution_count": null,
      "outputs": []
    },
    {
      "cell_type": "markdown",
      "source": [
        "## 3. Neural Network Contruction"
      ],
      "metadata": {
        "id": "1XyiJVQ74Oos"
      }
    },
    {
      "cell_type": "code",
      "source": [
        "\n",
        "# Define a CNN model\n",
        "class Net(nn.Module):\n",
        "    def __init__(self):\n",
        "        super(Net, self).__init__()\n",
        "        self.conv1 = nn.Conv2d(3, 6, 5)\n",
        "        self.pool = nn.MaxPool2d(2, 2)\n",
        "        self.conv2 = nn.Conv2d(6, 16, 5)\n",
        "        self.fc1 = nn.Linear(16 * 5 * 5, 120)\n",
        "        self.fc2 = nn.Linear(120, 84)\n",
        "        self.fc3 = nn.Linear(84, 10)\n",
        "\n",
        "    def forward(self, x):\n",
        "        x = self.pool(F.relu(self.conv1(x)))\n",
        "        x = self.pool(F.relu(self.conv2(x)))\n",
        "        x = x.view(-1, 16 * 5 * 5)\n",
        "        x = F.relu(self.fc1(x))\n",
        "        x = F.relu(self.fc2(x))\n",
        "        x = self.fc3(x)\n",
        "        return x\n"
      ],
      "metadata": {
        "id": "X6cUHM8q4qm0"
      },
      "execution_count": null,
      "outputs": []
    },
    {
      "cell_type": "code",
      "source": [],
      "metadata": {
        "id": "JC2dnvU0dJ_2"
      },
      "execution_count": null,
      "outputs": []
    },
    {
      "cell_type": "code",
      "source": [
        "# Define the loss function and optimizer\n",
        "net = Net()\n",
        "criterion = nn.CrossEntropyLoss()\n",
        "optimizer = optim.SGD(net.parameters(), lr=0.001, momentum=0.9)"
      ],
      "metadata": {
        "id": "qDTrrUBm4qka"
      },
      "execution_count": null,
      "outputs": []
    },
    {
      "cell_type": "code",
      "source": [
        "print(net)"
      ],
      "metadata": {
        "id": "b2XAwmTzdMIV",
        "outputId": "1294dd32-0ded-46ed-a681-803ee42fe592",
        "colab": {
          "base_uri": "https://localhost:8080/"
        }
      },
      "execution_count": null,
      "outputs": [
        {
          "output_type": "stream",
          "name": "stdout",
          "text": [
            "Net(\n",
            "  (conv1): Conv2d(3, 6, kernel_size=(5, 5), stride=(1, 1))\n",
            "  (pool): MaxPool2d(kernel_size=2, stride=2, padding=0, dilation=1, ceil_mode=False)\n",
            "  (conv2): Conv2d(6, 16, kernel_size=(5, 5), stride=(1, 1))\n",
            "  (fc1): Linear(in_features=400, out_features=120, bias=True)\n",
            "  (fc2): Linear(in_features=120, out_features=84, bias=True)\n",
            "  (fc3): Linear(in_features=84, out_features=10, bias=True)\n",
            ")\n"
          ]
        }
      ]
    },
    {
      "cell_type": "code",
      "source": [
        "# Train the network\n",
        "for epoch in range(10):  # loop over the dataset multiple times\n",
        "    running_loss = 0.0\n",
        "    for i, data in enumerate(trainloader, 0):\n",
        "        inputs, labels = data\n",
        "\n",
        "        optimizer.zero_grad()\n",
        "\n",
        "        outputs = net(inputs)\n",
        "        loss = criterion(outputs, labels)\n",
        "        loss.backward()\n",
        "        optimizer.step()\n",
        "\n",
        "        running_loss += loss.item()\n",
        "        if i % 2000 == 1999:  # print every 2000 mini-batches\n",
        "            print('[%d, %5d] loss: %.3f' %\n",
        "                  (epoch + 1, i + 1, running_loss / 2000))\n",
        "            running_loss = 0.0\n",
        "\n",
        "print('Finished Training')"
      ],
      "metadata": {
        "id": "Wt-obGtD4qhx",
        "colab": {
          "base_uri": "https://localhost:8080/"
        },
        "outputId": "ac9a0236-f5c8-4dcc-b5f6-4e27b59db020"
      },
      "execution_count": null,
      "outputs": [
        {
          "output_type": "stream",
          "name": "stdout",
          "text": [
            "[1,  2000] loss: 2.196\n",
            "[1,  4000] loss: 1.862\n",
            "[1,  6000] loss: 1.682\n",
            "[1,  8000] loss: 1.571\n",
            "[1, 10000] loss: 1.529\n",
            "[1, 12000] loss: 1.488\n",
            "[2,  2000] loss: 1.411\n",
            "[2,  4000] loss: 1.391\n",
            "[2,  6000] loss: 1.372\n",
            "[2,  8000] loss: 1.343\n",
            "[2, 10000] loss: 1.312\n",
            "[2, 12000] loss: 1.292\n",
            "[3,  2000] loss: 1.212\n",
            "[3,  4000] loss: 1.208\n",
            "[3,  6000] loss: 1.202\n",
            "[3,  8000] loss: 1.213\n",
            "[3, 10000] loss: 1.205\n",
            "[3, 12000] loss: 1.184\n",
            "[4,  2000] loss: 1.100\n",
            "[4,  4000] loss: 1.096\n",
            "[4,  6000] loss: 1.139\n",
            "[4,  8000] loss: 1.110\n",
            "[4, 10000] loss: 1.113\n",
            "[4, 12000] loss: 1.112\n",
            "[5,  2000] loss: 1.027\n",
            "[5,  4000] loss: 1.040\n",
            "[5,  6000] loss: 1.037\n",
            "[5,  8000] loss: 1.046\n",
            "[5, 10000] loss: 1.056\n",
            "[5, 12000] loss: 1.048\n",
            "[6,  2000] loss: 0.956\n",
            "[6,  4000] loss: 0.983\n",
            "[6,  6000] loss: 0.987\n",
            "[6,  8000] loss: 0.984\n",
            "[6, 10000] loss: 0.987\n",
            "[6, 12000] loss: 1.013\n",
            "[7,  2000] loss: 0.908\n",
            "[7,  4000] loss: 0.918\n",
            "[7,  6000] loss: 0.923\n",
            "[7,  8000] loss: 0.975\n",
            "[7, 10000] loss: 0.937\n",
            "[7, 12000] loss: 0.956\n",
            "[8,  2000] loss: 0.873\n",
            "[8,  4000] loss: 0.860\n",
            "[8,  6000] loss: 0.901\n",
            "[8,  8000] loss: 0.916\n",
            "[8, 10000] loss: 0.909\n",
            "[8, 12000] loss: 0.927\n",
            "[9,  2000] loss: 0.821\n",
            "[9,  4000] loss: 0.837\n",
            "[9,  6000] loss: 0.852\n",
            "[9,  8000] loss: 0.879\n",
            "[9, 10000] loss: 0.867\n",
            "[9, 12000] loss: 0.881\n",
            "[10,  2000] loss: 0.778\n",
            "[10,  4000] loss: 0.799\n",
            "[10,  6000] loss: 0.824\n",
            "[10,  8000] loss: 0.838\n",
            "[10, 10000] loss: 0.857\n",
            "[10, 12000] loss: 0.878\n",
            "Finished Training\n"
          ]
        }
      ]
    },
    {
      "cell_type": "markdown",
      "source": [
        "## 4. Testing"
      ],
      "metadata": {
        "id": "3vHyD2M5RUGD"
      }
    },
    {
      "cell_type": "code",
      "source": [
        "# Test the network on the test data\n",
        "correct = 0\n",
        "total = 0\n",
        "with torch.no_grad():\n",
        "    for data in testloader:\n",
        "        images, labels = data\n",
        "        outputs = net(images)\n",
        "        _, predicted = torch.max(outputs.data, 1)\n",
        "        total += labels.size(0)\n",
        "        correct += (predicted == labels).sum().item()\n",
        "\n",
        "print('Accuracy of the network on the 10000 test images: %d %%' % (\n",
        "    100 * correct / total))"
      ],
      "metadata": {
        "id": "7b0c4imP3bUd",
        "colab": {
          "base_uri": "https://localhost:8080/"
        },
        "outputId": "e572f6a3-bf7f-432e-b51f-faa0e7a7e07a"
      },
      "execution_count": null,
      "outputs": [
        {
          "output_type": "stream",
          "name": "stdout",
          "text": [
            "Accuracy of the network on the 10000 test images: 61 %\n"
          ]
        }
      ]
    },
    {
      "cell_type": "code",
      "source": [],
      "metadata": {
        "id": "_c00SCYd3bR6"
      },
      "execution_count": null,
      "outputs": []
    },
    {
      "cell_type": "code",
      "source": [],
      "metadata": {
        "id": "gIBUTJTvXe0X"
      },
      "execution_count": null,
      "outputs": []
    },
    {
      "cell_type": "code",
      "source": [],
      "metadata": {
        "id": "kaLMaZx-XexA"
      },
      "execution_count": null,
      "outputs": []
    },
    {
      "cell_type": "code",
      "source": [],
      "metadata": {
        "id": "ztTUh9_4XevG"
      },
      "execution_count": null,
      "outputs": []
    },
    {
      "cell_type": "code",
      "source": [],
      "metadata": {
        "id": "qKIF7jm6Xeo0"
      },
      "execution_count": null,
      "outputs": []
    }
  ]
}